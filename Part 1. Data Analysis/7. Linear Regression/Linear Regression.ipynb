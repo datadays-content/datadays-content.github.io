{
 "cells": [
  {
   "cell_type": "markdown",
   "metadata": {},
   "source": [
    "<body  style=\"background-color:rgb(11, 42, 73);\">\n",
    "    <div style=\"direction:rtl;line-height:300%;background-color:rgb(11, 42, 73);\">\n",
    "            <img src=\"./figs/Logo Final.jpg\" style=\"position:reletive;margin-top:15pt;float:right;background-color:rgb(11, 42, 73);\" width=\"200\" height=\"200\"/>\n",
    "    <img src=\"./figs/Sharif Logo.png\" style=\"position:reletive;margin-top:25pt;margin-left:20pt;float:left;background-color:rgb(11, 42, 73);\" width=\"170\" height=\"170\"/>\n",
    "\t\t<div align=center>\n",
    "\t\t\t<font face=\"IranNastaliq\" size=30 color=white>\n",
    "\t\t\t\t<p></p>\n",
    "\t\t\t\t<p></p>\n",
    "                <br>\n",
    "به نام خدا\n",
    "\t\t\t\t<p></p>\n",
    "\t\t\t</font>\n",
    "\t\t</div>\n",
    "        \t\t\t<div align=center style=\"color:white\">\n",
    "                        <font size=50 face=\"XB Niloofar\">\n",
    "                            <br>\n",
    "                            رگرسیون خطی\n",
    "                        </font>\n",
    "            </div>\n",
    "    </div>\n",
    "</body>"
   ]
  },
  {
   "cell_type": "markdown",
   "metadata": {},
   "source": [
    "<div style=\"direction:rtl;line-height:300%;\">\n",
    "\t<font face=\"XB Niloofar\" size=5>\n",
    "\t\t<hr />\n",
    "\t\t<style type=\"text/css\" scoped>\n",
    "        p{\n",
    "        border: 1px solid #a2a9b1;background-color: #f8f9fa;display: inline-block;\n",
    "        };\n",
    "        </style>\n",
    "        \t\t<div>\n",
    "\t\t\t<h3 style=\"color:#0051A2\">فهرست مطالب</h3>\n",
    "\t\t\t<ul style=\"margin-right: 0;\">\n",
    "                <li>\n",
    "\t\t\t\t\t<a href=\"#sec_packages\">\n",
    "                        کتاب‌خانه‌ها\n",
    "                    </a>\n",
    "\t\t\t\t</li>\n",
    "                <li>\n",
    "\t\t\t\t\t<a href=\"#sec_simple_reg\">\n",
    "                     رگرسیون خطی ساده\n",
    "                    </a>\n",
    "\t\t\t\t</li>\n",
    "                <li>\n",
    "\t\t\t\t\t<a href=\"#sec_multi_reg\">\n",
    "                        رگرسیون خطی چندتایی\n",
    "                    </a>\n",
    "\t\t\t\t</li>\n",
    "                <li>\n",
    "\t\t\t\t\t<a href=\"#sec_intraction_terms\">\n",
    "                        روابط متقابل(interaction terms)\n",
    "                    </a>\n",
    "\t\t\t\t</li>\n",
    "                <li>\n",
    "\t\t\t\t\t<a href=\"#sec_nonlinear_pred\">\n",
    "تبدیل غیرخطی پیش‌بین‌ها\n",
    "                    </a>\n",
    "\t\t\t\t</li>\n",
    "\t\t\t</ul>\n",
    "                    <hr>\n",
    "\t\t</div>\n",
    "\t</font>\n",
    "</div>"
   ]
  },
  {
   "cell_type": "markdown",
   "metadata": {},
   "source": [
    "<div id=\"sec_packages\" style=\"direction:rtl;line-height:300%;\">\n",
    "    \t<font face=\"XB Niloofar\" size=5>\n",
    "\t\t<font color=#006FDE size=6>\n",
    "کتاب‌خانه‌ها\n",
    "        </font>\n",
    "            <hr>\n",
    "\t\t<p></p>\n",
    "\t<font face=\"XB Zar\" size=5>\n",
    "    در این بخش از دیتافریم‌های موجود در کتابخانه MASS استفاده می‌کنیم.\n",
    "    <br>\n",
    "دیتافریم Boston : داده‌های جمع‌آوری شده از میانگین قیمت خانه‌های ۵۰۶ محله در اطراف بوستون.\n",
    "    <br>\n",
    "برای دیدن اطلاعات این دیتافریم و توضیح هر یک از متغیر‌ها کافیست مستندات آن را مطالعه کنید. \n",
    "\t</font>\n",
    "</div>"
   ]
  },
  {
   "cell_type": "code",
   "execution_count": 1,
   "metadata": {},
   "outputs": [
    {
     "name": "stderr",
     "output_type": "stream",
     "text": [
      "Warning message in install.packages(\"MASS\", repos = \"http://cran.us.r-project.org\"):\n",
      "“installation of package ‘MASS’ had non-zero exit status”Updating HTML index of packages in '.Library'\n",
      "Making 'packages.html' ... done\n"
     ]
    }
   ],
   "source": [
    "install.packages(\"MASS\", repos='http://cran.us.r-project.org')"
   ]
  },
  {
   "cell_type": "code",
   "execution_count": 2,
   "metadata": {},
   "outputs": [],
   "source": [
    "library(MASS)"
   ]
  },
  {
   "cell_type": "code",
   "execution_count": null,
   "metadata": {},
   "outputs": [],
   "source": [
    "fix(Boston)\n",
    "names(Boston)\n",
    "?Boston"
   ]
  },
  {
   "cell_type": "markdown",
   "metadata": {},
   "source": [
    "<div id=\"sec_simple_reg\" style=\"direction:rtl;line-height:300%;\">\n",
    "    \t<font face=\"XB Niloofar\" size=5>\n",
    "\t\t<font color=#006FDE size=6>\n",
    "رگرسیون خطی ساده\n",
    "        </font>\n",
    "            <hr>\n",
    "\t\t<p></p>\n",
    "\t<font face=\"XB Niloofar\" size=5>\n",
    "    برای شروع با استفاده از تابع lm() یک مدل ساده‌ی رگرسیون خطی را با medv به عنوان پاسخ(response) و lstat به عنوان پیش‌بین(predictor) بر داده‌ها منطبق می کنیم. سینتکس این کد به صورت lm(response~predictor, data) است. \n",
    "\t</font>\n",
    "</div>"
   ]
  },
  {
   "cell_type": "code",
   "execution_count": null,
   "metadata": {},
   "outputs": [],
   "source": [
    "lm.fit=lm(medv~lstat ,data=Boston)\n",
    "attach(Boston)\n",
    "lm.fit=lm(medv~lstat)"
   ]
  },
  {
   "cell_type": "markdown",
   "metadata": {},
   "source": [
    "<div style=\"direction:rtl;line-height:300%;\">\n",
    "\t<font face=\"XB Niloofar\" size=5>\n",
    "        با تایپ کردن lm.fit برخی اطلاعات اساسی در مورد مدل نشان داده می‌شوند.\n",
    "\t</font>\n",
    "</div>"
   ]
  },
  {
   "cell_type": "code",
   "execution_count": null,
   "metadata": {},
   "outputs": [],
   "source": [
    "lm.fit"
   ]
  },
  {
   "cell_type": "markdown",
   "metadata": {},
   "source": [
    "<div style=\"direction:rtl;line-height:300%;\">\n",
    "\t<font face=\"XB Niloofar\" size=5>\n",
    "        برای اطلاعات جزئی‌تر از summary(lm.fit) استفاده ‌می‌کنیم.\n",
    "\t</font>\n",
    "</div>"
   ]
  },
  {
   "cell_type": "code",
   "execution_count": null,
   "metadata": {},
   "outputs": [],
   "source": [
    "summary(lm.fit)"
   ]
  },
  {
   "cell_type": "markdown",
   "metadata": {},
   "source": [
    "<div style=\"direction:rtl;line-height:300%;\">\n",
    "\t<font face=\"XB Niloofar\" size=5>\n",
    "        با استفاده از تابع names() می‌توانیم بقیه اطلاعاتی که در lm.fit ذخیره‌ شده‌اند ببینیم.\n",
    "\t</font>\n",
    "</div>"
   ]
  },
  {
   "cell_type": "code",
   "execution_count": null,
   "metadata": {},
   "outputs": [],
   "source": [
    "names(lm.fit)"
   ]
  },
  {
   "cell_type": "markdown",
   "metadata": {},
   "source": [
    "<div style=\"direction:rtl;line-height:300%;\">\n",
    "\t<font face=\"XB Niloofar\" size=5>\n",
    "        مقادیر مختلف را می‌توان با اسم‌شان به صورت زیر مشاهده کرد.\n",
    "\t</font>\n",
    "</div>"
   ]
  },
  {
   "cell_type": "code",
   "execution_count": null,
   "metadata": {},
   "outputs": [],
   "source": [
    "lm.fit$coefficients"
   ]
  },
  {
   "cell_type": "markdown",
   "metadata": {},
   "source": [
    "<div style=\"direction:rtl;line-height:300%;\">\n",
    "\t<font face=\"XB Niloofar\" size=5>\n",
    "        اما استفاده از توابع استخراج کننده مانند coef() برای دسترسی به آن‌ها ساده‌تر است:\n",
    "\t</font>\n",
    "</div>"
   ]
  },
  {
   "cell_type": "code",
   "execution_count": null,
   "metadata": {},
   "outputs": [],
   "source": [
    "coef(lm.fit)"
   ]
  },
  {
   "cell_type": "markdown",
   "metadata": {},
   "source": [
    "<div style=\"direction:rtl;line-height:300%;\">\n",
    "\t<font face=\"XB Niloofar\" size=5>\n",
    "برای بدست آوردن یک بازه‌ی اطمینان برای تقریب ضرایب می‌توانیم از دستور زیر استفاده کنیم:\t</font>\n",
    "</div>"
   ]
  },
  {
   "cell_type": "code",
   "execution_count": null,
   "metadata": {},
   "outputs": [],
   "source": [
    "confint(lm.fit)"
   ]
  },
  {
   "cell_type": "markdown",
   "metadata": {},
   "source": [
    "<div style=\"direction:rtl;line-height:300%;\">\n",
    "\t<font face=\"XB Niloofar\" size=5>\n",
    "تابع predict() برای ساختن بازه‌های اطمینان و بازه‌های پیش‌بینی برای پیش‌بینی medv برای یک مقدار lstat ورودی است.    </font>\n",
    "</div>"
   ]
  },
  {
   "cell_type": "code",
   "execution_count": null,
   "metadata": {},
   "outputs": [],
   "source": [
    "predict(lm.fit,data.frame(lstat=(c(5,10,15))), interval =\" confidence \")"
   ]
  },
  {
   "cell_type": "code",
   "execution_count": null,
   "metadata": {},
   "outputs": [],
   "source": [
    "predict(lm.fit,data.frame(lstat=(c(5,10,15))), interval =\" prediction \")"
   ]
  },
  {
   "cell_type": "markdown",
   "metadata": {},
   "source": [
    "<div style=\"direction:rtl;line-height:300%;\">\n",
    "\t<font face=\"XB Niloofar\" size=5>\n",
    "حال با استفاده از plot() و abline()، نمودار medv و lstat را به همراه رگرسیون کوچکترین مربعات رسم می‌کنیم:\n",
    "    </font>\n",
    "</div>"
   ]
  },
  {
   "cell_type": "code",
   "execution_count": null,
   "metadata": {},
   "outputs": [],
   "source": [
    "plot(lstat ,medv)\n",
    "abline(lm.fit)"
   ]
  },
  {
   "cell_type": "markdown",
   "metadata": {},
   "source": [
    "<div style=\"direction:rtl;line-height:300%;\">\n",
    "\t<font face=\"XB Niloofar\" size=5>\n",
    "به نظر می‌رسد رابطه‌ی بین lstat و medv در اینجا غیرخطی است. جلوتر به این مساله خواهیم پرداخت.\n",
    "        <br>\n",
    "        با اعمال کردن plot() مستقیما بر روی خروجی lm() چهار نمودارِ تشخیصی رسم می‌شوند. در واقع این دستور یک نمودار را نمایش می‌دهد و با زدن دکمه‌ی enter می‌توان نمودار بعدی را مشاهده کرد. با استفاده از تابع par() می‌توان هر چهار نمودار را با هم دید. \n",
    "    </font>\n",
    "</div>"
   ]
  },
  {
   "cell_type": "code",
   "execution_count": null,
   "metadata": {},
   "outputs": [],
   "source": [
    "## divides the plotting region into a 2 × 2 grid of panels\n",
    "par(mfrow=c(2,2)) \n",
    "plot(lm.fit)"
   ]
  },
  {
   "cell_type": "markdown",
   "metadata": {},
   "source": [
    "<div style=\"direction:rtl;line-height:300%;\">\n",
    "\t<font face=\"XB Niloofar\" size=5>\n",
    "می‌توانیم انحراف‌‌های برازش یک رگرسیون خطی را با استفاده از تابع residuals() محاسبه کنیم.    </font>\n",
    "</div>"
   ]
  },
  {
   "cell_type": "code",
   "execution_count": null,
   "metadata": {},
   "outputs": [],
   "source": [
    "plot(predict(lm.fit), residuals(lm.fit))\n",
    "plot(predict(lm.fit), rstudent(lm.fit))"
   ]
  },
  {
   "cell_type": "markdown",
   "metadata": {},
   "source": [
    "<div style=\"direction:rtl;line-height:300%;\">\n",
    "\t<font face=\"XB Niloofar\" size=5>\n",
    "با مشاهده نمودارهای انحراف می‌توان به غیرخطی بودن رابطه پی برد.\n",
    "        <br>\n",
    "        می‌توانیم با تابع hatvalues() آماره‌های leverage را برای هر تعداد پیش‌بین محاسبه کنیم. تابع which.max() اندیس بزرگترین عنصر یک بردار را مشخص می‌کند. در اینجا نشان می‌دهد که کدام مشاهده بزرگترین آماره‌ی leverage را داشته است:\n",
    "    </font>\n",
    "</div>"
   ]
  },
  {
   "cell_type": "code",
   "execution_count": null,
   "metadata": {},
   "outputs": [],
   "source": [
    "plot(hatvalues (lm.fit))\n",
    "which.max(hatvalues (lm.fit))"
   ]
  },
  {
   "cell_type": "markdown",
   "metadata": {},
   "source": [
    "<div id=\"sec_multi_reg\" style=\"direction:rtl;line-height:300%;\">\n",
    "        \t<font face=\"XB Niloofar\" size=5>\n",
    "\t\t<font color=#006FDE size=6>\n",
    "رگرسیون خطی چندتایی\n",
    "        </font>\n",
    "            <hr>\n",
    "\t<font face=\"XB Zar\" size=5>\n",
    "برای برازش یک مدل با رگرسیون خطی چندتایی با استفاده از کمترین مربعات، مجددا از تابع lm() استفاده می‌کنیم.\n",
    "    </font>\n",
    "</div>"
   ]
  },
  {
   "cell_type": "code",
   "execution_count": null,
   "metadata": {},
   "outputs": [],
   "source": [
    "## The syntax lm(y∼x1+x2+x3) is used to fit a model with three predictors, x1, x2, and x3.\n",
    "lm.fit=lm(medv~lstat+age,data=Boston) \n",
    "summary(lm.fit)"
   ]
  },
  {
   "cell_type": "markdown",
   "metadata": {},
   "source": [
    "<div style=\"direction:rtl;line-height:300%;\">\n",
    "\t<font face=\"XB Niloofar\" size=5>\n",
    "مجموعه داده‌ی Boston شامل ۱۳ متغیر می‌شود. برای سادگی نوشتار، می‌توان از سینکس زیر برای پیاده‌سازی رگرسیون با استفاده از تمامی این متغیرها استفاده کرد:    </font>\n",
    "</div>"
   ]
  },
  {
   "cell_type": "code",
   "execution_count": null,
   "metadata": {},
   "outputs": [],
   "source": [
    "lm.fit=lm(medv~.,data=Boston) \n",
    "summary(lm.fit)"
   ]
  },
  {
   "cell_type": "markdown",
   "metadata": {},
   "source": [
    "<div style=\"direction:rtl;line-height:300%;\">\n",
    "\t<font face=\"XB Niloofar\" size=5>\n",
    "ما می‌توانیم به تک تک اجزای شیء  summary با نام‌شان دسترسی پیدا کنیم ( دستور ?summary.lm را تایپ کنید تا موارد ممکن را ببینید). \n",
    "    </font>\n",
    "</div>"
   ]
  },
  {
   "cell_type": "code",
   "execution_count": null,
   "metadata": {},
   "outputs": [],
   "source": [
    "## gives us R^2\n",
    "summary(lm.fit)$r.sq\n",
    "\n",
    "## gives us RSE\n",
    "summary(lm.fit)$sigma"
   ]
  },
  {
   "cell_type": "markdown",
   "metadata": {},
   "source": [
    "<div style=\"direction:rtl;line-height:300%;\">\n",
    "\t<font face=\"XB Niloofar\" size=5>\n",
    "مثالی از اجرای رگرسیون با همه‌ی متغیرها به غیر از یکی:\n",
    "    </font>\n",
    "</div>"
   ]
  },
  {
   "cell_type": "code",
   "execution_count": null,
   "metadata": {},
   "outputs": [],
   "source": [
    "lm.fit1=lm(medv~.-age,data=Boston)\n",
    "summary(lm.fit1)"
   ]
  },
  {
   "cell_type": "markdown",
   "metadata": {},
   "source": [
    "<div style=\"direction:rtl;line-height:300%;\">\n",
    "\t<font face=\"XB Niloofar\" size=5>\n",
    "هم‌چنین از تابع update() می‌توان استفاده کرد:\n",
    "    </font>\n",
    "</div>"
   ]
  },
  {
   "cell_type": "code",
   "execution_count": null,
   "metadata": {},
   "outputs": [],
   "source": [
    "lm.fit1=update(lm.fit, ~.-age)"
   ]
  },
  {
   "cell_type": "markdown",
   "metadata": {},
   "source": [
    "<div id=\"sec_intraction_terms\" style=\"direction:rtl;line-height:300%;\">\n",
    "        \t<font face=\"XB Niloofar\" size=5>\n",
    "\t\t<font color=#006FDE size=6>\n",
    "روابط متقابل(interaction terms)\n",
    "        </font>\n",
    "            <hr>\n",
    "\t<font face=\"XB Zar\" size=5>\n",
    "دستورِ lstat:black در R یک تقابل بین lstat و black ایجاد می‌کند. دستورِ lstat*age به طور همزمان lstat و age رابطه lstat×age را به عنوان پیش‌بین قرار می‌دهد (در واقع خلاصه شده‌ی عبارت lstat+age+lstat:age است)\n",
    "                </font>\n",
    "</div>"
   ]
  },
  {
   "cell_type": "code",
   "execution_count": null,
   "metadata": {},
   "outputs": [],
   "source": [
    "summary(lm(medv~lstat*age,data=Boston))"
   ]
  },
  {
   "cell_type": "markdown",
   "metadata": {},
   "source": [
    "<div id=\"sec_nonlinear_pred\" style=\"direction:rtl;line-height:300%;\">\n",
    "        \t<font face=\"XB Niloofar\" size=5>\n",
    "\t\t<font color=#006FDE size=6>\n",
    "تبدیل غیرخطی پیش‌بین‌ها\n",
    "        </font>\n",
    "            <hr>\n",
    "\t<font face=\"XB Zar\" size=5>\n",
    "تابع lm() می‌تواند با تبدیل‌های غیرخطی پیش‌بین‌ها استفاده شود. به طور مثال ما می‌توانیم با داشتن یک پیش‌بینِ X، یک پیش‌بینِ X<sup>2</sup> را با استفاده از I<i>(X^2)</i> ساخت. به طور مثال:\n",
    "                </font>\n",
    "</div>"
   ]
  },
  {
   "cell_type": "code",
   "execution_count": null,
   "metadata": {},
   "outputs": [],
   "source": [
    "lm.fit2=lm(medv~lstat+I(lstat^2))\n",
    "summary(lm.fit2)"
   ]
  },
  {
   "cell_type": "markdown",
   "metadata": {},
   "source": [
    "<div style=\"direction:rtl;line-height:300%;\">\n",
    "\t<font face=\"XB Niloofar\" size=5>\n",
    "یک p-value غیرصفر مرتبط با یک عبارت درجه دوم، نشان می‌دهد که مدل بهتر شده است. برای نشان دادن برتری بردازش درجه دوم به بردازش خطی به بیانی دیگر، از تابع anova() استفاده می‌کنیم.    </font>\n",
    "</div>"
   ]
  },
  {
   "cell_type": "code",
   "execution_count": null,
   "metadata": {},
   "outputs": [],
   "source": [
    "lm.fit=lm(medv~lstat)\n",
    "anova(lm.fit ,lm.fit2)"
   ]
  },
  {
   "cell_type": "markdown",
   "metadata": {},
   "source": [
    "<div style=\"direction:rtl;line-height:300%;\">\n",
    "\t<font face=\"XB Niloofar\" size=5>\n",
    "تابع anova() در این جا یک آزمون فرض اجرا می‌کند که دو مدل را مقایسه کند. فرض صفر این است که دو مدل به یک اندازه بر داده منطبق می‌شوند و فرض دیگر این است که مدل دوم بهتر است.\n",
    "        <br>\n",
    "        در اینجا F-statistic، عدد ۱۳۵  است و p-value مربوطه تقریبا صفر است. این به روشنی نشان می‌دهد که مدلی که شامل پیش‌بین‌های ‌‌lstat و  lstat<sup>2</sup> می‌شود به مراتب برتر از مدلی‌‌ست که فقط پیش‌بینِ lstat را دارد. همان‌طور که پیش‌تر هم شواهدی از رابطه‌ای غیرخطی بین medv و lstat دیده بودیم.\n",
    "         <br><br>\n",
    "        با استفاده از تابع poly() می‌توان چندجمله‌ای‌هایی با درجات بالاتر را نیز به سادگی در lm() ساخت. به طور مثال:\n",
    "    </font>\n",
    "</div>"
   ]
  },
  {
   "cell_type": "code",
   "execution_count": null,
   "metadata": {},
   "outputs": [],
   "source": [
    "## produces a fifth-order polynomial fit\n",
    "lm.fit5=lm(medv~poly(lstat ,5))\n",
    "summary(lm.fit5)"
   ]
  },
  {
   "cell_type": "markdown",
   "metadata": {},
   "source": [
    "<div style=\"direction:rtl;line-height:300%;\">\n",
    "\t<font face=\"XB Niloofar\" size=5>\n",
    "مثالی از تبدیل غیرچندجمله‌ای:\n",
    "    </font>\n",
    "</div>"
   ]
  },
  {
   "cell_type": "code",
   "execution_count": null,
   "metadata": {},
   "outputs": [],
   "source": [
    "summary(lm(medv~log(rm),data=Boston))"
   ]
  }
 ],
 "metadata": {
  "kernelspec": {
   "display_name": "R",
   "language": "R",
   "name": "ir"
  },
  "language_info": {
   "codemirror_mode": "r",
   "file_extension": ".r",
   "mimetype": "text/x-r-source",
   "name": "R",
   "pygments_lexer": "r",
   "version": "3.5.1"
  }
 },
 "nbformat": 4,
 "nbformat_minor": 2
}
