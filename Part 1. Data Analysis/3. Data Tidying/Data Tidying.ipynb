{
 "cells": [
  {
   "cell_type": "markdown",
   "metadata": {},
   "source": [
    "<body  style=\"background-color:rgb(11, 42, 73);\">\n",
    "    <div style=\"direction:rtl;line-height:300%;background-color:rgb(11, 42, 73);\">\n",
    "            <img src=\"./figs/Logo Final.jpg\" style=\"position:reletive;margin-top:15pt;float:right;background-color:rgb(11, 42, 73);\" width=\"200\" height=\"200\"/>\n",
    "    <img src=\"./figs/Sharif Logo.png\" style=\"position:reletive;margin-top:25pt;margin-left:20pt;float:left;background-color:rgb(11, 42, 73);\" width=\"170\" height=\"170\"/>\n",
    "\t\t<div align=center>\n",
    "\t\t\t<font face=\"IranNastaliq\" size=30 color=white>\n",
    "\t\t\t\t<p></p>\n",
    "\t\t\t\t<p></p>\n",
    "                <br>\n",
    "به نام خدا\n",
    "\t\t\t\t<p></p>\n",
    "\t\t\t</font>\n",
    "\t\t</div>\n",
    "        \t\t\t<div align=center style=\"color:white\">\n",
    "                        <font size=50 face=\"XB Niloofar\">\n",
    "                            <br>\n",
    "                           پاک‌سازی داده\n",
    "                        </font>\n",
    "            </div>\n",
    "    </div>\n",
    "</body>"
   ]
  },
  {
   "cell_type": "markdown",
   "metadata": {},
   "source": [
    "<div style=\"direction:rtl;line-height:300%;\">\n",
    "\t<font face=\"XB Niloofar\" size=5>\n",
    "\t\t<hr />\n",
    "\t\t<style type=\"text/css\" scoped>\n",
    "        p{\n",
    "        border: 1px solid #a2a9b1;background-color: #f8f9fa;display: inline-block;\n",
    "        };\n",
    "        </style>\n",
    "\t\t<div>\n",
    "\t\t\t<h3 style=\"color:#0051A2\">فهرست مطالب</h3>\n",
    "\t\t\t<ul style=\"margin-right: 0;\">\n",
    "                <li>\n",
    "\t\t\t\t\t<a href=\"#intro\">\n",
    "                        مقدمه\n",
    "                    </a>\n",
    "\t\t\t\t</li>\n",
    "                <li>\n",
    "\t\t\t\t\t<a href=\"#packages\">\n",
    "                      نصب پکیج‌ها\n",
    "                    </a>\n",
    "\t\t\t\t</li>\n",
    "                <li>\n",
    "\t\t\t\t\t<a href=\"#tidy_data\">\n",
    "                       داده‌ی تمیز\n",
    "                    </a>\n",
    "\t\t\t\t</li>\n",
    "                <li>\n",
    "\t\t\t\t\t<a href=\"#spread_and_gather\">\n",
    "                        توابع spread() و gather()\n",
    "                    </a>\n",
    "\t\t\t\t</li>\n",
    "                <li>\n",
    "\t\t\t\t\t<a href=\"#spread\">\n",
    "                        spread()\n",
    "                    </a>\n",
    "\t\t\t\t</li>\n",
    "                <li>\n",
    "\t\t\t\t\t<a href=\"#gather\">\n",
    "                        gather()\n",
    "                    </a>\n",
    "\t\t\t\t</li>\n",
    "\t\t\t</ul>\n",
    "            <hr>\n",
    "\t\t</div>\n",
    "\t</font>\n",
    "</div>"
   ]
  },
  {
   "cell_type": "markdown",
   "metadata": {},
   "source": [
    "<p></p>\n",
    "<br />\n",
    "<div id=\"intro\" style=\"direction:rtl;line-height:300%;\">\n",
    "\t<font face=\"XB Niloofar\" size=5>\n",
    "\t\t<font color=#006FDE size=6>\n",
    "مقدمه\n",
    "        </font>\n",
    "\t\t<p></p>\n",
    "\t\t<hr>\n",
    "        تمامی پروژه‌‌های علوم داده، با یک کار شروع می‌شوند: شما باید داده‌ی خود را برای استفاده از آن با کامپیوتر آماده کنید.\n",
    "        <br>\n",
    "        داده‌ها باید متناسب با هر برنامه‌ی کامپیوتری، به شکلی مشخص تنظیم شوند. پاک‌سازی داده (data tidying) ، به عنوان اولین قدم از شروع کار، یکی از مهم‌ترین مهارت‌های یک متخصص علوم داده است. این کار مصورسازی، تحلیل و مدل کردن داده‌ی شما با R را بسیار آسان‌تر می‌کند.  \n",
    "        <br>\n",
    "        در این بخش به روش‌های پاک‌سازی داده می‌پردازیم.\n",
    "        <br>\n",
    "\t</font>\n",
    "</div>"
   ]
  },
  {
   "cell_type": "markdown",
   "metadata": {},
   "source": [
    "<br>\n",
    "<div id=\"packages\" style=\"direction:rtl;line-height:300%;\">\n",
    "\t<font face=\"XB Niloofar\" size=5>\n",
    "\t\t<font color=#006FDE size=6>\n",
    "        نصب پکیج‌ها\n",
    "        </font>\n",
    "\t\t<p></p>\n",
    "        <hr>\n",
    "        در این بخش پکیج‌های tidyr و devtools را باید نصب کنید.\n",
    "\t</font>\n",
    "</div>"
   ]
  },
  {
   "cell_type": "code",
   "execution_count": null,
   "metadata": {},
   "outputs": [],
   "source": [
    "install.packages(c(\"tidyr\", \"devtools\"))"
   ]
  },
  {
   "cell_type": "markdown",
   "metadata": {},
   "source": [
    "\n",
    "<div id=\"sec_whatisR\" style=\"direction:rtl;line-height:300%;\">\n",
    "\t<font face=\"XB Niloofar\" size=5>\n",
    "هم‌چنین از دیتاست‌های پکیج DSR در این بخش استفاده شده است که با دستور زیر قابل نصب است:\n",
    "\t</font>\n",
    "</div>"
   ]
  },
  {
   "cell_type": "code",
   "execution_count": null,
   "metadata": {},
   "outputs": [],
   "source": [
    "devtools::install_github(\"garrettgman/DSR\")"
   ]
  },
  {
   "cell_type": "markdown",
   "metadata": {},
   "source": [
    "<p></p>\n",
    "<br />\n",
    "<div id=\"tidy_data\" style=\"direction:rtl;line-height:300%;\">\n",
    "\t<font face=\"XB Niloofar\" size=5>\n",
    "\t\t<font color=#006FDE size=6>\n",
    "داده تمیز\n",
    "        </font>\n",
    "\t\t<p></p>\n",
    "\t\t<hr>\n",
    "شما می‌توانید داده‌های جدولی را به صورت‌های مختلفی مرتب کنید. در مثال زیر یک داده‌ی یکسان به چهار حالت مختلف در دیتاست‌های گوناگون مرتب شده است. هر دیتاست ۴ متغیرِ country، year، population، و cases را نمایش می‌دهد اما هر کدام از دیتاست‌ها این مقادیر را در یک آرایش متفاوت ترتیب می‌دهند.\n",
    "\t</font>\n",
    "</div>"
   ]
  },
  {
   "cell_type": "code",
   "execution_count": 1,
   "metadata": {},
   "outputs": [
    {
     "data": {
      "text/html": [
       "<table>\n",
       "<thead><tr><th scope=col>country</th><th scope=col>year</th><th scope=col>cases</th><th scope=col>population</th></tr></thead>\n",
       "<tbody>\n",
       "\t<tr><td>Afghanistan</td><td>1999       </td><td>   745     </td><td>  19987071 </td></tr>\n",
       "\t<tr><td>Afghanistan</td><td>2000       </td><td>  2666     </td><td>  20595360 </td></tr>\n",
       "\t<tr><td>Brazil     </td><td>1999       </td><td> 37737     </td><td> 172006362 </td></tr>\n",
       "\t<tr><td>Brazil     </td><td>2000       </td><td> 80488     </td><td> 174504898 </td></tr>\n",
       "\t<tr><td>China      </td><td>1999       </td><td>212258     </td><td>1272915272 </td></tr>\n",
       "\t<tr><td>China      </td><td>2000       </td><td>213766     </td><td>1280428583 </td></tr>\n",
       "</tbody>\n",
       "</table>\n"
      ],
      "text/latex": [
       "\\begin{tabular}{r|llll}\n",
       " country & year & cases & population\\\\\n",
       "\\hline\n",
       "\t Afghanistan & 1999        &    745      &   19987071 \\\\\n",
       "\t Afghanistan & 2000        &   2666      &   20595360 \\\\\n",
       "\t Brazil      & 1999        &  37737      &  172006362 \\\\\n",
       "\t Brazil      & 2000        &  80488      &  174504898 \\\\\n",
       "\t China       & 1999        & 212258      & 1272915272 \\\\\n",
       "\t China       & 2000        & 213766      & 1280428583 \\\\\n",
       "\\end{tabular}\n"
      ],
      "text/markdown": [
       "\n",
       "| country | year | cases | population |\n",
       "|---|---|---|---|\n",
       "| Afghanistan | 1999        |    745      |   19987071  |\n",
       "| Afghanistan | 2000        |   2666      |   20595360  |\n",
       "| Brazil      | 1999        |  37737      |  172006362  |\n",
       "| Brazil      | 2000        |  80488      |  174504898  |\n",
       "| China       | 1999        | 212258      | 1272915272  |\n",
       "| China       | 2000        | 213766      | 1280428583  |\n",
       "\n"
      ],
      "text/plain": [
       "  country     year cases  population\n",
       "1 Afghanistan 1999    745   19987071\n",
       "2 Afghanistan 2000   2666   20595360\n",
       "3 Brazil      1999  37737  172006362\n",
       "4 Brazil      2000  80488  174504898\n",
       "5 China       1999 212258 1272915272\n",
       "6 China       2000 213766 1280428583"
      ]
     },
     "metadata": {},
     "output_type": "display_data"
    },
    {
     "data": {
      "text/html": [
       "<table>\n",
       "<thead><tr><th scope=col>country</th><th scope=col>year</th><th scope=col>key</th><th scope=col>value</th></tr></thead>\n",
       "<tbody>\n",
       "\t<tr><td>Afghanistan</td><td>1999       </td><td>cases      </td><td>       745 </td></tr>\n",
       "\t<tr><td>Afghanistan</td><td>1999       </td><td>population </td><td>  19987071 </td></tr>\n",
       "\t<tr><td>Afghanistan</td><td>2000       </td><td>cases      </td><td>      2666 </td></tr>\n",
       "\t<tr><td>Afghanistan</td><td>2000       </td><td>population </td><td>  20595360 </td></tr>\n",
       "\t<tr><td>Brazil     </td><td>1999       </td><td>cases      </td><td>     37737 </td></tr>\n",
       "\t<tr><td>Brazil     </td><td>1999       </td><td>population </td><td> 172006362 </td></tr>\n",
       "\t<tr><td>Brazil     </td><td>2000       </td><td>cases      </td><td>     80488 </td></tr>\n",
       "\t<tr><td>Brazil     </td><td>2000       </td><td>population </td><td> 174504898 </td></tr>\n",
       "\t<tr><td>China      </td><td>1999       </td><td>cases      </td><td>    212258 </td></tr>\n",
       "\t<tr><td>China      </td><td>1999       </td><td>population </td><td>1272915272 </td></tr>\n",
       "\t<tr><td>China      </td><td>2000       </td><td>cases      </td><td>    213766 </td></tr>\n",
       "\t<tr><td>China      </td><td>2000       </td><td>population </td><td>1280428583 </td></tr>\n",
       "</tbody>\n",
       "</table>\n"
      ],
      "text/latex": [
       "\\begin{tabular}{r|llll}\n",
       " country & year & key & value\\\\\n",
       "\\hline\n",
       "\t Afghanistan & 1999        & cases       &        745 \\\\\n",
       "\t Afghanistan & 1999        & population  &   19987071 \\\\\n",
       "\t Afghanistan & 2000        & cases       &       2666 \\\\\n",
       "\t Afghanistan & 2000        & population  &   20595360 \\\\\n",
       "\t Brazil      & 1999        & cases       &      37737 \\\\\n",
       "\t Brazil      & 1999        & population  &  172006362 \\\\\n",
       "\t Brazil      & 2000        & cases       &      80488 \\\\\n",
       "\t Brazil      & 2000        & population  &  174504898 \\\\\n",
       "\t China       & 1999        & cases       &     212258 \\\\\n",
       "\t China       & 1999        & population  & 1272915272 \\\\\n",
       "\t China       & 2000        & cases       &     213766 \\\\\n",
       "\t China       & 2000        & population  & 1280428583 \\\\\n",
       "\\end{tabular}\n"
      ],
      "text/markdown": [
       "\n",
       "| country | year | key | value |\n",
       "|---|---|---|---|\n",
       "| Afghanistan | 1999        | cases       |        745  |\n",
       "| Afghanistan | 1999        | population  |   19987071  |\n",
       "| Afghanistan | 2000        | cases       |       2666  |\n",
       "| Afghanistan | 2000        | population  |   20595360  |\n",
       "| Brazil      | 1999        | cases       |      37737  |\n",
       "| Brazil      | 1999        | population  |  172006362  |\n",
       "| Brazil      | 2000        | cases       |      80488  |\n",
       "| Brazil      | 2000        | population  |  174504898  |\n",
       "| China       | 1999        | cases       |     212258  |\n",
       "| China       | 1999        | population  | 1272915272  |\n",
       "| China       | 2000        | cases       |     213766  |\n",
       "| China       | 2000        | population  | 1280428583  |\n",
       "\n"
      ],
      "text/plain": [
       "   country     year key        value     \n",
       "1  Afghanistan 1999 cases             745\n",
       "2  Afghanistan 1999 population   19987071\n",
       "3  Afghanistan 2000 cases            2666\n",
       "4  Afghanistan 2000 population   20595360\n",
       "5  Brazil      1999 cases           37737\n",
       "6  Brazil      1999 population  172006362\n",
       "7  Brazil      2000 cases           80488\n",
       "8  Brazil      2000 population  174504898\n",
       "9  China       1999 cases          212258\n",
       "10 China       1999 population 1272915272\n",
       "11 China       2000 cases          213766\n",
       "12 China       2000 population 1280428583"
      ]
     },
     "metadata": {},
     "output_type": "display_data"
    },
    {
     "data": {
      "text/html": [
       "<table>\n",
       "<thead><tr><th scope=col>country</th><th scope=col>year</th><th scope=col>rate</th></tr></thead>\n",
       "<tbody>\n",
       "\t<tr><td>Afghanistan      </td><td>1999             </td><td>745/19987071     </td></tr>\n",
       "\t<tr><td>Afghanistan      </td><td>2000             </td><td>2666/20595360    </td></tr>\n",
       "\t<tr><td>Brazil           </td><td>1999             </td><td>37737/172006362  </td></tr>\n",
       "\t<tr><td>Brazil           </td><td>2000             </td><td>80488/174504898  </td></tr>\n",
       "\t<tr><td>China            </td><td>1999             </td><td>212258/1272915272</td></tr>\n",
       "\t<tr><td>China            </td><td>2000             </td><td>213766/1280428583</td></tr>\n",
       "</tbody>\n",
       "</table>\n"
      ],
      "text/latex": [
       "\\begin{tabular}{r|lll}\n",
       " country & year & rate\\\\\n",
       "\\hline\n",
       "\t Afghanistan       & 1999              & 745/19987071     \\\\\n",
       "\t Afghanistan       & 2000              & 2666/20595360    \\\\\n",
       "\t Brazil            & 1999              & 37737/172006362  \\\\\n",
       "\t Brazil            & 2000              & 80488/174504898  \\\\\n",
       "\t China             & 1999              & 212258/1272915272\\\\\n",
       "\t China             & 2000              & 213766/1280428583\\\\\n",
       "\\end{tabular}\n"
      ],
      "text/markdown": [
       "\n",
       "| country | year | rate |\n",
       "|---|---|---|\n",
       "| Afghanistan       | 1999              | 745/19987071      |\n",
       "| Afghanistan       | 2000              | 2666/20595360     |\n",
       "| Brazil            | 1999              | 37737/172006362   |\n",
       "| Brazil            | 2000              | 80488/174504898   |\n",
       "| China             | 1999              | 212258/1272915272 |\n",
       "| China             | 2000              | 213766/1280428583 |\n",
       "\n"
      ],
      "text/plain": [
       "  country     year rate             \n",
       "1 Afghanistan 1999 745/19987071     \n",
       "2 Afghanistan 2000 2666/20595360    \n",
       "3 Brazil      1999 37737/172006362  \n",
       "4 Brazil      2000 80488/174504898  \n",
       "5 China       1999 212258/1272915272\n",
       "6 China       2000 213766/1280428583"
      ]
     },
     "metadata": {},
     "output_type": "display_data"
    },
    {
     "data": {
      "text/html": [
       "<table>\n",
       "<thead><tr><th scope=col>country</th><th scope=col>1999</th><th scope=col>2000</th></tr></thead>\n",
       "<tbody>\n",
       "\t<tr><td>Afghanistan</td><td>   745     </td><td>  2666     </td></tr>\n",
       "\t<tr><td>Brazil     </td><td> 37737     </td><td> 80488     </td></tr>\n",
       "\t<tr><td>China      </td><td>212258     </td><td>213766     </td></tr>\n",
       "</tbody>\n",
       "</table>\n"
      ],
      "text/latex": [
       "\\begin{tabular}{r|lll}\n",
       " country & 1999 & 2000\\\\\n",
       "\\hline\n",
       "\t Afghanistan &    745      &   2666     \\\\\n",
       "\t Brazil      &  37737      &  80488     \\\\\n",
       "\t China       & 212258      & 213766     \\\\\n",
       "\\end{tabular}\n"
      ],
      "text/markdown": [
       "\n",
       "| country | 1999 | 2000 |\n",
       "|---|---|---|\n",
       "| Afghanistan |    745      |   2666      |\n",
       "| Brazil      |  37737      |  80488      |\n",
       "| China       | 212258      | 213766      |\n",
       "\n"
      ],
      "text/plain": [
       "  country     1999   2000  \n",
       "1 Afghanistan    745   2666\n",
       "2 Brazil       37737  80488\n",
       "3 China       212258 213766"
      ]
     },
     "metadata": {},
     "output_type": "display_data"
    },
    {
     "data": {
      "text/html": [
       "<table>\n",
       "<thead><tr><th scope=col>country</th><th scope=col>1999</th><th scope=col>2000</th></tr></thead>\n",
       "<tbody>\n",
       "\t<tr><td>Afghanistan</td><td>  19987071 </td><td>  20595360 </td></tr>\n",
       "\t<tr><td>Brazil     </td><td> 172006362 </td><td> 174504898 </td></tr>\n",
       "\t<tr><td>China      </td><td>1272915272 </td><td>1280428583 </td></tr>\n",
       "</tbody>\n",
       "</table>\n"
      ],
      "text/latex": [
       "\\begin{tabular}{r|lll}\n",
       " country & 1999 & 2000\\\\\n",
       "\\hline\n",
       "\t Afghanistan &   19987071  &   20595360 \\\\\n",
       "\t Brazil      &  172006362  &  174504898 \\\\\n",
       "\t China       & 1272915272  & 1280428583 \\\\\n",
       "\\end{tabular}\n"
      ],
      "text/markdown": [
       "\n",
       "| country | 1999 | 2000 |\n",
       "|---|---|---|\n",
       "| Afghanistan |   19987071  |   20595360  |\n",
       "| Brazil      |  172006362  |  174504898  |\n",
       "| China       | 1272915272  | 1280428583  |\n",
       "\n"
      ],
      "text/plain": [
       "  country     1999       2000      \n",
       "1 Afghanistan   19987071   20595360\n",
       "2 Brazil       172006362  174504898\n",
       "3 China       1272915272 1280428583"
      ]
     },
     "metadata": {},
     "output_type": "display_data"
    }
   ],
   "source": [
    "library(DSR)\n",
    "\n",
    "# Data set one\n",
    "table1\n",
    "\n",
    "## Source: local data frame [6 x 4]\n",
    "## \n",
    "##       country year  cases population\n",
    "## 1 Afghanistan 1999    745   19987071\n",
    "## 2 Afghanistan 2000   2666   20595360\n",
    "## 3      Brazil 1999  37737  172006362\n",
    "## 4      Brazil 2000  80488  174504898\n",
    "## 5       China 1999 212258 1272915272\n",
    "## 6       China 2000 213766 1280428583\n",
    "\n",
    "# Data set two\n",
    "table2\n",
    "\n",
    "## Source: local data frame [12 x 4]\n",
    "## \n",
    "##        country year        key      value\n",
    "## 1  Afghanistan 1999      cases        745\n",
    "## 2  Afghanistan 1999 population   19987071\n",
    "## 3  Afghanistan 2000      cases       2666\n",
    "## 4  Afghanistan 2000 population   20595360\n",
    "## 5       Brazil 1999      cases      37737\n",
    "## 6       Brazil 1999 population  172006362\n",
    "## 7       Brazil 2000      cases      80488\n",
    "## 8       Brazil 2000 population  174504898\n",
    "## 9        China 1999      cases     212258\n",
    "## 10       China 1999 population 1272915272\n",
    "## 11       China 2000      cases     213766\n",
    "## 12       China 2000 population 1280428583\n",
    "\n",
    "# Data set three\n",
    "table3\n",
    "\n",
    "## Source: local data frame [6 x 3]\n",
    "## \n",
    "##       country year              rate\n",
    "## 1 Afghanistan 1999      745/19987071\n",
    "## 2 Afghanistan 2000     2666/20595360\n",
    "## 3      Brazil 1999   37737/172006362\n",
    "## 4      Brazil 2000   80488/174504898\n",
    "## 5       China 1999 212258/1272915272\n",
    "## 6       China 2000 213766/1280428583\n",
    "\n",
    "## The last data set is a collection of two tables:\n",
    "\n",
    "# Data set four \n",
    "table4  # cases\n",
    "\n",
    "## Source: local data frame [3 x 3]\n",
    "## \n",
    "##       country   1999   2000\n",
    "## 1 Afghanistan    745   2666\n",
    "## 2      Brazil  37737  80488\n",
    "## 3       China 212258 213766\n",
    "\n",
    "table5  # population\n",
    "\n",
    "## Source: local data frame [3 x 3]\n",
    "## \n",
    "##       country       1999       2000\n",
    "## 1 Afghanistan   19987071   20595360\n",
    "## 2      Brazil  172006362  174504898\n",
    "## 3       China 1272915272 1280428583"
   ]
  },
  {
   "cell_type": "markdown",
   "metadata": {},
   "source": [
    "<div id=\"sec_whatisR\" style=\"direction:rtl;line-height:300%;\">\n",
    "\t<font face=\"XB Niloofar\" size=5>\n",
    "شاید این طور به نظر برسد که همه دیتاست‌های بالا قابل تعویض با یکدیگر هستند چون که یک چیز را نشان می‌دهند. اما در عمل کار کردن با یکی از این دیتاست‌ها در R بسیار آسان‌تر از بقیه است. \n",
    "\t</font>\n",
    "    <br>\n",
    "    <font face=\"XB Niloofar\" size=5>\n",
    "        <font color=#000000 size=5>\n",
    "            <b>\n",
    "            چرا؟\n",
    "            </b>\n",
    "        </font></font>\n",
    "        <br>\n",
    "       \t<font face=\"XB Niloofar\" size=5>\n",
    "             مجموعه قواعدی که R از آن‌ها پیروی می‌کند سبب این تفاوت می‌شود. کار کردن با داده‌ی شما در R بسیار راحت‌تر می‌شود در صورتی که از سه قانون زیر پیروی کنید:\n",
    "            <br>\n",
    "            ۱. هر متغیر در دیتاست در ستون خودش قرار بگیرد.\n",
    "            <br>\n",
    "            ۲. هر مشاهده در ردیف خودش قرار بگیرد.\n",
    "            <br>\n",
    "            ۳. هر مقدار در خانه‌ی خودش در جدول قرار بگیرد.\n",
    "            <br><br>\n",
    "            به این ترتیب جدول۱ (table1) یک داده‌ی تمیز به حساب می‌آید.\n",
    "\t</font>\n",
    "        <img src=\"./figs/tidy_data.png\" alt=\"tidy_data\">\n",
    "</div>"
   ]
  },
  {
   "cell_type": "markdown",
   "metadata": {},
   "source": [
    "<div id=\"sec_whatisR\" style=\"direction:rtl;line-height:300%;\">\n",
    "\t<font face=\"XB Niloofar\" size=5>\n",
    "       حال در مثالی ساده تفاوت کار با هر یک از این دیتاست‌ها را نشان می‌دهیم تا مزیت داده‌ی تمیز روشن شود.\n",
    "        <br><br>\n",
    "        فرض کنید در این دیتاست‌ها cases مربوط به تعداد مبتلایان به TB در هر کشور، در هر سال باشد. برای محاسبه‌ی «نرخ» موارد مبتلایان به TB در هر کشور، در هر سال (یعنی تعداد افراد به ازای ۱۰۰۰۰ نفر مبتلا به TB)، شما باید چهار عمل زیر را روی داده انجام دهید:\n",
    "        <br>\n",
    "        ۱. تعداد موارد ‌TB را در هر کشور، در هر سال استخراج کنید.\n",
    "        <br>\n",
    "        ۲. جمعیت هر کشور در هر سال را به ترتیب بالا استخراج کنید.\n",
    "        <br>\n",
    "        ۳. موارد را بر جمعیت تقسیم کنید\n",
    "        <br>\n",
    "        ۴. حاصل را در ۱۰۰۰۰ ضرب کنید.\n",
    "        <br><br><hr>\n",
    "        با استفاده از سینتکس پایه‌ی R، محاسبات شما با هر یک از دیتاست‌ها به صورت زیر می‌شود:\n",
    "        <br><br>\n",
    "        <font color=#000000 size=5>\n",
    "            <b>\n",
    "            دیتاست اول\n",
    "            </b>\n",
    "        </font>\n",
    "            <br>\n",
    "            <img src=\"./figs/ds1.png\" alt=\"dataset_one\"><br>\n",
    "        از آن‌جایی که جدول۱ به روش تمیزی مرتب شده، محاسبات شما به شکل زیر می‌شود:\n",
    "    </font>\n",
    "</div>"
   ]
  },
  {
   "cell_type": "code",
   "execution_count": 2,
   "metadata": {},
   "outputs": [
    {
     "data": {
      "text/html": [
       "<ol class=list-inline>\n",
       "\t<li>0.372740958392553</li>\n",
       "\t<li>1.29446632639585</li>\n",
       "\t<li>2.19393047799011</li>\n",
       "\t<li>4.61236337331918</li>\n",
       "\t<li>1.66749511667419</li>\n",
       "\t<li>1.6694878795907</li>\n",
       "</ol>\n"
      ],
      "text/latex": [
       "\\begin{enumerate*}\n",
       "\\item 0.372740958392553\n",
       "\\item 1.29446632639585\n",
       "\\item 2.19393047799011\n",
       "\\item 4.61236337331918\n",
       "\\item 1.66749511667419\n",
       "\\item 1.6694878795907\n",
       "\\end{enumerate*}\n"
      ],
      "text/markdown": [
       "1. 0.372740958392553\n",
       "2. 1.29446632639585\n",
       "3. 2.19393047799011\n",
       "4. 4.61236337331918\n",
       "5. 1.66749511667419\n",
       "6. 1.6694878795907\n",
       "\n",
       "\n"
      ],
      "text/plain": [
       "[1] 0.372741 1.294466 2.193930 4.612363 1.667495 1.669488"
      ]
     },
     "metadata": {},
     "output_type": "display_data"
    }
   ],
   "source": [
    "# Data set one\n",
    "table1$cases / table1$population * 10000"
   ]
  },
  {
   "cell_type": "markdown",
   "metadata": {},
   "source": [
    "<br><hr>\n",
    "<div id=\"sec_whatisR\" style=\"direction:rtl;line-height:300%;\">\n",
    "\t<font face=\"XB Niloofar\" size=5>\n",
    "        <font color=#000000 size=5>\n",
    "            <b>\n",
    "            دیتاست دوم\n",
    "            </b>\n",
    "        </font>\n",
    "            <br>\n",
    "            <img src=\"./figs/ds2.png\" alt=\"dataset_two\"><br>\n",
    "       در دیتاست۲ مقادیر جمعیت و موارد مبتلا در یک ستون به صورت مخلوط نگهداری می‌شوند. بنابراین شما باید این دو مقدار را جدا کنید:\n",
    "\t</font>\n",
    "</div>"
   ]
  },
  {
   "cell_type": "code",
   "execution_count": 3,
   "metadata": {},
   "outputs": [
    {
     "data": {
      "text/html": [
       "<ol class=list-inline>\n",
       "\t<li>0.372740958392553</li>\n",
       "\t<li>1.29446632639585</li>\n",
       "\t<li>2.19393047799011</li>\n",
       "\t<li>4.61236337331918</li>\n",
       "\t<li>1.66749511667419</li>\n",
       "\t<li>1.6694878795907</li>\n",
       "\t<li>&lt;NA&gt;</li>\n",
       "\t<li>&lt;NA&gt;</li>\n",
       "\t<li>&lt;NA&gt;</li>\n",
       "</ol>\n"
      ],
      "text/latex": [
       "\\begin{enumerate*}\n",
       "\\item 0.372740958392553\n",
       "\\item 1.29446632639585\n",
       "\\item 2.19393047799011\n",
       "\\item 4.61236337331918\n",
       "\\item 1.66749511667419\n",
       "\\item 1.6694878795907\n",
       "\\item <NA>\n",
       "\\item <NA>\n",
       "\\item <NA>\n",
       "\\end{enumerate*}\n"
      ],
      "text/markdown": [
       "1. 0.372740958392553\n",
       "2. 1.29446632639585\n",
       "3. 2.19393047799011\n",
       "4. 4.61236337331918\n",
       "5. 1.66749511667419\n",
       "6. 1.6694878795907\n",
       "7. &lt;NA&gt;\n",
       "8. &lt;NA&gt;\n",
       "9. &lt;NA&gt;\n",
       "\n",
       "\n"
      ],
      "text/plain": [
       "[1] 0.372741 1.294466 2.193930 4.612363 1.667495 1.669488       NA       NA\n",
       "[9]       NA"
      ]
     },
     "metadata": {},
     "output_type": "display_data"
    }
   ],
   "source": [
    "# Data set two\n",
    "case_rows <- c(1, 3, 5, 7, 9, 11, 13, 15, 17)\n",
    "pop_rows <- c(2, 4, 6, 8, 10, 12, 14, 16, 18)\n",
    "table2$value[case_rows] / table2$value[pop_rows] * 10000"
   ]
  },
  {
   "cell_type": "markdown",
   "metadata": {},
   "source": [
    "<br><hr>\n",
    "<div id=\"sec_whatisR\" style=\"direction:rtl;line-height:300%;\">\n",
    "\t<font face=\"XB Niloofar\" size=5>\n",
    "        <font color=#000000 size=5>\n",
    "            <b>\n",
    "            دیتاست سوم\n",
    "            </b>\n",
    "        </font>\n",
    "            <br>\n",
    "            <img src=\"./figs/ds3.png\" alt=\"dataset_three\"><br>\n",
    "دیتاست سوم مقادیر مبتلایان و جمعیت را در یک خانه جدول ترکیب می‌کند. در نگاه اول شاید این کار به محاسبه‌ی نرخ کمک کند اما در عمل شما باید مقادیر جمعیت را از مقادیر مبتلایان با اعمال ریاضی جدا کنید که برای انجام این کار روشی در سینتکسِ مقدماتی R وجود ندارد.\n",
    "\t</font>\n",
    "</div>"
   ]
  },
  {
   "cell_type": "code",
   "execution_count": 4,
   "metadata": {},
   "outputs": [],
   "source": [
    "# Data set three\n",
    "# No basic solution"
   ]
  },
  {
   "cell_type": "markdown",
   "metadata": {},
   "source": [
    "<br><hr>\n",
    "<div id=\"sec_whatisR\" style=\"direction:rtl;line-height:300%;\">\n",
    "\t<font face=\"XB Niloofar\" size=5>\n",
    "        <font color=#000000 size=5>\n",
    "            <b>\n",
    "            دیتاست چهارم\n",
    "            </b>\n",
    "        </font>\n",
    "            <br>\n",
    "            <img src=\"./figs/ds4.png\" alt=\"dataset_four\"><br>\n",
    "در دیتاست چهارم هر متغیر در فرمتی جداگانه نگهداری می‌شود: به عنوان یک ستون، مجموعه‌ای از نام ستون‌ها، یک مجموعه از خانه‌های جدول.\n",
    "در نتیجه شما باید با هر متغیر جداگانه کار کنید. این باعث می‌شود تعمیم دادن کد نوشته شده برای این دیتاست  بسیار مشکل باشد.\n",
    "            <br>\n",
    "علاوه بر این‌ها سازمان‌دهی داده در دیتاست چهارم بسیار غیربهینه است. دیتاست چهارم مقادیر یک متغیر را در دو جدول متفاوت نگهداری می‌کند. بنابراین شما برای کار با داده باید از دو جای مختلف اطلاعات را استخراج کنید.\n",
    "\t</font>\n",
    "</div>"
   ]
  },
  {
   "cell_type": "code",
   "execution_count": 5,
   "metadata": {},
   "outputs": [
    {
     "ename": "ERROR",
     "evalue": "Error in parse(text = x, srcfile = src): <text>:2:19: unexpected numeric constant\n1: # Data set four\n2: cases <- c(table4$1999\n                     ^\n",
     "output_type": "error",
     "traceback": [
      "Error in parse(text = x, srcfile = src): <text>:2:19: unexpected numeric constant\n1: # Data set four\n2: cases <- c(table4$1999\n                     ^\nTraceback:\n"
     ]
    }
   ],
   "source": [
    "# Data set four\n",
    "cases <- c(table4$1999, table4$2000, table4$2001) \n",
    "population <- c(table5$1999, table5$2000, table5$2001)\n",
    "cases / population * 10000"
   ]
  },
  {
   "cell_type": "markdown",
   "metadata": {},
   "source": [
    "\n",
    "<div id=\"sec_whatisR\" style=\"direction:rtl;line-height:300%;\">\n",
    "\t<font face=\"XB Niloofar\" size=5>\n",
    "همان‌طور که دیدیم کار با دیتاست اول بسیار آسان‌تر است و برای کار با بقیه‌ی دیتاست‌ها شما باید مراحل بیشتری را طی کنید و این باعث می‌شود کد شما سخت‌تر نوشته شود، سخت‌تر درک شود، و سخت‌تر عیب‌یابی شود.\n",
    "\t</font>\n",
    "</div>"
   ]
  },
  {
   "cell_type": "markdown",
   "metadata": {},
   "source": [
    "<p></p>\n",
    "<br />\n",
    "<div id=\"spread_and_gather\" style=\"direction:rtl;line-height:300%;\">\n",
    "\t<font face=\"XB Niloofar\" size=5>\n",
    "\t\t<font color=#006FDE size=6>\n",
    "توابع spread() و gather()\n",
    "        </font>\n",
    "\t\t<p></p>\n",
    "\t\t<hr>\n",
    "شما می‌توانید داده‌های جدولی را به صورت‌های مختلفی مرتب کنید. در مثال زیر یک داده‌ی یکسان به چهار حالت مختلف درپکیج tidyr برای مرتب کردن داده طراحی شده است. این پکیج چهار تابع دارد که با حفظ مقادیر و روابط، آرایش مجموعه داده‌های جدولی را تغییر می‌دهند.\n",
    "        <br>\n",
    "        دو تا از مهم‌ترین توابع موجود در tidyr، توابعِ gather() و spread() هستند. هر دوی این‌ها بر اساس ایده‌ی زوج کلید-مقدار (key-value pair) هستند.\n",
    "        <br>\n",
    "        <br>\n",
    "        <font color=#000000 size=5>\n",
    "            <b>\n",
    "            زوج‌های کلید-مقدار\n",
    "            </b>\n",
    "        </font>\n",
    "            <br>\n",
    "            یک زوج کلید-مقدار راهی ساده برای ثبت اطلاعات است. هر زوج از دو بخش تشکیل شده است: یک «کلید» که نشان می‌دهد که چه نوع داده‌ای را توصیف می‌کند، و یک «مقدار» که خود داده است.\n",
    "            <br>\n",
    "             به عنوان مثال ( Password: 0123456789 ) یک زوج کلید-مقدار است که 0123456789 مقداری است که به کلیدِ Password مرتبط شده است.\n",
    "            <br><br>\n",
    "            در داده‌ی تمیز، هر خانه‌ی جدول، یک مقدار را نگهداری می‌کند و هر نامِ ستون، یک کلید است.\n",
    "\t<br>\n",
    "            اما در داده‌های غیرتمیز لزوما این‌طور نیست. جدول۲ را در نظر بگیرید:\n",
    "    </font>\n",
    "</div>"
   ]
  },
  {
   "cell_type": "code",
   "execution_count": 6,
   "metadata": {},
   "outputs": [
    {
     "data": {
      "text/html": [
       "<table>\n",
       "<thead><tr><th scope=col>country</th><th scope=col>year</th><th scope=col>key</th><th scope=col>value</th></tr></thead>\n",
       "<tbody>\n",
       "\t<tr><td>Afghanistan</td><td>1999       </td><td>cases      </td><td>       745 </td></tr>\n",
       "\t<tr><td>Afghanistan</td><td>1999       </td><td>population </td><td>  19987071 </td></tr>\n",
       "\t<tr><td>Afghanistan</td><td>2000       </td><td>cases      </td><td>      2666 </td></tr>\n",
       "\t<tr><td>Afghanistan</td><td>2000       </td><td>population </td><td>  20595360 </td></tr>\n",
       "\t<tr><td>Brazil     </td><td>1999       </td><td>cases      </td><td>     37737 </td></tr>\n",
       "\t<tr><td>Brazil     </td><td>1999       </td><td>population </td><td> 172006362 </td></tr>\n",
       "\t<tr><td>Brazil     </td><td>2000       </td><td>cases      </td><td>     80488 </td></tr>\n",
       "\t<tr><td>Brazil     </td><td>2000       </td><td>population </td><td> 174504898 </td></tr>\n",
       "\t<tr><td>China      </td><td>1999       </td><td>cases      </td><td>    212258 </td></tr>\n",
       "\t<tr><td>China      </td><td>1999       </td><td>population </td><td>1272915272 </td></tr>\n",
       "\t<tr><td>China      </td><td>2000       </td><td>cases      </td><td>    213766 </td></tr>\n",
       "\t<tr><td>China      </td><td>2000       </td><td>population </td><td>1280428583 </td></tr>\n",
       "</tbody>\n",
       "</table>\n"
      ],
      "text/latex": [
       "\\begin{tabular}{r|llll}\n",
       " country & year & key & value\\\\\n",
       "\\hline\n",
       "\t Afghanistan & 1999        & cases       &        745 \\\\\n",
       "\t Afghanistan & 1999        & population  &   19987071 \\\\\n",
       "\t Afghanistan & 2000        & cases       &       2666 \\\\\n",
       "\t Afghanistan & 2000        & population  &   20595360 \\\\\n",
       "\t Brazil      & 1999        & cases       &      37737 \\\\\n",
       "\t Brazil      & 1999        & population  &  172006362 \\\\\n",
       "\t Brazil      & 2000        & cases       &      80488 \\\\\n",
       "\t Brazil      & 2000        & population  &  174504898 \\\\\n",
       "\t China       & 1999        & cases       &     212258 \\\\\n",
       "\t China       & 1999        & population  & 1272915272 \\\\\n",
       "\t China       & 2000        & cases       &     213766 \\\\\n",
       "\t China       & 2000        & population  & 1280428583 \\\\\n",
       "\\end{tabular}\n"
      ],
      "text/markdown": [
       "\n",
       "| country | year | key | value |\n",
       "|---|---|---|---|\n",
       "| Afghanistan | 1999        | cases       |        745  |\n",
       "| Afghanistan | 1999        | population  |   19987071  |\n",
       "| Afghanistan | 2000        | cases       |       2666  |\n",
       "| Afghanistan | 2000        | population  |   20595360  |\n",
       "| Brazil      | 1999        | cases       |      37737  |\n",
       "| Brazil      | 1999        | population  |  172006362  |\n",
       "| Brazil      | 2000        | cases       |      80488  |\n",
       "| Brazil      | 2000        | population  |  174504898  |\n",
       "| China       | 1999        | cases       |     212258  |\n",
       "| China       | 1999        | population  | 1272915272  |\n",
       "| China       | 2000        | cases       |     213766  |\n",
       "| China       | 2000        | population  | 1280428583  |\n",
       "\n"
      ],
      "text/plain": [
       "   country     year key        value     \n",
       "1  Afghanistan 1999 cases             745\n",
       "2  Afghanistan 1999 population   19987071\n",
       "3  Afghanistan 2000 cases            2666\n",
       "4  Afghanistan 2000 population   20595360\n",
       "5  Brazil      1999 cases           37737\n",
       "6  Brazil      1999 population  172006362\n",
       "7  Brazil      2000 cases           80488\n",
       "8  Brazil      2000 population  174504898\n",
       "9  China       1999 cases          212258\n",
       "10 China       1999 population 1272915272\n",
       "11 China       2000 cases          213766\n",
       "12 China       2000 population 1280428583"
      ]
     },
     "metadata": {},
     "output_type": "display_data"
    }
   ],
   "source": [
    "table2\n",
    "\n",
    "## Source: local data frame [12 x 4]\n",
    "## \n",
    "##        country year        key      value\n",
    "## 1  Afghanistan 1999      cases        745\n",
    "## 2  Afghanistan 1999 population   19987071\n",
    "## 3  Afghanistan 2000      cases       2666\n",
    "## 4  Afghanistan 2000 population   20595360\n",
    "## 5       Brazil 1999      cases      37737\n",
    "## 6       Brazil 1999 population  172006362\n",
    "## 7       Brazil 2000      cases      80488\n",
    "## 8       Brazil 2000 population  174504898\n",
    "## 9        China 1999      cases     212258\n",
    "## 10       China 1999 population 1272915272\n",
    "## 11       China 2000      cases     213766\n",
    "## 12       China 2000 population 1280428583"
   ]
  },
  {
   "cell_type": "markdown",
   "metadata": {},
   "source": [
    "<div id=\"sec_whatisR\" style=\"direction:rtl;line-height:300%;\">\n",
    "\t<font face=\"XB Niloofar\" size=5>\n",
    "        در جدول۲، ستونِ key، فقط کلید‌ها را نگهداری می‌کند و ستونِ value مقادیر مرتبط با هر کلید را دارد.\n",
    "        <br>\n",
    "        شما می‌توانید از spread() برای تمیز کردنِ این آرایش استفاده کنید.\n",
    "    </font>\n",
    "</div>"
   ]
  },
  {
   "cell_type": "markdown",
   "metadata": {},
   "source": [
    "<p></p>\n",
    "<br />\n",
    "<div id=\"spread\" style=\"direction:rtl;line-height:300%;\">\n",
    "\t<font face=\"XB Niloofar\" size=5>\n",
    "\t\t<font color=#006FDE size=6>\n",
    "spread()\n",
    "        </font>\n",
    "\t\t<p></p><hr>\n",
    "تابع spread() یک زوج از ستون‌های کلید:مقدار را به مجموعه‌ای از ستون‌های تمیز تبدیل می‌کند.\n",
    "        <br>\n",
    "برای استفاده از این تابع، نام دیتافریم را به عنوان ورودی به آن بدهید، سپس نام ستونِ کلید در دیتافریم، و بعد نام ستونِ مقدار.       \n",
    "\t</font>\n",
    "</div>"
   ]
  },
  {
   "cell_type": "code",
   "execution_count": 8,
   "metadata": {},
   "outputs": [
    {
     "data": {
      "text/html": [
       "<table>\n",
       "<thead><tr><th scope=col>country</th><th scope=col>year</th><th scope=col>type</th><th scope=col>count</th></tr></thead>\n",
       "<tbody>\n",
       "\t<tr><td>Afghanistan</td><td>1999       </td><td>cases      </td><td>       745 </td></tr>\n",
       "\t<tr><td>Afghanistan</td><td>1999       </td><td>population </td><td>  19987071 </td></tr>\n",
       "\t<tr><td>Afghanistan</td><td>2000       </td><td>cases      </td><td>      2666 </td></tr>\n",
       "\t<tr><td>Afghanistan</td><td>2000       </td><td>population </td><td>  20595360 </td></tr>\n",
       "\t<tr><td>Brazil     </td><td>1999       </td><td>cases      </td><td>     37737 </td></tr>\n",
       "\t<tr><td>Brazil     </td><td>1999       </td><td>population </td><td> 172006362 </td></tr>\n",
       "\t<tr><td>Brazil     </td><td>2000       </td><td>cases      </td><td>     80488 </td></tr>\n",
       "\t<tr><td>Brazil     </td><td>2000       </td><td>population </td><td> 174504898 </td></tr>\n",
       "\t<tr><td>China      </td><td>1999       </td><td>cases      </td><td>    212258 </td></tr>\n",
       "\t<tr><td>China      </td><td>1999       </td><td>population </td><td>1272915272 </td></tr>\n",
       "\t<tr><td>China      </td><td>2000       </td><td>cases      </td><td>    213766 </td></tr>\n",
       "\t<tr><td>China      </td><td>2000       </td><td>population </td><td>1280428583 </td></tr>\n",
       "</tbody>\n",
       "</table>\n"
      ],
      "text/latex": [
       "\\begin{tabular}{r|llll}\n",
       " country & year & type & count\\\\\n",
       "\\hline\n",
       "\t Afghanistan & 1999        & cases       &        745 \\\\\n",
       "\t Afghanistan & 1999        & population  &   19987071 \\\\\n",
       "\t Afghanistan & 2000        & cases       &       2666 \\\\\n",
       "\t Afghanistan & 2000        & population  &   20595360 \\\\\n",
       "\t Brazil      & 1999        & cases       &      37737 \\\\\n",
       "\t Brazil      & 1999        & population  &  172006362 \\\\\n",
       "\t Brazil      & 2000        & cases       &      80488 \\\\\n",
       "\t Brazil      & 2000        & population  &  174504898 \\\\\n",
       "\t China       & 1999        & cases       &     212258 \\\\\n",
       "\t China       & 1999        & population  & 1272915272 \\\\\n",
       "\t China       & 2000        & cases       &     213766 \\\\\n",
       "\t China       & 2000        & population  & 1280428583 \\\\\n",
       "\\end{tabular}\n"
      ],
      "text/markdown": [
       "\n",
       "| country | year | type | count |\n",
       "|---|---|---|---|\n",
       "| Afghanistan | 1999        | cases       |        745  |\n",
       "| Afghanistan | 1999        | population  |   19987071  |\n",
       "| Afghanistan | 2000        | cases       |       2666  |\n",
       "| Afghanistan | 2000        | population  |   20595360  |\n",
       "| Brazil      | 1999        | cases       |      37737  |\n",
       "| Brazil      | 1999        | population  |  172006362  |\n",
       "| Brazil      | 2000        | cases       |      80488  |\n",
       "| Brazil      | 2000        | population  |  174504898  |\n",
       "| China       | 1999        | cases       |     212258  |\n",
       "| China       | 1999        | population  | 1272915272  |\n",
       "| China       | 2000        | cases       |     213766  |\n",
       "| China       | 2000        | population  | 1280428583  |\n",
       "\n"
      ],
      "text/plain": [
       "   country     year type       count     \n",
       "1  Afghanistan 1999 cases             745\n",
       "2  Afghanistan 1999 population   19987071\n",
       "3  Afghanistan 2000 cases            2666\n",
       "4  Afghanistan 2000 population   20595360\n",
       "5  Brazil      1999 cases           37737\n",
       "6  Brazil      1999 population  172006362\n",
       "7  Brazil      2000 cases           80488\n",
       "8  Brazil      2000 population  174504898\n",
       "9  China       1999 cases          212258\n",
       "10 China       1999 population 1272915272\n",
       "11 China       2000 cases          213766\n",
       "12 China       2000 population 1280428583"
      ]
     },
     "metadata": {},
     "output_type": "display_data"
    },
    {
     "ename": "ERROR",
     "evalue": "Error in eval_tidy(enquo(var), var_env): object 'key' not found\n",
     "output_type": "error",
     "traceback": [
      "Error in eval_tidy(enquo(var), var_env): object 'key' not found\nTraceback:\n",
      "1. spread(table2, key, value)",
      "2. spread.data.frame(table2, key, value)",
      "3. tidyselect::vars_pull(names(data), !!enquo(key))",
      "4. eval_tidy(enquo(var), var_env)"
     ]
    }
   ],
   "source": [
    "table2\n",
    "\n",
    "## Source: local data frame [12 x 4]\n",
    "## \n",
    "##        country year        key      value\n",
    "## 1  Afghanistan 1999      cases        745\n",
    "## 2  Afghanistan 1999 population   19987071\n",
    "## 3  Afghanistan 2000      cases       2666\n",
    "## 4  Afghanistan 2000 population   20595360\n",
    "## 5       Brazil 1999      cases      37737\n",
    "## 6       Brazil 1999 population  172006362\n",
    "## 7       Brazil 2000      cases      80488\n",
    "## 8       Brazil 2000 population  174504898\n",
    "## 9        China 1999      cases     212258\n",
    "## 10       China 1999 population 1272915272\n",
    "## 11       China 2000      cases     213766\n",
    "## 12       China 2000 population 1280428583\n",
    "\n",
    "library(tidyr)\n",
    "spread(table2, key, value)\n",
    "\n",
    "## Source: local data frame [6 x 4]\n",
    "## \n",
    "##       country year  cases population\n",
    "## 1 Afghanistan 1999    745   19987071\n",
    "## 2 Afghanistan 2000   2666   20595360\n",
    "## 3      Brazil 1999  37737  172006362\n",
    "## 4      Brazil 2000  80488  174504898\n",
    "## 5       China 1999 212258 1272915272\n",
    "## 6       China 2000 213766 1280428583"
   ]
  },
  {
   "cell_type": "markdown",
   "metadata": {},
   "source": [
    "<div id=\"sec_whatisR\" style=\"direction:rtl;line-height:300%;\">\n",
    "\t<font face=\"XB Niloofar\" size=5>\n",
    "        تابع spread() یک رونوشت از دیتاست شما را برمی‌گرداند که ستون‌های کلید و مقدار آن حذف شده‌اند. به جای آن‌ها، spread() یک ستون جدید به ازای هر مقدار یکتای ستونِ کلید ایجاد می‌کند که این مقادیر یکتا، نام ستون‌های جدید هستند. تابع spread() خانه‌های ستونِ سابقِ مقدار را در خانه‌های ستون‌های جدید پخش می‌کند.\n",
    "    </font>\n",
    "    <img src=\"./figs/spread.png\" alt=\"spread\"><br>\n",
    "</div>"
   ]
  },
  {
   "cell_type": "markdown",
   "metadata": {},
   "source": [
    "<br>\n",
    "<div id=\"sec_whatisR\" style=\"direction:rtl;line-height:300%;\">\n",
    "\t<font face=\"XB Niloofar\" size=5>\n",
    " این تابع علاوه بر داده، کلید، و مقدار، سه آرگومان اختیاری دیگر نیز به عنوان ورودی می‌پذیرد:\n",
    "        <br>\n",
    "        <ul>\n",
    "            <li>\n",
    "                <b>\n",
    "                    fill:\n",
    "                </b>\n",
    "                اگر ساختارِ تمیز ترکیب‌هایی از متغیر‌ها را ایجاد کند که در دیتاست اولیه وجود نداشته‌اند، spread() در خانه‌‌های جدید ‌NA (علامت داده‌ی ناپیدا در R) می‌گذارد. شما می‌توانید این عمل را با ورودی دادنِ مقداری جایگزین به fill تغییر دهید.\n",
    "            </li>\n",
    "            <br>\n",
    "            <li>\n",
    "                <b>\n",
    "                    convert:\n",
    "                </b>\n",
    "                در صورتی که یک ستونِ مقدار، شامل انواع مختلفی از داده باشد، این عناصر به یک نوع ذخیره می‌شوند (معمولا به صورت رشته‌ای از کاراکترها).\n",
    "اگر شما قرار دهید convert=TRUE، تابع spread() روی هر ستونِ جدید type.convert() را اجرا می‌کند، که رشته‌ها را به اعداد، علائم منطقی، و … تبدیل می‌کند.\n",
    "            </li>\n",
    "            <br>\n",
    "             <li>\n",
    "                <b>\n",
    "                    drop:\n",
    "                </b>\n",
    "این آرگومان چگونگی رفتارِ spread() با فاکتورها را تعیین می‌کند. در صورتی که قرار دهید drop=FALSE، تابع spread() سطوحی از فاکتورها را که در ستونِ کلید ظاهر نشده‌اند، نگه می‌دارد و ترکیب‌های ناپیدا را با مقدارِ fill پر می‌کند.\n",
    "            </li>\n",
    "        </ul>\n",
    "        </font>\n",
    "</div>"
   ]
  },
  {
   "cell_type": "markdown",
   "metadata": {},
   "source": [
    "<p></p>\n",
    "<br />\n",
    "<div id=\"gather\" style=\"direction:rtl;line-height:300%;\">\n",
    "\t<font face=\"XB Niloofar\" size=5>\n",
    "\t\t<font color=#006FDE size=6>\n",
    "gather()\n",
    "        </font>\n",
    "\t\t<p></p><hr>\n",
    "این تابع کارِ برعکسِ spread() را انجام می‌دهد. gather() مجموعه‌ای از نام ستون‌ها را می‌گیرد و آن‌ها را در یک ستونِ «کلید» قرار می‌دهد. هم‌چنین خانه‌های آن ستون‌ها را جمع‌اوری کرده و در یک ستونِ مقدار قرار می‌دهد.\n",
    "<br>\n",
    "        شما می‌توانید از gather() برای تمیز کردنِ جدول۴ استفاده کنید.\n",
    "\t</font>\n",
    "</div>"
   ]
  },
  {
   "cell_type": "code",
   "execution_count": 9,
   "metadata": {},
   "outputs": [
    {
     "data": {
      "text/html": [
       "<table>\n",
       "<thead><tr><th scope=col>country</th><th scope=col>1999</th><th scope=col>2000</th></tr></thead>\n",
       "<tbody>\n",
       "\t<tr><td>Afghanistan</td><td>   745     </td><td>  2666     </td></tr>\n",
       "\t<tr><td>Brazil     </td><td> 37737     </td><td> 80488     </td></tr>\n",
       "\t<tr><td>China      </td><td>212258     </td><td>213766     </td></tr>\n",
       "</tbody>\n",
       "</table>\n"
      ],
      "text/latex": [
       "\\begin{tabular}{r|lll}\n",
       " country & 1999 & 2000\\\\\n",
       "\\hline\n",
       "\t Afghanistan &    745      &   2666     \\\\\n",
       "\t Brazil      &  37737      &  80488     \\\\\n",
       "\t China       & 212258      & 213766     \\\\\n",
       "\\end{tabular}\n"
      ],
      "text/markdown": [
       "\n",
       "| country | 1999 | 2000 |\n",
       "|---|---|---|\n",
       "| Afghanistan |    745      |   2666      |\n",
       "| Brazil      |  37737      |  80488      |\n",
       "| China       | 212258      | 213766      |\n",
       "\n"
      ],
      "text/plain": [
       "  country     1999   2000  \n",
       "1 Afghanistan    745   2666\n",
       "2 Brazil       37737  80488\n",
       "3 China       212258 213766"
      ]
     },
     "metadata": {},
     "output_type": "display_data"
    }
   ],
   "source": [
    "table4  # cases\n",
    "\n",
    "## Source: local data frame [3 x 3]\n",
    "## \n",
    "##       country   1999   2000\n",
    "## 1 Afghanistan    745   2666\n",
    "## 2      Brazil  37737  80488\n",
    "## 3       China 212258 213766"
   ]
  },
  {
   "cell_type": "markdown",
   "metadata": {},
   "source": [
    "<br>\n",
    "<div id=\"sec_whatisR\" style=\"direction:rtl;line-height:300%;\">\n",
    "\t<font face=\"XB Niloofar\" size=5>\n",
    "       برای استفاده از gather()، نام دیتافریم را به عنوان ورودی به آن بدهید، سپس یک رشته کاراکتر برای نامِ ستونِ «کلید»‌ی که می‌سازد، و یک رشته کاراکتر برای نامِ ستون مقداری که می‌سازد. در نهایت مشخص کنید که کدام ستون‌ها باید به زوج کلید مقدار بشکنند.\n",
    "        </font>\n",
    "</div>"
   ]
  },
  {
   "cell_type": "code",
   "execution_count": 10,
   "metadata": {},
   "outputs": [
    {
     "data": {
      "text/html": [
       "<table>\n",
       "<thead><tr><th scope=col>country</th><th scope=col>year</th><th scope=col>cases</th></tr></thead>\n",
       "<tbody>\n",
       "\t<tr><td>Afghanistan</td><td>1999       </td><td>   745     </td></tr>\n",
       "\t<tr><td>Brazil     </td><td>1999       </td><td> 37737     </td></tr>\n",
       "\t<tr><td>China      </td><td>1999       </td><td>212258     </td></tr>\n",
       "\t<tr><td>Afghanistan</td><td>2000       </td><td>  2666     </td></tr>\n",
       "\t<tr><td>Brazil     </td><td>2000       </td><td> 80488     </td></tr>\n",
       "\t<tr><td>China      </td><td>2000       </td><td>213766     </td></tr>\n",
       "</tbody>\n",
       "</table>\n"
      ],
      "text/latex": [
       "\\begin{tabular}{r|lll}\n",
       " country & year & cases\\\\\n",
       "\\hline\n",
       "\t Afghanistan & 1999        &    745     \\\\\n",
       "\t Brazil      & 1999        &  37737     \\\\\n",
       "\t China       & 1999        & 212258     \\\\\n",
       "\t Afghanistan & 2000        &   2666     \\\\\n",
       "\t Brazil      & 2000        &  80488     \\\\\n",
       "\t China       & 2000        & 213766     \\\\\n",
       "\\end{tabular}\n"
      ],
      "text/markdown": [
       "\n",
       "| country | year | cases |\n",
       "|---|---|---|\n",
       "| Afghanistan | 1999        |    745      |\n",
       "| Brazil      | 1999        |  37737      |\n",
       "| China       | 1999        | 212258      |\n",
       "| Afghanistan | 2000        |   2666      |\n",
       "| Brazil      | 2000        |  80488      |\n",
       "| China       | 2000        | 213766      |\n",
       "\n"
      ],
      "text/plain": [
       "  country     year cases \n",
       "1 Afghanistan 1999    745\n",
       "2 Brazil      1999  37737\n",
       "3 China       1999 212258\n",
       "4 Afghanistan 2000   2666\n",
       "5 Brazil      2000  80488\n",
       "6 China       2000 213766"
      ]
     },
     "metadata": {},
     "output_type": "display_data"
    }
   ],
   "source": [
    "gather(table4, \"year\", \"cases\", 2:3)\n",
    "\n",
    "## Source: local data frame [6 x 3]\n",
    "## \n",
    "##       country year  cases\n",
    "## 1 Afghanistan 1999    745\n",
    "## 2      Brazil 1999  37737\n",
    "## 3       China 1999 212258\n",
    "## 4 Afghanistan 2000   2666\n",
    "## 5      Brazil 2000  80488\n",
    "## 6       China 2000 213766"
   ]
  },
  {
   "cell_type": "markdown",
   "metadata": {},
   "source": [
    "<div id=\"sec_whatisR\" style=\"direction:rtl;line-height:300%;\">\n",
    "\t<font face=\"XB Niloofar\" size=5>\n",
    "        تابع gather() یک رونوشت از دیتاست شما را برمی‌گرداند که ستون‌های مشخص‌شده از آن حذف شده‌اند. به جای آن‌ها، gather() دو ستون جدید ایجاد می‌کند: ستونِ «کلید» که نام سابق ستون‌های حذف‌شده را نگه می‌دارد، و یک ستون مقدار که مقادیر سابق ستون‌های حذف‌شده را نگه می‌دارد.\n",
    "        <br>\n",
    "        <img src=\"./figs/gather.png\" alt=\"gather\"><br>\n",
    "    </font>\n",
    "</div>"
   ]
  },
  {
   "cell_type": "markdown",
   "metadata": {},
   "source": [
    "<div id=\"sec_whatisR\" style=\"direction:rtl;line-height:300%;\">\n",
    "\t<font face=\"XB Niloofar\" size=5>\n",
    "        به همین ترتیب می‌توان جدول۴ را با استفاده از gather() تمیز کرد:\n",
    "    </font>\n",
    "</div>"
   ]
  },
  {
   "cell_type": "code",
   "execution_count": 11,
   "metadata": {},
   "outputs": [
    {
     "data": {
      "text/html": [
       "<table>\n",
       "<thead><tr><th scope=col>country</th><th scope=col>century</th><th scope=col>year</th><th scope=col>rate</th></tr></thead>\n",
       "<tbody>\n",
       "\t<tr><td>Afghanistan      </td><td>19               </td><td>99               </td><td>745/19987071     </td></tr>\n",
       "\t<tr><td>Afghanistan      </td><td>20               </td><td>00               </td><td>2666/20595360    </td></tr>\n",
       "\t<tr><td>Brazil           </td><td>19               </td><td>99               </td><td>37737/172006362  </td></tr>\n",
       "\t<tr><td>Brazil           </td><td>20               </td><td>00               </td><td>80488/174504898  </td></tr>\n",
       "\t<tr><td>China            </td><td>19               </td><td>99               </td><td>212258/1272915272</td></tr>\n",
       "\t<tr><td>China            </td><td>20               </td><td>00               </td><td>213766/1280428583</td></tr>\n",
       "</tbody>\n",
       "</table>\n"
      ],
      "text/latex": [
       "\\begin{tabular}{r|llll}\n",
       " country & century & year & rate\\\\\n",
       "\\hline\n",
       "\t Afghanistan       & 19                & 99                & 745/19987071     \\\\\n",
       "\t Afghanistan       & 20                & 00                & 2666/20595360    \\\\\n",
       "\t Brazil            & 19                & 99                & 37737/172006362  \\\\\n",
       "\t Brazil            & 20                & 00                & 80488/174504898  \\\\\n",
       "\t China             & 19                & 99                & 212258/1272915272\\\\\n",
       "\t China             & 20                & 00                & 213766/1280428583\\\\\n",
       "\\end{tabular}\n"
      ],
      "text/markdown": [
       "\n",
       "| country | century | year | rate |\n",
       "|---|---|---|---|\n",
       "| Afghanistan       | 19                | 99                | 745/19987071      |\n",
       "| Afghanistan       | 20                | 00                | 2666/20595360     |\n",
       "| Brazil            | 19                | 99                | 37737/172006362   |\n",
       "| Brazil            | 20                | 00                | 80488/174504898   |\n",
       "| China             | 19                | 99                | 212258/1272915272 |\n",
       "| China             | 20                | 00                | 213766/1280428583 |\n",
       "\n"
      ],
      "text/plain": [
       "  country     century year rate             \n",
       "1 Afghanistan 19      99   745/19987071     \n",
       "2 Afghanistan 20      00   2666/20595360    \n",
       "3 Brazil      19      99   37737/172006362  \n",
       "4 Brazil      20      00   80488/174504898  \n",
       "5 China       19      99   212258/1272915272\n",
       "6 China       20      00   213766/1280428583"
      ]
     },
     "metadata": {},
     "output_type": "display_data"
    },
    {
     "data": {
      "text/html": [
       "<table>\n",
       "<thead><tr><th scope=col>country</th><th scope=col>rate</th><th scope=col>year</th><th scope=col>population</th></tr></thead>\n",
       "<tbody>\n",
       "\t<tr><td>Afghanistan      </td><td>745/19987071     </td><td>century          </td><td>19               </td></tr>\n",
       "\t<tr><td>Afghanistan      </td><td>2666/20595360    </td><td>century          </td><td>20               </td></tr>\n",
       "\t<tr><td>Brazil           </td><td>37737/172006362  </td><td>century          </td><td>19               </td></tr>\n",
       "\t<tr><td>Brazil           </td><td>80488/174504898  </td><td>century          </td><td>20               </td></tr>\n",
       "\t<tr><td>China            </td><td>212258/1272915272</td><td>century          </td><td>19               </td></tr>\n",
       "\t<tr><td>China            </td><td>213766/1280428583</td><td>century          </td><td>20               </td></tr>\n",
       "\t<tr><td>Afghanistan      </td><td>745/19987071     </td><td>year             </td><td>99               </td></tr>\n",
       "\t<tr><td>Afghanistan      </td><td>2666/20595360    </td><td>year             </td><td>00               </td></tr>\n",
       "\t<tr><td>Brazil           </td><td>37737/172006362  </td><td>year             </td><td>99               </td></tr>\n",
       "\t<tr><td>Brazil           </td><td>80488/174504898  </td><td>year             </td><td>00               </td></tr>\n",
       "\t<tr><td>China            </td><td>212258/1272915272</td><td>year             </td><td>99               </td></tr>\n",
       "\t<tr><td>China            </td><td>213766/1280428583</td><td>year             </td><td>00               </td></tr>\n",
       "</tbody>\n",
       "</table>\n"
      ],
      "text/latex": [
       "\\begin{tabular}{r|llll}\n",
       " country & rate & year & population\\\\\n",
       "\\hline\n",
       "\t Afghanistan       & 745/19987071      & century           & 19               \\\\\n",
       "\t Afghanistan       & 2666/20595360     & century           & 20               \\\\\n",
       "\t Brazil            & 37737/172006362   & century           & 19               \\\\\n",
       "\t Brazil            & 80488/174504898   & century           & 20               \\\\\n",
       "\t China             & 212258/1272915272 & century           & 19               \\\\\n",
       "\t China             & 213766/1280428583 & century           & 20               \\\\\n",
       "\t Afghanistan       & 745/19987071      & year              & 99               \\\\\n",
       "\t Afghanistan       & 2666/20595360     & year              & 00               \\\\\n",
       "\t Brazil            & 37737/172006362   & year              & 99               \\\\\n",
       "\t Brazil            & 80488/174504898   & year              & 00               \\\\\n",
       "\t China             & 212258/1272915272 & year              & 99               \\\\\n",
       "\t China             & 213766/1280428583 & year              & 00               \\\\\n",
       "\\end{tabular}\n"
      ],
      "text/markdown": [
       "\n",
       "| country | rate | year | population |\n",
       "|---|---|---|---|\n",
       "| Afghanistan       | 745/19987071      | century           | 19                |\n",
       "| Afghanistan       | 2666/20595360     | century           | 20                |\n",
       "| Brazil            | 37737/172006362   | century           | 19                |\n",
       "| Brazil            | 80488/174504898   | century           | 20                |\n",
       "| China             | 212258/1272915272 | century           | 19                |\n",
       "| China             | 213766/1280428583 | century           | 20                |\n",
       "| Afghanistan       | 745/19987071      | year              | 99                |\n",
       "| Afghanistan       | 2666/20595360     | year              | 00                |\n",
       "| Brazil            | 37737/172006362   | year              | 99                |\n",
       "| Brazil            | 80488/174504898   | year              | 00                |\n",
       "| China             | 212258/1272915272 | year              | 99                |\n",
       "| China             | 213766/1280428583 | year              | 00                |\n",
       "\n"
      ],
      "text/plain": [
       "   country     rate              year    population\n",
       "1  Afghanistan 745/19987071      century 19        \n",
       "2  Afghanistan 2666/20595360     century 20        \n",
       "3  Brazil      37737/172006362   century 19        \n",
       "4  Brazil      80488/174504898   century 20        \n",
       "5  China       212258/1272915272 century 19        \n",
       "6  China       213766/1280428583 century 20        \n",
       "7  Afghanistan 745/19987071      year    99        \n",
       "8  Afghanistan 2666/20595360     year    00        \n",
       "9  Brazil      37737/172006362   year    99        \n",
       "10 Brazil      80488/174504898   year    00        \n",
       "11 China       212258/1272915272 year    99        \n",
       "12 China       213766/1280428583 year    00        "
      ]
     },
     "metadata": {},
     "output_type": "display_data"
    }
   ],
   "source": [
    "table5  # population\n",
    "\n",
    "## Source: local data frame [3 x 3]\n",
    "## \n",
    "##       country       1999       2000\n",
    "## 1 Afghanistan   19987071   20595360\n",
    "## 2      Brazil  172006362  174504898\n",
    "## 3       China 1272915272 1280428583\n",
    "\n",
    "gather(table5, \"year\", \"population\", 2:3)\n",
    "\n",
    "## Source: local data frame [6 x 3]\n",
    "## \n",
    "##       country year population\n",
    "## 1 Afghanistan 1999   19987071\n",
    "## 2      Brazil 1999  172006362\n",
    "## 3       China 1999 1272915272\n",
    "## 4 Afghanistan 2000   20595360\n",
    "## 5      Brazil 2000  174504898\n",
    "## 6       China 2000 1280428583"
   ]
  },
  {
   "cell_type": "code",
   "execution_count": null,
   "metadata": {},
   "outputs": [],
   "source": []
  }
 ],
 "metadata": {
  "kernelspec": {
   "display_name": "R",
   "language": "R",
   "name": "ir"
  },
  "language_info": {
   "codemirror_mode": "r",
   "file_extension": ".r",
   "mimetype": "text/x-r-source",
   "name": "R",
   "pygments_lexer": "r",
   "version": "3.5.2"
  },
  "latex_envs": {
   "LaTeX_envs_menu_present": true,
   "autoclose": false,
   "autocomplete": true,
   "bibliofile": "biblio.bib",
   "cite_by": "apalike",
   "current_citInitial": 1,
   "eqLabelWithNumbers": true,
   "eqNumInitial": 1,
   "hotkeys": {
    "equation": "Ctrl-E",
    "itemize": "Ctrl-I"
   },
   "labels_anchors": false,
   "latex_user_defs": false,
   "report_style_numbering": false,
   "user_envs_cfg": false
  },
  "toc": {
   "base_numbering": 1,
   "nav_menu": {},
   "number_sections": true,
   "sideBar": true,
   "skip_h1_title": false,
   "title_cell": "Table of Contents",
   "title_sidebar": "Contents",
   "toc_cell": false,
   "toc_position": {},
   "toc_section_display": true,
   "toc_window_display": false
  },
  "varInspector": {
   "cols": {
    "lenName": 16,
    "lenType": 16,
    "lenVar": 40
   },
   "kernels_config": {
    "python": {
     "delete_cmd_postfix": "",
     "delete_cmd_prefix": "del ",
     "library": "var_list.py",
     "varRefreshCmd": "print(var_dic_list())"
    },
    "r": {
     "delete_cmd_postfix": ") ",
     "delete_cmd_prefix": "rm(",
     "library": "var_list.r",
     "varRefreshCmd": "cat(var_dic_list()) "
    }
   },
   "types_to_exclude": [
    "module",
    "function",
    "builtin_function_or_method",
    "instance",
    "_Feature"
   ],
   "window_display": false
  }
 },
 "nbformat": 4,
 "nbformat_minor": 2
}
