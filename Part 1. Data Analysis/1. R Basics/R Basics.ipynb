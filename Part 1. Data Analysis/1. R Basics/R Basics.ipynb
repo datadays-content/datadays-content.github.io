{
 "cells": [
  {
   "cell_type": "markdown",
   "metadata": {},
   "source": [
    "<body  style=\"background-color:rgb(11, 42, 73);\">\n",
    "    <div style=\"direction:rtl;line-height:300%;background-color:rgb(11, 42, 73);\">\n",
    "            <img src=\"./figs/Logo Final.jpg\" style=\"position:reletive;margin-top:15pt;float:right;background-color:rgb(11, 42, 73);\" width=\"200\" height=\"200\"/>\n",
    "    <img src=\"./figs/Sharif Logo.png\" style=\"position:reletive;margin-top:25pt;margin-left:20pt;float:left;background-color:rgb(11, 42, 73);\" width=\"170\" height=\"170\"/>\n",
    "\t\t<div align=center>\n",
    "\t\t\t<font face=\"IranNastaliq\" size=30 color=white>\n",
    "\t\t\t\t<p></p>\n",
    "\t\t\t\t<p></p>\n",
    "                <br>\n",
    "به نام خدا\n",
    "\t\t\t\t<p></p>\n",
    "\t\t\t</font>\n",
    "\t\t</div>\n",
    "        \t\t\t<div align=center style=\"color:white\">\n",
    "                        <font size=50 face=\"XB Niloofar\">\n",
    "                            <br>\n",
    "                            مقدمات R\n",
    "                        </font>\n",
    "            </div>\n",
    "    </div>\n",
    "</body>"
   ]
  },
  {
   "cell_type": "markdown",
   "metadata": {},
   "source": [
    "<div style=\"direction:rtl;line-height:300%;\">\n",
    "\t<font face=\"XB Niloofar\" size=5>\n",
    "\t\t<hr />\n",
    "\t\t<style type=\"text/css\" scoped>\n",
    "        p{\n",
    "        border: 1px solid #a2a9b1;background-color: #f8f9fa;display: inline-block;\n",
    "        };\n",
    "        </style>\n",
    "\t\t<div>\n",
    "\t\t\t<h3 style=\"color:#0051A2\">فهرست مطالب</h3>\n",
    "\t\t\t<ul style=\"margin-right: 0;\">\n",
    "                <li>\n",
    "\t\t\t\t\t<a href=\"#sec_installR\">\n",
    "                        نصب کردن R\n",
    "                    </a>\n",
    "\t\t\t\t</li>\n",
    "                <li>\n",
    "\t\t\t\t\t<a href=\"#sec_R_packages\">\n",
    "                      پکیج‌های R\n",
    "                    </a>\n",
    "\t\t\t\t</li>\n",
    "                <li>\n",
    "\t\t\t\t\t<a href=\"#sec_R_Intro\">\n",
    "                        مقدمات R\n",
    "                    </a>\n",
    "\t\t\t\t</li>\n",
    "                <li>\n",
    "\t\t\t\t\t<a href=\"#sec_statFunc\">\n",
    "                        توابع آماری\n",
    "                    </a>\n",
    "\t\t\t\t</li>\n",
    "                <li>\n",
    "\t\t\t\t\t<a href=\"#sec_R_DSs\">\n",
    "داده‌ساختار‌ها در R\n",
    "                    </a>\n",
    "\t\t\t\t</li>\n",
    "                <li>\n",
    "\t\t\t\t\t<a href=\"#sec_additional\">\n",
    "                        نکات تکمیلی\n",
    "                    </a>\n",
    "\t\t\t\t</li>\n",
    "\t\t\t</ul>\n",
    "            <hr>\n",
    "\t\t</div>\n",
    "\t</font>\n",
    "</div>"
   ]
  },
  {
   "cell_type": "markdown",
   "metadata": {},
   "source": [
    "<p></p>\n",
    "<br />\n",
    "<div id=\"sec_installR\" style=\"direction:rtl;line-height:300%;\">\n",
    "\t<font face=\"XB Niloofar\" size=5>\n",
    "\t\t<font color=#006FDE size=6>\n",
    "نصب کردن R\n",
    "        </font>\n",
    "\t\t<p></p>\n",
    "\t\t<hr>\n",
    "        ابتدا R را از <a href=\"https://cran.r-project.org/\">اینجا</a> دانلود کنید.\n",
    "        <br><br>\n",
    "        <font color=#000000 size=5>\n",
    "            <b>\n",
    "نصب کردن R بر روی Jupyter Notebook:\n",
    "            </b>\n",
    "        </font>\n",
    "        <br>\n",
    "        بعد از نصب‌کردن R ، آن را اجرا کنید. \n",
    "        <br>\n",
    "        در کنسولِ آن ، دستور زیر را اجرا کنید تا پکیج های مورد نیاز دانلود و نصب شود.\n",
    "        <br>\n",
    "\t</font>\n",
    "</div>"
   ]
  },
  {
   "cell_type": "code",
   "execution_count": 39,
   "metadata": {},
   "outputs": [
    {
     "name": "stderr",
     "output_type": "stream",
     "text": [
      "Installing packages into ‘/usr/local/lib/R/site-library’\n",
      "(as ‘lib’ is unspecified)\n",
      "Warning message in install.packages(c(\"repr\", \"IRdisplay\", \"evaluate\", \"crayon\", :\n",
      "“'lib = \"/usr/local/lib/R/site-library\"' is not writable”"
     ]
    },
    {
     "ename": "ERROR",
     "evalue": "Error in install.packages(c(\"repr\", \"IRdisplay\", \"evaluate\", \"crayon\", : unable to install packages\n",
     "output_type": "error",
     "traceback": [
      "Error in install.packages(c(\"repr\", \"IRdisplay\", \"evaluate\", \"crayon\", : unable to install packages\nTraceback:\n",
      "1. install.packages(c(\"repr\", \"IRdisplay\", \"evaluate\", \"crayon\", \n .     \"pbdZMQ\", \"devtools\", \"uuid\", \"digest\"))",
      "2. stop(\"unable to install packages\")"
     ]
    }
   ],
   "source": [
    "install.packages(c('repr', 'IRdisplay', 'evaluate', 'crayon', 'pbdZMQ', 'devtools', 'uuid', 'digest'))"
   ]
  },
  {
   "cell_type": "markdown",
   "metadata": {},
   "source": [
    "<div style=\"direction:rtl;line-height:300%;\">\n",
    "\t<font face=\"XB Niloofar\" size=5>\n",
    "    \tسپس با استفاده از پکیج devtools ، پکیج IRkernel را نصب می‌کنیم :\n",
    "        <br>\n",
    "        دستور زیر را اجرا کنید.\n",
    "    </font>\n",
    "</div>"
   ]
  },
  {
   "cell_type": "code",
   "execution_count": 40,
   "metadata": {},
   "outputs": [
    {
     "name": "stderr",
     "output_type": "stream",
     "text": [
      "Downloading GitHub repo IRkernel/IRkernel@master\n",
      "'/usr/bin/git' clone --depth 1 --no-hardlinks --recurse-submodules https://github.com/jupyter/jupyter_kernel_test.git /tmp/Rtmpnfvdt4/remotes123364e94dbb/IRkernel-IRkernel-d9ed0e0/tests/testthat/jkt\n",
      "'/usr/bin/git' clone --depth 1 --no-hardlinks --recurse-submodules https://github.com/flying-sheep/ndjson-testrunner.git /tmp/Rtmpnfvdt4/remotes123364e94dbb/IRkernel-IRkernel-d9ed0e0/tests/testthat/njr\n"
     ]
    },
    {
     "name": "stdout",
     "output_type": "stream",
     "text": [
      "\n",
      "✔  checking for file ‘/tmp/Rtmpnfvdt4/remotes123364e94dbb/IRkernel-IRkernel-d9ed0e0/DESCRIPTION’ ...\n",
      "─  preparing ‘IRkernel’:\n",
      "✔  checking DESCRIPTION meta-information ...\n",
      "─  checking for LF line-endings in source and make files and shell scripts\n",
      "─  checking for empty or unneeded directories\n",
      "   Removed empty directory ‘IRkernel/example-notebooks’\n",
      "─  building ‘IRkernel_0.8.15.9000.tar.gz’\n",
      "   \n",
      "\r"
     ]
    },
    {
     "name": "stderr",
     "output_type": "stream",
     "text": [
      "Installing package into ‘/usr/local/lib/R/site-library’\n",
      "(as ‘lib’ is unspecified)\n"
     ]
    },
    {
     "ename": "ERROR",
     "evalue": "Error in i.p(...): (converted from warning) 'lib = \"/usr/local/lib/R/site-library\"' is not writable\n",
     "output_type": "error",
     "traceback": [
      "Error in i.p(...): (converted from warning) 'lib = \"/usr/local/lib/R/site-library\"' is not writable\nTraceback:\n",
      "1. devtools::install_github(\"IRkernel/IRkernel\")",
      "2. install_remotes(remotes, auth_token = auth_token, host = host, \n .     dependencies = dependencies, upgrade = upgrade, force = force, \n .     quiet = quiet, build = build, build_opts = build_opts, repos = repos, \n .     type = type, ...)",
      "3. vapply(remotes, install_remote, ..., FUN.VALUE = character(1))",
      "4. FUN(X[[i]], ...)",
      "5. install(source, dependencies = dependencies, upgrade = upgrade, \n .     force = force, quiet = quiet, build = build, build_opts = build_opts, \n .     repos = repos, type = type, ...)",
      "6. safe_install_packages(pkgdir, repos = NULL, quiet = quiet, type = \"source\", \n .     ...)",
      "7. with_envvar(c(R_LIBS = lib, R_LIBS_USER = lib, R_LIBS_SITE = lib), \n .     if (should_error_for_warnings()) {\n .         with_options(list(warn = 2), with_rprofile_user(\"options(warn = 2)\", \n .             i.p(...)))\n .     } else {\n .         i.p(...)\n .     })",
      "8. force(code)",
      "9. with_options(list(warn = 2), with_rprofile_user(\"options(warn = 2)\", \n .     i.p(...)))",
      "10. force(code)",
      "11. with_rprofile_user(\"options(warn = 2)\", i.p(...))",
      "12. with_envvar(c(R_PROFILE_USER = temp_rprofile), {\n  .     force(code)\n  . })",
      "13. force(code)",
      "14. force(code)",
      "15. i.p(...)",
      "16. warning(gettextf(\"'lib = \\\"%s\\\"' is not writable\", lib), domain = NA, \n  .     immediate. = TRUE)",
      "17. .signalSimpleWarning(\"'lib = \\\"/usr/local/lib/R/site-library\\\"' is not writable\", \n  .     quote(i.p(...)))",
      "18. withRestarts({\n  .     .Internal(.signalCondition(simpleWarning(msg, call), msg, \n  .         call))\n  .     .Internal(.dfltWarn(msg, call))\n  . }, muffleWarning = function() NULL)",
      "19. withOneRestart(expr, restarts[[1L]])",
      "20. doWithOneRestart(return(expr), restart)"
     ]
    }
   ],
   "source": [
    "devtools::install_github('IRkernel/IRkernel')"
   ]
  },
  {
   "cell_type": "markdown",
   "metadata": {},
   "source": [
    "<div style=\"direction:rtl;line-height:300%;\">\n",
    "\t<font face=\"XB Niloofar\" size=5>\n",
    "\tو حال باید R kernel را برای Jupyter نمایان کنیم. \n",
    "    </font>\n",
    "</div>"
   ]
  },
  {
   "cell_type": "code",
   "execution_count": null,
   "metadata": {},
   "outputs": [],
   "source": [
    "IRkernel::installspec()"
   ]
  },
  {
   "cell_type": "markdown",
   "metadata": {},
   "source": [
    "<br>\n",
    "<div id=\"sec_whatisR\" style=\"direction:rtl;line-height:300%;\">\n",
    "\t<font face=\"XB Niloofar\" size=5>\n",
    "        <font color=#000000 size=5>\n",
    "            <b>\n",
    "\tنصب R Studio :\n",
    "            </b>\n",
    "        </font>\n",
    "        <br>\n",
    "\tR studio  یک محیط گرافیکی برای کار باR  می‌باشد. برای نصب آن را از <a href=\"http://www.rstudio.com/products/rstudio/download/\">اینجا</a> دانلود کنید.\n",
    "        <br>\n",
    "\t</font>\n",
    "</div>"
   ]
  },
  {
   "cell_type": "markdown",
   "metadata": {},
   "source": [
    "<br>\n",
    "<div id=\"sec_R_packages\" style=\"direction:rtl;line-height:300%;\">\n",
    "\t<font face=\"XB Niloofar\" size=5>\n",
    "        \t<font face=\"XB Niloofar\" size=5>\n",
    "\t\t<font color=#006FDE size=6>\n",
    "        پکیج‌های R\n",
    "    </font>\n",
    "                <hr>\n",
    "        <b>\n",
    "        مجموعه دستورات مفید در ارتباط با پکیج‌ها :\n",
    "        </b>\n",
    "        <br>\n",
    "    </font>\n",
    "</div>"
   ]
  },
  {
   "cell_type": "code",
   "execution_count": null,
   "metadata": {},
   "outputs": [],
   "source": [
    "## Installing a package\n",
    "install.packages(\"package-name\")\n",
    "\n",
    "## Removing a package\n",
    "remove.packages(\"\")\n",
    "\n",
    "## Installed packages that need to be updated\n",
    "old.packages()\n",
    "\n",
    "## Updating old packages\n",
    "update.packages()\n",
    "\n",
    "## Using a function from a package without loading the package \n",
    "### PackageName::function()\n",
    "ggplot2::geom_point"
   ]
  },
  {
   "cell_type": "markdown",
   "metadata": {},
   "source": [
    "<br>\n",
    "<div id=\"sec_R_Intro\" style=\"direction:rtl;line-height:300%;\">\n",
    "\t<font face=\"XB Niloofar\" size=5>\n",
    "\t\t<font color=#006FDE size=6>\n",
    "        مقدمات R\n",
    "            <hr>\n",
    "        </font>\n",
    "\t\t<p></p>\n",
    "\t</font>\n",
    "</div>"
   ]
  },
  {
   "cell_type": "code",
   "execution_count": null,
   "metadata": {},
   "outputs": [],
   "source": [
    "print(\"Hello World!\")"
   ]
  },
  {
   "cell_type": "markdown",
   "metadata": {},
   "source": [
    "<br>\n",
    "<div id=\"sec_whatisR\" style=\"direction:rtl;line-height:300%;\">\n",
    "\t<font face=\"XB Niloofar\" size=5>\n",
    "        <font color=#000000 size=5>\n",
    "            <b>\n",
    "                چاپ کردن :\n",
    "            </b>\n",
    "        </font>\n",
    "        <br>\n",
    "        فرض کنید که می‌خواهیم مقدار یک عبارت و یا متغیر را نمایش دهیم. برای این کار کافیست تا آن عبارت و یا متغیر را اجرا کرده و نتیجه چاپ می‌شود.\n",
    "        <br>\n",
    "\t</font>\n",
    "</div>"
   ]
  },
  {
   "cell_type": "code",
   "execution_count": null,
   "metadata": {},
   "outputs": [],
   "source": [
    "1 + 1\n",
    "pi\n",
    "sqrt(8)"
   ]
  },
  {
   "cell_type": "markdown",
   "metadata": {},
   "source": [
    "<div id=\"sec_whatisR\" style=\"direction:rtl;line-height:300%;\">\n",
    "\t<font face=\"XB Niloofar\" size=5>\n",
    "        همینطور از تابع <code>()print</code> نیز برای چاپ کردن می‌توانیم استفاده کنیم.\n",
    "        <br>\n",
    "\t</font>\n",
    "</div>"
   ]
  },
  {
   "cell_type": "code",
   "execution_count": null,
   "metadata": {},
   "outputs": [],
   "source": [
    "print(pi)"
   ]
  },
  {
   "cell_type": "markdown",
   "metadata": {},
   "source": [
    "<div id=\"sec_whatisR\" style=\"direction:rtl;line-height:300%;\">\n",
    "\t<font face=\"XB Niloofar\" size=5>\n",
    "        نکته‌ای که تابع <code>()print</code> را متمایز می کند این است که هر شی (Object) را که در R داریم در فرمت درست چاپ می‌کند.\n",
    "        <br>\n",
    "        به عنوان مثال در زیر یک ماتریس را چاپ می‌کنیم. (درباره‌ی داده‌ساختار‌ها در جلوتر صحبت خواهیم کرد.)\n",
    "\t</font>\n",
    "</div>"
   ]
  },
  {
   "cell_type": "code",
   "execution_count": null,
   "metadata": {},
   "outputs": [],
   "source": [
    "print(matrix(c(1,2,3,4),2,2))"
   ]
  },
  {
   "cell_type": "markdown",
   "metadata": {},
   "source": [
    "<div id=\"sec_whatisR\" style=\"direction:rtl;line-height:300%;\">\n",
    "\t<font face=\"XB Niloofar\" size=5>\n",
    "        توجه : تابع <code>()print</code> در هربار تنها یک شی را چاپ می‌کند.\n",
    "\t</font>\n",
    "</div>"
   ]
  },
  {
   "cell_type": "code",
   "execution_count": null,
   "metadata": {},
   "outputs": [],
   "source": [
    "print(\"Pi number is equal to \" , pi)"
   ]
  },
  {
   "cell_type": "markdown",
   "metadata": {},
   "source": [
    "<div id=\"sec_whatisR\" style=\"direction:rtl;line-height:300%;\">\n",
    "\t<font face=\"XB Niloofar\" size=5>\n",
    "        برای این‌کار از تابع <code>()cat</code> استفاده می‌کنیم. \n",
    "    </font>\n",
    "</div>"
   ]
  },
  {
   "cell_type": "code",
   "execution_count": null,
   "metadata": {},
   "outputs": [],
   "source": [
    "cat(\"Pi number is equal to\", pi , \"\\n\")"
   ]
  },
  {
   "cell_type": "markdown",
   "metadata": {},
   "source": [
    "<div id=\"sec_whatisR\" style=\"direction:rtl;line-height:300%;\">\n",
    "\t<font face=\"XB Niloofar\" size=5>\n",
    "        تابع <code>()cat</code> توانایی چاپ بردار (Vector) های ساده را نیز دارد.\n",
    "    </font>\n",
    "</div>"
   ]
  },
  {
   "cell_type": "code",
   "execution_count": null,
   "metadata": {},
   "outputs": [],
   "source": [
    "cat(\"12 months of the year are\" , month.name , \"\\n\")"
   ]
  },
  {
   "cell_type": "markdown",
   "metadata": {},
   "source": [
    "<div id=\"sec_whatisR\" style=\"direction:rtl;line-height:300%;\">\n",
    "\t<font face=\"XB Niloofar\" size=5>\n",
    "(month.name و pi از جمله ثابت هایی هستند که خود R فراهم می‌کند.)\n",
    "    </font>\n",
    "</div>"
   ]
  },
  {
   "cell_type": "markdown",
   "metadata": {},
   "source": [
    "<br>\n",
    "<div id=\"sec_whatisR\" style=\"direction:rtl;line-height:300%;\">\n",
    "\t<font face=\"XB Niloofar\" size=5>\n",
    "        <font color=#000000 size=5>\n",
    "            <b>\n",
    "            تعریف متغیر :\n",
    "            </b>\n",
    "        </font>\n",
    "        <br>\n",
    "        در R برای تعریف یک متغیر نیاز به آوردن نوع آن نمی‌باشد. کافیست از عملگر <code>-&gt;</code> استفاده کنیم.\n",
    "\t</font>\n",
    "</div>"
   ]
  },
  {
   "cell_type": "code",
   "execution_count": null,
   "metadata": {},
   "outputs": [],
   "source": [
    "s <- \"this is a string\"\n",
    "x <- 4\n",
    "s\n",
    "print(x)"
   ]
  },
  {
   "cell_type": "markdown",
   "metadata": {},
   "source": [
    "<div id=\"sec_whatisR\" style=\"direction:rtl;line-height:300%;\">\n",
    "\t<font face=\"XB Niloofar\" size=5>\n",
    "        نکته 1 : در اسم‌گذاری شی‌ها (Objects) می‌توانید از نقطه \".\" نیز در نام آن‌ها استفاده‌کنید همانطور که در بالاتر دیدیم month.name اسم یک بردار در R می‌باشد.\n",
    "        <br>\n",
    "        نکته 2 : از = نیز می‌توان برای مقدار‌دهی استفاده کرد ، اما در R ، عملگر =  کاربرد دیگری نیز دارد که آن مشخص کردن یک پارامتر در یک تابع می‌باشد. برای همین بهتر است از <code>-&gt;</code> استفاده کنیم.\n",
    "        <br>\n",
    "        <a href=\"https://renkun.me/2014/01/28/difference-between-assignment-operators-in-r/\">اینجا</a> را مطالعه کنید.\n",
    "    <br><br>\n",
    "        با تعریف یک متغیر به این شکل ، متغیر در workspace نگه داشته می‌شود.\n",
    "        <br>\n",
    "        برای مشاهده متغیر‌ها و توابعی که در workspace ما قرار دارد از تابع <code>()ls</code> استفاده می‌کنیم.\n",
    "        <br>\n",
    "        برای دریافت جزئیات از <code>()ls.str</code> استفاده کنید.\n",
    "    </font>\n",
    "</div>"
   ]
  },
  {
   "cell_type": "code",
   "execution_count": null,
   "metadata": {},
   "outputs": [],
   "source": [
    "ls()\n",
    "ls.str()\n",
    "a <- 4\n",
    "ls()\n",
    "ls.str()"
   ]
  },
  {
   "cell_type": "markdown",
   "metadata": {},
   "source": [
    "<div id=\"sec_whatisR\" style=\"direction:rtl;line-height:300%;\">\n",
    "\t<font face=\"XB Niloofar\" size=5>\n",
    "        با استفاده از دستور <code>()rm</code> می‌توانید متغیر‌ها را از workspace خود پاک کنید.\n",
    "    </font>\n",
    "</div>"
   ]
  },
  {
   "cell_type": "code",
   "execution_count": null,
   "metadata": {},
   "outputs": [],
   "source": [
    "print(\"Removing x\")\n",
    "rm(\"x\")\n",
    "ls.str()\n",
    "\n",
    "##Clearing the workspace\n",
    "rm(list = ls())\n",
    "\n",
    "print(\"The workspace now :\")\n",
    "ls()\n"
   ]
  },
  {
   "cell_type": "markdown",
   "metadata": {},
   "source": [
    "<br>\n",
    "<div id=\"sec_whatisR\" style=\"direction:rtl;line-height:300%;\">\n",
    "\t<font face=\"XB Niloofar\" size=5>\n",
    "        <font color=#000000 size=5>\n",
    "            <b>\n",
    "کمک گرفتن در R :\n",
    "            </b>\n",
    "        </font>\n",
    "        <br>\n",
    "        یکی از بهترین راه‌های یادگیری و کمک گرفتن ، مطالعه مستندات پکیج‌ها و توابع می‌باشد که در خود R موجود می‌باشند.\n",
    "        <br><br>\n",
    "        از روش‌های زیر می‌توانید این مستندات را ببینید.\n",
    "        </font>\n",
    "</div>"
   ]
  },
  {
   "cell_type": "code",
   "execution_count": null,
   "metadata": {},
   "outputs": [],
   "source": [
    "## Documentation of installed functions\n",
    "?mean\n",
    "\n",
    "## Documentation of functions\n",
    "??highchart\n",
    "\n",
    "## Documentation of packages or functions\n",
    "help(\"\")\n",
    "\n",
    "#### Getting help on packages\n",
    "vignette(\"\")"
   ]
  },
  {
   "cell_type": "markdown",
   "metadata": {},
   "source": [
    "<br>\n",
    "<div id=\"sec_whatisR\" style=\"direction:rtl;line-height:300%;\">\n",
    "\t<font face=\"XB Niloofar\" size=5>\n",
    "        <font color=#000000 size=5>\n",
    "            <b>\n",
    "                ساخت یک بردار :\n",
    "            </b>\n",
    "        </font>\n",
    "        <br>\n",
    "            بردار‌ها از اصلی ترین قسمت‌های R می‌باشند. بردار‌ها می‌توانند شامل اعداد ، رشته‌ها یا مقادیر منطقی باشند اما نمی‌توانند به صورت ترکیبی از چند نوع باشند.\n",
    "        <br>\n",
    "        با عملگر <code>()c</code> می‌توانید یک بردار بسازید.\n",
    "        </font>\n",
    "</div>"
   ]
  },
  {
   "cell_type": "code",
   "execution_count": null,
   "metadata": {},
   "outputs": [],
   "source": [
    "c(1,3,3*pi,4+5)\n",
    "c(T,F,T)"
   ]
  },
  {
   "cell_type": "markdown",
   "metadata": {},
   "source": [
    "<div id=\"sec_whatisR\" style=\"direction:rtl;line-height:300%;\">\n",
    "\t<font face=\"XB Niloofar\" size=5>\n",
    "        اگر مقادیر داده شده به <code>()c</code> خود ، بردار باشند آن‌ها را باز کرده و با دیگر مقادیر ترکیب می‌کند.\n",
    "    </font>\n",
    "</div>"
   ]
  },
  {
   "cell_type": "code",
   "execution_count": null,
   "metadata": {},
   "outputs": [],
   "source": [
    "v1 <- c(1,4,5)\n",
    "v2 <- c(8,5,6)\n",
    "c(2,v1,v2,0)"
   ]
  },
  {
   "cell_type": "markdown",
   "metadata": {},
   "source": [
    "<br>\n",
    "<div id=\"sec_whatisR\" style=\"direction:rtl;line-height:300%;\">\n",
    "\t<font face=\"XB Niloofar\" size=5>\n",
    "        <font color=#000000 size=5>\n",
    "            <b>\n",
    "                مقایسه دو بردار :\n",
    "            </b>\n",
    "            <br>\n",
    "        </font>\n",
    "            با مقایسه دو بردار ، R عضو به عضو دو بردار را مقایسه کرده و برداری از مقادیر منطقی True – False برمی‌گرداند.\n",
    "        </font>\n",
    "</div>"
   ]
  },
  {
   "cell_type": "code",
   "execution_count": null,
   "metadata": {},
   "outputs": [],
   "source": [
    "v <- c(2,4,6)\n",
    "u <- c(3,4,5)\n",
    "\n",
    "u != v   # 2 != 3  4 == 4  6 != 5\n",
    "\n",
    "v > u    # 2 < 3   4 == 4   6 > 5"
   ]
  },
  {
   "cell_type": "markdown",
   "metadata": {},
   "source": [
    "<div id=\"sec_whatisR\" style=\"direction:rtl;line-height:300%;\">\n",
    "\t<font face=\"XB Niloofar\" size=5>\n",
    "        همین طور :\n",
    "    </font>\n",
    "</div>"
   ]
  },
  {
   "cell_type": "code",
   "execution_count": null,
   "metadata": {},
   "outputs": [],
   "source": [
    "u > 4\n",
    "v*2 > 7"
   ]
  },
  {
   "cell_type": "markdown",
   "metadata": {},
   "source": [
    "<br>\n",
    "<div id=\"sec_whatisR\" style=\"direction:rtl;line-height:300%;\">\n",
    "\t<font face=\"XB Niloofar\" size=5>\n",
    "        <font color=#000000 size=5>\n",
    "            <b>\n",
    "انتخاب یک یا چند عضو بردار :\n",
    "            </b>\n",
    "            <br>\n",
    "        </font>\n",
    "        بر حسب شرایط به یک یا چند روش زیر عمل می‌کنیم.\n",
    "        <br>\n",
    "        <br>\n",
    "        - استفاده از کروشه و انتخاب اعضا بر حسب اندیس آن‌ها. (توجه کنید که R اندیس‌ها از 1 شروع می‌شود.)\n",
    "        </font>\n",
    "</div>"
   ]
  },
  {
   "cell_type": "code",
   "execution_count": null,
   "metadata": {},
   "outputs": [],
   "source": [
    "v <- c(0,10,20,30,7,11,23)\n",
    "v[1]"
   ]
  },
  {
   "cell_type": "markdown",
   "metadata": {},
   "source": [
    "<div id=\"sec_whatisR\" style=\"direction:rtl;line-height:300%;\">\n",
    "\t<font face=\"XB Niloofar\" size=5>\n",
    "        - استفاده از اندیس های منفی به عنوان اعضای مستثنی شده.\n",
    "    </font>\n",
    "</div>"
   ]
  },
  {
   "cell_type": "code",
   "execution_count": null,
   "metadata": {},
   "outputs": [],
   "source": [
    "v[-1]"
   ]
  },
  {
   "cell_type": "markdown",
   "metadata": {},
   "source": [
    "<div id=\"sec_whatisR\" style=\"direction:rtl;line-height:300%;\">\n",
    "\t<font face=\"XB Niloofar\" size=5>\n",
    "        - استفاده از برداری از اندیس‌ها برای انتخاب چند عضو\n",
    "    </font>\n",
    "</div>"
   ]
  },
  {
   "cell_type": "code",
   "execution_count": null,
   "metadata": {},
   "outputs": [],
   "source": [
    "v[2:4]\n",
    "v[c(2,3,4)]\n",
    "v[-c(2,3,4)]"
   ]
  },
  {
   "cell_type": "markdown",
   "metadata": {},
   "source": [
    "<div id=\"sec_whatisR\" style=\"direction:rtl;line-height:300%;\">\n",
    "\t<font face=\"XB Niloofar\" size=5>\n",
    "        - استفاده از یک بردار منطقی (در بالاتر دیدیم که با اعمال عملگر‌های منطقی بر یک بردار ، خروجی یک بردار شامل مقادیر منطقی می‌باشد.)\n",
    "    </font>\n",
    "</div>"
   ]
  },
  {
   "cell_type": "code",
   "execution_count": null,
   "metadata": {},
   "outputs": [],
   "source": [
    "v[v > 8]\n",
    "v[v > median(v)]"
   ]
  },
  {
   "cell_type": "markdown",
   "metadata": {},
   "source": [
    "<br>\n",
    "<div id=\"sec_whatisR\" style=\"direction:rtl;line-height:300%;\">\n",
    "\t<font face=\"XB Niloofar\" size=5>\n",
    "        <font color=#000000 size=5>\n",
    "            <b>\n",
    "تولید دنباله‌ای از اعداد :\n",
    "            </b>\n",
    "            <br>\n",
    "        </font>\n",
    "          - ساده‌ترین راه تولید دنباله با افزایش 1 :\n",
    "        </font>\n",
    "</div>"
   ]
  },
  {
   "cell_type": "code",
   "execution_count": null,
   "metadata": {},
   "outputs": [],
   "source": [
    "4:9\n",
    "-3:7"
   ]
  },
  {
   "cell_type": "markdown",
   "metadata": {},
   "source": [
    "<div id=\"sec_whatisR\" style=\"direction:rtl;line-height:300%;\">\n",
    "\t<font face=\"XB Niloofar\" size=5>\n",
    "        فکر می‌کنید خروجی 6:4 چیست ؟\n",
    "    </font>\n",
    "</div>"
   ]
  },
  {
   "cell_type": "code",
   "execution_count": null,
   "metadata": {},
   "outputs": [],
   "source": [
    "6:4"
   ]
  },
  {
   "cell_type": "markdown",
   "metadata": {},
   "source": [
    "<div id=\"sec_whatisR\" style=\"direction:rtl;line-height:300%;\">\n",
    "\t<font face=\"XB Niloofar\" size=5>\n",
    "        <br>\n",
    "        - می‌توانید برای ایجاد دنباله‌هایی با هر مقدار افزایش و یا با طول دنباله ایجاد شده  مشخص از تابع <code>()seq</code> استفاده کنید.\n",
    "    </font>\n",
    "</div>"
   ]
  },
  {
   "cell_type": "code",
   "execution_count": 41,
   "metadata": {},
   "outputs": [
    {
     "data": {
      "text/html": [
       "<ol class=list-inline>\n",
       "\t<li>3</li>\n",
       "\t<li>5</li>\n",
       "\t<li>7</li>\n",
       "</ol>\n"
      ],
      "text/latex": [
       "\\begin{enumerate*}\n",
       "\\item 3\n",
       "\\item 5\n",
       "\\item 7\n",
       "\\end{enumerate*}\n"
      ],
      "text/markdown": [
       "1. 3\n",
       "2. 5\n",
       "3. 7\n",
       "\n",
       "\n"
      ],
      "text/plain": [
       "[1] 3 5 7"
      ]
     },
     "metadata": {},
     "output_type": "display_data"
    },
    {
     "data": {
      "text/html": [
       "<ol class=list-inline>\n",
       "\t<li>5</li>\n",
       "\t<li>10</li>\n",
       "\t<li>15</li>\n",
       "\t<li>20</li>\n",
       "</ol>\n"
      ],
      "text/latex": [
       "\\begin{enumerate*}\n",
       "\\item 5\n",
       "\\item 10\n",
       "\\item 15\n",
       "\\item 20\n",
       "\\end{enumerate*}\n"
      ],
      "text/markdown": [
       "1. 5\n",
       "2. 10\n",
       "3. 15\n",
       "4. 20\n",
       "\n",
       "\n"
      ],
      "text/plain": [
       "[1]  5 10 15 20"
      ]
     },
     "metadata": {},
     "output_type": "display_data"
    },
    {
     "data": {
      "text/html": [
       "<ol class=list-inline>\n",
       "\t<li>1</li>\n",
       "\t<li>1.25</li>\n",
       "\t<li>1.5</li>\n",
       "\t<li>1.75</li>\n",
       "\t<li>2</li>\n",
       "</ol>\n"
      ],
      "text/latex": [
       "\\begin{enumerate*}\n",
       "\\item 1\n",
       "\\item 1.25\n",
       "\\item 1.5\n",
       "\\item 1.75\n",
       "\\item 2\n",
       "\\end{enumerate*}\n"
      ],
      "text/markdown": [
       "1. 1\n",
       "2. 1.25\n",
       "3. 1.5\n",
       "4. 1.75\n",
       "5. 2\n",
       "\n",
       "\n"
      ],
      "text/plain": [
       "[1] 1.00 1.25 1.50 1.75 2.00"
      ]
     },
     "metadata": {},
     "output_type": "display_data"
    }
   ],
   "source": [
    "seq(from = 3, to = 8, by = 2)\n",
    "seq(from = 5, to = 20, length.out = 4)\n",
    "seq(1,2,length.out = 5)"
   ]
  },
  {
   "cell_type": "markdown",
   "metadata": {},
   "source": [
    "<div id=\"sec_whatisR\" style=\"direction:rtl;line-height:300%;\">\n",
    "\t<font face=\"XB Niloofar\" size=5>\n",
    "        <br>\n",
    "        -  برای ایجاد مقادیر تکراری از تابع <code>()rep</code> استفاده می‌کنیم.\n",
    "    </font>\n",
    "</div>"
   ]
  },
  {
   "cell_type": "code",
   "execution_count": 42,
   "metadata": {},
   "outputs": [
    {
     "data": {
      "text/html": [
       "<ol class=list-inline>\n",
       "\t<li>2</li>\n",
       "\t<li>2</li>\n",
       "\t<li>2</li>\n",
       "\t<li>2</li>\n",
       "</ol>\n"
      ],
      "text/latex": [
       "\\begin{enumerate*}\n",
       "\\item 2\n",
       "\\item 2\n",
       "\\item 2\n",
       "\\item 2\n",
       "\\end{enumerate*}\n"
      ],
      "text/markdown": [
       "1. 2\n",
       "2. 2\n",
       "3. 2\n",
       "4. 2\n",
       "\n",
       "\n"
      ],
      "text/plain": [
       "[1] 2 2 2 2"
      ]
     },
     "metadata": {},
     "output_type": "display_data"
    }
   ],
   "source": [
    "rep(2,times = 4)"
   ]
  },
  {
   "cell_type": "code",
   "execution_count": 43,
   "metadata": {},
   "outputs": [
    {
     "data": {
      "text/html": [
       "<ol class=list-inline>\n",
       "\t<li>1</li>\n",
       "\t<li>2</li>\n",
       "\t<li>3</li>\n",
       "\t<li>4</li>\n",
       "\t<li>5</li>\n",
       "\t<li>6</li>\n",
       "\t<li>7</li>\n",
       "\t<li>8</li>\n",
       "\t<li>9</li>\n",
       "\t<li>10</li>\n",
       "\t<li>11</li>\n",
       "\t<li>12</li>\n",
       "\t<li>13</li>\n",
       "\t<li>14</li>\n",
       "\t<li>15</li>\n",
       "</ol>\n"
      ],
      "text/latex": [
       "\\begin{enumerate*}\n",
       "\\item 1\n",
       "\\item 2\n",
       "\\item 3\n",
       "\\item 4\n",
       "\\item 5\n",
       "\\item 6\n",
       "\\item 7\n",
       "\\item 8\n",
       "\\item 9\n",
       "\\item 10\n",
       "\\item 11\n",
       "\\item 12\n",
       "\\item 13\n",
       "\\item 14\n",
       "\\item 15\n",
       "\\end{enumerate*}\n"
      ],
      "text/markdown": [
       "1. 1\n",
       "2. 2\n",
       "3. 3\n",
       "4. 4\n",
       "5. 5\n",
       "6. 6\n",
       "7. 7\n",
       "8. 8\n",
       "9. 9\n",
       "10. 10\n",
       "11. 11\n",
       "12. 12\n",
       "13. 13\n",
       "14. 14\n",
       "15. 15\n",
       "\n",
       "\n"
      ],
      "text/plain": [
       " [1]  1  2  3  4  5  6  7  8  9 10 11 12 13 14 15"
      ]
     },
     "metadata": {},
     "output_type": "display_data"
    }
   ],
   "source": [
    "c(1:5,seq(6,10),(1:5)+10)"
   ]
  },
  {
   "cell_type": "markdown",
   "metadata": {},
   "source": [
    "<br>\n",
    "<div id=\"sec_statFunc\" style=\"direction:rtl;line-height:300%;\">\n",
    "\t<font face=\"XB Niloofar\" size=5>\n",
    "\t\t<font color=#006FDE size=6>\n",
    "        توابع آماری\n",
    "        </font>\n",
    "\t\t<p></p>\n",
    "\t\t<hr>\n",
    "        به طور پیش‌فرض در پکیج stats در R بسیاری از توابع کارآمد آماری موجود است که در زیر به بخشی از آن‌ها می‌پردازیم.\n",
    "        <br><br>\n",
    "        توابع مقدماتی آماری :\n",
    "</font>\n",
    "</div>"
   ]
  },
  {
   "cell_type": "code",
   "execution_count": 44,
   "metadata": {},
   "outputs": [
    {
     "data": {
      "text/html": [
       "<ol class=list-inline>\n",
       "\t<li>10</li>\n",
       "\t<li>9</li>\n",
       "\t<li>8</li>\n",
       "\t<li>7</li>\n",
       "\t<li>6</li>\n",
       "\t<li>5</li>\n",
       "\t<li>4</li>\n",
       "\t<li>3</li>\n",
       "\t<li>2</li>\n",
       "\t<li>1</li>\n",
       "</ol>\n"
      ],
      "text/latex": [
       "\\begin{enumerate*}\n",
       "\\item 10\n",
       "\\item 9\n",
       "\\item 8\n",
       "\\item 7\n",
       "\\item 6\n",
       "\\item 5\n",
       "\\item 4\n",
       "\\item 3\n",
       "\\item 2\n",
       "\\item 1\n",
       "\\end{enumerate*}\n"
      ],
      "text/markdown": [
       "1. 10\n",
       "2. 9\n",
       "3. 8\n",
       "4. 7\n",
       "5. 6\n",
       "6. 5\n",
       "7. 4\n",
       "8. 3\n",
       "9. 2\n",
       "10. 1\n",
       "\n",
       "\n"
      ],
      "text/plain": [
       " [1] 10  9  8  7  6  5  4  3  2  1"
      ]
     },
     "metadata": {},
     "output_type": "display_data"
    },
    {
     "name": "stdout",
     "output_type": "stream",
     "text": [
      "[1] \"Mean :\"\n"
     ]
    },
    {
     "data": {
      "text/html": [
       "5.5"
      ],
      "text/latex": [
       "5.5"
      ],
      "text/markdown": [
       "5.5"
      ],
      "text/plain": [
       "[1] 5.5"
      ]
     },
     "metadata": {},
     "output_type": "display_data"
    },
    {
     "name": "stdout",
     "output_type": "stream",
     "text": [
      "[1] \"Standard Deviation :\"\n"
     ]
    },
    {
     "data": {
      "text/html": [
       "3.02765035409749"
      ],
      "text/latex": [
       "3.02765035409749"
      ],
      "text/markdown": [
       "3.02765035409749"
      ],
      "text/plain": [
       "[1] 3.02765"
      ]
     },
     "metadata": {},
     "output_type": "display_data"
    },
    {
     "name": "stdout",
     "output_type": "stream",
     "text": [
      "[1] \"Variance :\"\n"
     ]
    },
    {
     "data": {
      "text/html": [
       "9.16666666666667"
      ],
      "text/latex": [
       "9.16666666666667"
      ],
      "text/markdown": [
       "9.16666666666667"
      ],
      "text/plain": [
       "[1] 9.166667"
      ]
     },
     "metadata": {},
     "output_type": "display_data"
    },
    {
     "name": "stdout",
     "output_type": "stream",
     "text": [
      "[1] \"Min :\"\n"
     ]
    },
    {
     "data": {
      "text/html": [
       "1"
      ],
      "text/latex": [
       "1"
      ],
      "text/markdown": [
       "1"
      ],
      "text/plain": [
       "[1] 1"
      ]
     },
     "metadata": {},
     "output_type": "display_data"
    },
    {
     "name": "stdout",
     "output_type": "stream",
     "text": [
      "[1] \"Max :\"\n"
     ]
    },
    {
     "data": {
      "text/html": [
       "10"
      ],
      "text/latex": [
       "10"
      ],
      "text/markdown": [
       "10"
      ],
      "text/plain": [
       "[1] 10"
      ]
     },
     "metadata": {},
     "output_type": "display_data"
    },
    {
     "name": "stdout",
     "output_type": "stream",
     "text": [
      "[1] \"Median :\"\n"
     ]
    },
    {
     "data": {
      "text/html": [
       "5.5"
      ],
      "text/latex": [
       "5.5"
      ],
      "text/markdown": [
       "5.5"
      ],
      "text/plain": [
       "[1] 5.5"
      ]
     },
     "metadata": {},
     "output_type": "display_data"
    }
   ],
   "source": [
    "u <- c(10:1)\n",
    "u\n",
    "\n",
    "print(\"Mean :\")\n",
    "mean(u)\n",
    "\n",
    "print(\"Standard Deviation :\")\n",
    "sd(u)\n",
    "\n",
    "print(\"Variance :\")\n",
    "var(u)\n",
    "\n",
    "print(\"Min :\")\n",
    "min(u)\n",
    "\n",
    "print(\"Max :\")\n",
    "max(u)\n",
    "\n",
    "print(\"Median :\")\n",
    "median(u)\n"
   ]
  },
  {
   "cell_type": "markdown",
   "metadata": {},
   "source": [
    "<div id=\"sec_whatisR\" style=\"direction:rtl;line-height:300%;\">\n",
    "\t<font face=\"XB Niloofar\" size=5>\n",
    "        <br>\n",
    "        و توابع توزیع‌های احتمالاتی :\n",
    "    </font>\n",
    "</div>"
   ]
  },
  {
   "cell_type": "code",
   "execution_count": 45,
   "metadata": {},
   "outputs": [
    {
     "data": {
      "text/html": [
       "<ol class=list-inline>\n",
       "\t<li>-0.0988460340402374</li>\n",
       "\t<li>0.545274577551075</li>\n",
       "\t<li>0.253775495955759</li>\n",
       "\t<li>-0.132137177242155</li>\n",
       "\t<li>1.42425194077649</li>\n",
       "</ol>\n"
      ],
      "text/latex": [
       "\\begin{enumerate*}\n",
       "\\item -0.0988460340402374\n",
       "\\item 0.545274577551075\n",
       "\\item 0.253775495955759\n",
       "\\item -0.132137177242155\n",
       "\\item 1.42425194077649\n",
       "\\end{enumerate*}\n"
      ],
      "text/markdown": [
       "1. -0.0988460340402374\n",
       "2. 0.545274577551075\n",
       "3. 0.253775495955759\n",
       "4. -0.132137177242155\n",
       "5. 1.42425194077649\n",
       "\n",
       "\n"
      ],
      "text/plain": [
       "[1] -0.09884603  0.54527458  0.25377550 -0.13213718  1.42425194"
      ]
     },
     "metadata": {},
     "output_type": "display_data"
    }
   ],
   "source": [
    "## For a random sample of normal distribution\n",
    "sample <- rnorm(n = 5, mean = 0, sd = 1)\n",
    "sample\n",
    "##For other distributions:\n",
    "## Use    runif    for uniform sample\n",
    "## Use    rbinom   for binomial sample\n",
    "## ..."
   ]
  },
  {
   "cell_type": "markdown",
   "metadata": {},
   "source": [
    "<div id=\"sec_whatisR\" style=\"direction:rtl;line-height:300%;\">\n",
    "\t<font face=\"XB niloofar\" size=5>\n",
    "        <br>\n",
    "        علاوه بر تابع بالا ، <code>()dnorm</code> چگالی توزیع را و <code>()pnorm</code> تابع توزیع را بر می‌گردانند.\n",
    "    </font>\n",
    "</div>"
   ]
  },
  {
   "cell_type": "markdown",
   "metadata": {},
   "source": [
    "<br>\n",
    "<div id=\"sec_R_DSs\" style=\"direction:rtl;line-height:300%;\">\n",
    "\t<font face=\"XB niloofar\" size=5>\n",
    "\t\t<font color=#006FDE size=6>\n",
    "            داده‌ساختار‌ها در R\n",
    "        </font>\n",
    "\t\t<p></p>\n",
    "\t\t<hr>\n",
    "        <br>\n",
    "        <b>\n",
    "            بردار‌ها :\n",
    "        </b>\n",
    "        <br>\n",
    "        در مورد بردار‌ها بالاتر صحبت کردیم و در این بخش تنها به چند نکته تکمیلی می‌پردازیم :\n",
    "        <br>\n",
    "        - اضافه‌کردن داده به بردار :\n",
    "        <br>\n",
    "</font>\n",
    "</div>"
   ]
  },
  {
   "cell_type": "code",
   "execution_count": 46,
   "metadata": {},
   "outputs": [
    {
     "data": {
      "text/html": [
       "<ol class=list-inline>\n",
       "\t<li>1</li>\n",
       "\t<li>2</li>\n",
       "\t<li>3</li>\n",
       "\t<li>4</li>\n",
       "\t<li>5</li>\n",
       "\t<li>6</li>\n",
       "</ol>\n"
      ],
      "text/latex": [
       "\\begin{enumerate*}\n",
       "\\item 1\n",
       "\\item 2\n",
       "\\item 3\n",
       "\\item 4\n",
       "\\item 5\n",
       "\\item 6\n",
       "\\end{enumerate*}\n"
      ],
      "text/markdown": [
       "1. 1\n",
       "2. 2\n",
       "3. 3\n",
       "4. 4\n",
       "5. 5\n",
       "6. 6\n",
       "\n",
       "\n"
      ],
      "text/plain": [
       "[1] 1 2 3 4 5 6"
      ]
     },
     "metadata": {},
     "output_type": "display_data"
    },
    {
     "data": {
      "text/html": [
       "<ol class=list-inline>\n",
       "\t<li>1</li>\n",
       "\t<li>2</li>\n",
       "\t<li>3</li>\n",
       "\t<li>4</li>\n",
       "\t<li>5</li>\n",
       "\t<li>6</li>\n",
       "\t<li>10</li>\n",
       "\t<li>1</li>\n",
       "\t<li>2</li>\n",
       "\t<li>3</li>\n",
       "\t<li>4</li>\n",
       "\t<li>5</li>\n",
       "\t<li>6</li>\n",
       "</ol>\n"
      ],
      "text/latex": [
       "\\begin{enumerate*}\n",
       "\\item 1\n",
       "\\item 2\n",
       "\\item 3\n",
       "\\item 4\n",
       "\\item 5\n",
       "\\item 6\n",
       "\\item 10\n",
       "\\item 1\n",
       "\\item 2\n",
       "\\item 3\n",
       "\\item 4\n",
       "\\item 5\n",
       "\\item 6\n",
       "\\end{enumerate*}\n"
      ],
      "text/markdown": [
       "1. 1\n",
       "2. 2\n",
       "3. 3\n",
       "4. 4\n",
       "5. 5\n",
       "6. 6\n",
       "7. 10\n",
       "8. 1\n",
       "9. 2\n",
       "10. 3\n",
       "11. 4\n",
       "12. 5\n",
       "13. 6\n",
       "\n",
       "\n"
      ],
      "text/plain": [
       " [1]  1  2  3  4  5  6 10  1  2  3  4  5  6"
      ]
     },
     "metadata": {},
     "output_type": "display_data"
    },
    {
     "data": {
      "text/html": [
       "<ol class=list-inline>\n",
       "\t<li>1</li>\n",
       "\t<li>2</li>\n",
       "\t<li>8</li>\n",
       "\t<li>9</li>\n",
       "\t<li>10</li>\n",
       "\t<li>3</li>\n",
       "\t<li>4</li>\n",
       "\t<li>5</li>\n",
       "\t<li>6</li>\n",
       "</ol>\n"
      ],
      "text/latex": [
       "\\begin{enumerate*}\n",
       "\\item 1\n",
       "\\item 2\n",
       "\\item 8\n",
       "\\item 9\n",
       "\\item 10\n",
       "\\item 3\n",
       "\\item 4\n",
       "\\item 5\n",
       "\\item 6\n",
       "\\end{enumerate*}\n"
      ],
      "text/markdown": [
       "1. 1\n",
       "2. 2\n",
       "3. 8\n",
       "4. 9\n",
       "5. 10\n",
       "6. 3\n",
       "7. 4\n",
       "8. 5\n",
       "9. 6\n",
       "\n",
       "\n"
      ],
      "text/plain": [
       "[1]  1  2  8  9 10  3  4  5  6"
      ]
     },
     "metadata": {},
     "output_type": "display_data"
    }
   ],
   "source": [
    "vec <- 1:6\n",
    "vec\n",
    "\n",
    "newVec <- c(vec,10,vec)\n",
    "newVec\n",
    "\n",
    "## Inserting Data into a Vector\n",
    "append(vec,8:10, after = 2)"
   ]
  },
  {
   "cell_type": "markdown",
   "metadata": {},
   "source": [
    "<div id=\"sec_whatisR\" style=\"direction:rtl;line-height:300%;\">\n",
    "\t<font face=\"XB Niloofar\" size=5>\n",
    "        <br>\n",
    "        <b>\n",
    "            قانون بازیافت در R :\n",
    "        </b>\n",
    "        <br>\n",
    "        پیش‌تر گفتیم که در هنگام انجام اعمال محاسباتی در R بر روی بردار‌ها ، R عمل مورد نظر را بر روی تک‌تک اعضا‌ی دو بردار انجام می‌دهد.\n",
    "        <br>\n",
    "        حال اگر طول دو بردار برابر نباشد چه می‌شود ؟\n",
    "        <br><br>\n",
    "        در این مواقع R ، قانون بازیافت را بر روی بردار کوچک‌تر اعمال می‌کند. \n",
    "        <br>\n",
    "        یعنی دوباره از عضو اول بردار کوچک‌تر شروع می‌کند و به عنوان عضو بعدی از آن استفاده می‌کند.       \n",
    "</font>\n",
    "</div>"
   ]
  },
  {
   "cell_type": "code",
   "execution_count": 47,
   "metadata": {},
   "outputs": [
    {
     "data": {
      "text/html": [
       "<ol class=list-inline>\n",
       "\t<li>2</li>\n",
       "\t<li>4</li>\n",
       "\t<li>6</li>\n",
       "\t<li>5</li>\n",
       "\t<li>7</li>\n",
       "\t<li>9</li>\n",
       "</ol>\n"
      ],
      "text/latex": [
       "\\begin{enumerate*}\n",
       "\\item 2\n",
       "\\item 4\n",
       "\\item 6\n",
       "\\item 5\n",
       "\\item 7\n",
       "\\item 9\n",
       "\\end{enumerate*}\n"
      ],
      "text/markdown": [
       "1. 2\n",
       "2. 4\n",
       "3. 6\n",
       "4. 5\n",
       "5. 7\n",
       "6. 9\n",
       "\n",
       "\n"
      ],
      "text/plain": [
       "[1] 2 4 6 5 7 9"
      ]
     },
     "metadata": {},
     "output_type": "display_data"
    },
    {
     "name": "stderr",
     "output_type": "stream",
     "text": [
      "Warning message in c(1, 2, 3, 10, 20, 30) + 1:5:\n",
      "“longer object length is not a multiple of shorter object length”"
     ]
    },
    {
     "data": {
      "text/html": [
       "<ol class=list-inline>\n",
       "\t<li>2</li>\n",
       "\t<li>4</li>\n",
       "\t<li>6</li>\n",
       "\t<li>14</li>\n",
       "\t<li>25</li>\n",
       "\t<li>31</li>\n",
       "</ol>\n"
      ],
      "text/latex": [
       "\\begin{enumerate*}\n",
       "\\item 2\n",
       "\\item 4\n",
       "\\item 6\n",
       "\\item 14\n",
       "\\item 25\n",
       "\\item 31\n",
       "\\end{enumerate*}\n"
      ],
      "text/markdown": [
       "1. 2\n",
       "2. 4\n",
       "3. 6\n",
       "4. 14\n",
       "5. 25\n",
       "6. 31\n",
       "\n",
       "\n"
      ],
      "text/plain": [
       "[1]  2  4  6 14 25 31"
      ]
     },
     "metadata": {},
     "output_type": "display_data"
    }
   ],
   "source": [
    "1:6 + 1:3\n",
    "\n",
    "## 1 2 3 4 5 6\n",
    "##    +\n",
    "## 1 2 3 1 2 3\n",
    "\n",
    "c(1,2,3,10,20,30) + 1:5\n",
    "\n",
    "## 1 2 3 10 20 30\n",
    "##     +\n",
    "## 1 2 3  4  5  1"
   ]
  },
  {
   "cell_type": "markdown",
   "metadata": {},
   "source": [
    "<div id=\"sec_whatisR\" style=\"direction:rtl;line-height:300%;\">\n",
    "\t<font face=\"XB Niloofar\" size=5>\n",
    "        <br>\n",
    "        <b>\n",
    "            ماتریس‌ها\n",
    "        </b>\n",
    "        <br>\n",
    "        یکی از داده‌ساختار‌ های موجود در R ماتریس‌ها می‌باشند. \n",
    "</font>\n",
    "</div>"
   ]
  },
  {
   "cell_type": "code",
   "execution_count": 48,
   "metadata": {},
   "outputs": [
    {
     "data": {
      "text/html": [
       "<table>\n",
       "<tbody>\n",
       "\t<tr><td>1</td><td>3</td><td>5</td><td>7</td></tr>\n",
       "\t<tr><td>2</td><td>4</td><td>6</td><td>8</td></tr>\n",
       "</tbody>\n",
       "</table>\n"
      ],
      "text/latex": [
       "\\begin{tabular}{llll}\n",
       "\t 1 & 3 & 5 & 7\\\\\n",
       "\t 2 & 4 & 6 & 8\\\\\n",
       "\\end{tabular}\n"
      ],
      "text/markdown": [
       "\n",
       "| 1 | 3 | 5 | 7 |\n",
       "| 2 | 4 | 6 | 8 |\n",
       "\n"
      ],
      "text/plain": [
       "     [,1] [,2] [,3] [,4]\n",
       "[1,] 1    3    5    7   \n",
       "[2,] 2    4    6    8   "
      ]
     },
     "metadata": {},
     "output_type": "display_data"
    },
    {
     "data": {
      "text/html": [
       "<table>\n",
       "<tbody>\n",
       "\t<tr><td>1</td><td>2</td><td>3</td><td>4</td></tr>\n",
       "\t<tr><td>5</td><td>6</td><td>7</td><td>8</td></tr>\n",
       "</tbody>\n",
       "</table>\n"
      ],
      "text/latex": [
       "\\begin{tabular}{llll}\n",
       "\t 1 & 2 & 3 & 4\\\\\n",
       "\t 5 & 6 & 7 & 8\\\\\n",
       "\\end{tabular}\n"
      ],
      "text/markdown": [
       "\n",
       "| 1 | 2 | 3 | 4 |\n",
       "| 5 | 6 | 7 | 8 |\n",
       "\n"
      ],
      "text/plain": [
       "     [,1] [,2] [,3] [,4]\n",
       "[1,] 1    2    3    4   \n",
       "[2,] 5    6    7    8   "
      ]
     },
     "metadata": {},
     "output_type": "display_data"
    },
    {
     "data": {
      "text/html": [
       "<table>\n",
       "<tbody>\n",
       "\t<tr><td>1</td><td>5</td></tr>\n",
       "\t<tr><td>2</td><td>6</td></tr>\n",
       "\t<tr><td>3</td><td>7</td></tr>\n",
       "\t<tr><td>4</td><td>8</td></tr>\n",
       "</tbody>\n",
       "</table>\n"
      ],
      "text/latex": [
       "\\begin{tabular}{ll}\n",
       "\t 1 & 5\\\\\n",
       "\t 2 & 6\\\\\n",
       "\t 3 & 7\\\\\n",
       "\t 4 & 8\\\\\n",
       "\\end{tabular}\n"
      ],
      "text/markdown": [
       "\n",
       "| 1 | 5 |\n",
       "| 2 | 6 |\n",
       "| 3 | 7 |\n",
       "| 4 | 8 |\n",
       "\n"
      ],
      "text/plain": [
       "     [,1] [,2]\n",
       "[1,] 1    5   \n",
       "[2,] 2    6   \n",
       "[3,] 3    7   \n",
       "[4,] 4    8   "
      ]
     },
     "metadata": {},
     "output_type": "display_data"
    }
   ],
   "source": [
    "## Create a matrix using matrix() function\n",
    "\n",
    "# 2*4 matrix\n",
    "matrix(1:8, nrow = 2)\n",
    "\n",
    "#2*4 matrix, each row is filled first\n",
    "matrix(1:8,nrow = 2, byrow = T)\n",
    "\n",
    "# 4*2 matrix\n",
    "matrix(1:8, ncol = 2)\n"
   ]
  },
  {
   "cell_type": "code",
   "execution_count": 49,
   "metadata": {},
   "outputs": [
    {
     "data": {
      "text/html": [
       "<table>\n",
       "<thead><tr><th></th><th scope=col>col one</th><th scope=col>col two</th></tr></thead>\n",
       "<tbody>\n",
       "\t<tr><th scope=row>row one</th><td>1</td><td>3</td></tr>\n",
       "\t<tr><th scope=row>row two</th><td>2</td><td>4</td></tr>\n",
       "</tbody>\n",
       "</table>\n"
      ],
      "text/latex": [
       "\\begin{tabular}{r|ll}\n",
       "  & col one & col two\\\\\n",
       "\\hline\n",
       "\trow one & 1 & 3\\\\\n",
       "\trow two & 2 & 4\\\\\n",
       "\\end{tabular}\n"
      ],
      "text/markdown": [
       "\n",
       "| <!--/--> | col one | col two |\n",
       "|---|---|---|\n",
       "| row one | 1 | 3 |\n",
       "| row two | 2 | 4 |\n",
       "\n"
      ],
      "text/plain": [
       "        col one col two\n",
       "row one 1       3      \n",
       "row two 2       4      "
      ]
     },
     "metadata": {},
     "output_type": "display_data"
    }
   ],
   "source": [
    "## Name columns and rows of a matrix\n",
    "m <- matrix(1:4,nrow = 2)\n",
    "colnames(m) <- c(\"col one\",\"col two\")\n",
    "rownames(m) <- c(\"row one\",\"row two\")\n",
    "m"
   ]
  },
  {
   "cell_type": "code",
   "execution_count": 50,
   "metadata": {},
   "outputs": [
    {
     "name": "stdout",
     "output_type": "stream",
     "text": [
      "col one col two \n",
      "      2       4 \n",
      "row one row two \n",
      "      3       4 \n",
      "[1] 4\n"
     ]
    }
   ],
   "source": [
    "## Calling elements\n",
    "print(m[2,])\n",
    "print(m[,2])\n",
    "print(m[2,2])\n"
   ]
  },
  {
   "cell_type": "code",
   "execution_count": 51,
   "metadata": {},
   "outputs": [
    {
     "name": "stdout",
     "output_type": "stream",
     "text": [
      "[1] \"Scalar Multiplication:\"\n"
     ]
    },
    {
     "data": {
      "text/html": [
       "<table>\n",
       "<thead><tr><th></th><th scope=col>col one</th><th scope=col>col two</th></tr></thead>\n",
       "<tbody>\n",
       "\t<tr><th scope=row>row one</th><td>2</td><td>6</td></tr>\n",
       "\t<tr><th scope=row>row two</th><td>4</td><td>8</td></tr>\n",
       "</tbody>\n",
       "</table>\n"
      ],
      "text/latex": [
       "\\begin{tabular}{r|ll}\n",
       "  & col one & col two\\\\\n",
       "\\hline\n",
       "\trow one & 2 & 6\\\\\n",
       "\trow two & 4 & 8\\\\\n",
       "\\end{tabular}\n"
      ],
      "text/markdown": [
       "\n",
       "| <!--/--> | col one | col two |\n",
       "|---|---|---|\n",
       "| row one | 2 | 6 |\n",
       "| row two | 4 | 8 |\n",
       "\n"
      ],
      "text/plain": [
       "        col one col two\n",
       "row one 2       6      \n",
       "row two 4       8      "
      ]
     },
     "metadata": {},
     "output_type": "display_data"
    },
    {
     "name": "stdout",
     "output_type": "stream",
     "text": [
      "[1] \"Element Wise Multiplication:\"\n"
     ]
    },
    {
     "data": {
      "text/html": [
       "<table>\n",
       "<thead><tr><th></th><th scope=col>col one</th><th scope=col>col two</th></tr></thead>\n",
       "<tbody>\n",
       "\t<tr><th scope=row>row one</th><td>1 </td><td> 9</td></tr>\n",
       "\t<tr><th scope=row>row two</th><td>4 </td><td>16</td></tr>\n",
       "</tbody>\n",
       "</table>\n"
      ],
      "text/latex": [
       "\\begin{tabular}{r|ll}\n",
       "  & col one & col two\\\\\n",
       "\\hline\n",
       "\trow one & 1  &  9\\\\\n",
       "\trow two & 4  & 16\\\\\n",
       "\\end{tabular}\n"
      ],
      "text/markdown": [
       "\n",
       "| <!--/--> | col one | col two |\n",
       "|---|---|---|\n",
       "| row one | 1  |  9 |\n",
       "| row two | 4  | 16 |\n",
       "\n"
      ],
      "text/plain": [
       "        col one col two\n",
       "row one 1        9     \n",
       "row two 4       16     "
      ]
     },
     "metadata": {},
     "output_type": "display_data"
    },
    {
     "name": "stdout",
     "output_type": "stream",
     "text": [
      "[1] \"Matrix Multiplication:\"\n"
     ]
    },
    {
     "data": {
      "text/html": [
       "<table>\n",
       "<thead><tr><th></th><th scope=col>col one</th><th scope=col>col two</th></tr></thead>\n",
       "<tbody>\n",
       "\t<tr><th scope=row>row one</th><td> 7</td><td>15</td></tr>\n",
       "\t<tr><th scope=row>row two</th><td>10</td><td>22</td></tr>\n",
       "</tbody>\n",
       "</table>\n"
      ],
      "text/latex": [
       "\\begin{tabular}{r|ll}\n",
       "  & col one & col two\\\\\n",
       "\\hline\n",
       "\trow one &  7 & 15\\\\\n",
       "\trow two & 10 & 22\\\\\n",
       "\\end{tabular}\n"
      ],
      "text/markdown": [
       "\n",
       "| <!--/--> | col one | col two |\n",
       "|---|---|---|\n",
       "| row one |  7 | 15 |\n",
       "| row two | 10 | 22 |\n",
       "\n"
      ],
      "text/plain": [
       "        col one col two\n",
       "row one  7      15     \n",
       "row two 10      22     "
      ]
     },
     "metadata": {},
     "output_type": "display_data"
    }
   ],
   "source": [
    "# Arithmatic on matrices\n",
    "print(\"Scalar Multiplication:\")\n",
    "m * 2\n",
    "print(\"Element Wise Multiplication:\")\n",
    "m * m\n",
    "print(\"Matrix Multiplication:\")\n",
    "m %*% m"
   ]
  },
  {
   "cell_type": "markdown",
   "metadata": {},
   "source": [
    "<div id=\"sec_whatisR\" style=\"direction:rtl;line-height:300%;\">\n",
    "\t<font face=\"XB Niloofar\" size=5>\n",
    "        <br>\n",
    "        <b>\n",
    "Dataframes:\n",
    "        </b>\n",
    "        <br>\n",
    "        Dataframe مهم‌ترین و پراستفاده‌ترین داده‌ساختاری است که در R می‌باشد.\n",
    "        <br>\n",
    "        یک جدول که در آن هر ستون شامل مقادیر یک متغیر و هر سطر شامل مجموعه‌ای از مقادیر هر ستون می‌باشد.\n",
    "        \n",
    "</font>\n",
    "</div>"
   ]
  },
  {
   "cell_type": "code",
   "execution_count": 52,
   "metadata": {},
   "outputs": [
    {
     "data": {
      "text/html": [
       "<table>\n",
       "<thead><tr><th scope=col>ID</th><th scope=col>Name</th><th scope=col>Grade</th></tr></thead>\n",
       "<tbody>\n",
       "\t<tr><td>1      </td><td>Ali    </td><td>20.0   </td></tr>\n",
       "\t<tr><td>2      </td><td>Reza   </td><td>16.0   </td></tr>\n",
       "\t<tr><td>3      </td><td>Kiarash</td><td>17.5   </td></tr>\n",
       "\t<tr><td>4      </td><td>Nima   </td><td>14.0   </td></tr>\n",
       "\t<tr><td>5      </td><td>Hossein</td><td>19.0   </td></tr>\n",
       "</tbody>\n",
       "</table>\n"
      ],
      "text/latex": [
       "\\begin{tabular}{r|lll}\n",
       " ID & Name & Grade\\\\\n",
       "\\hline\n",
       "\t 1       & Ali     & 20.0   \\\\\n",
       "\t 2       & Reza    & 16.0   \\\\\n",
       "\t 3       & Kiarash & 17.5   \\\\\n",
       "\t 4       & Nima    & 14.0   \\\\\n",
       "\t 5       & Hossein & 19.0   \\\\\n",
       "\\end{tabular}\n"
      ],
      "text/markdown": [
       "\n",
       "| ID | Name | Grade |\n",
       "|---|---|---|\n",
       "| 1       | Ali     | 20.0    |\n",
       "| 2       | Reza    | 16.0    |\n",
       "| 3       | Kiarash | 17.5    |\n",
       "| 4       | Nima    | 14.0    |\n",
       "| 5       | Hossein | 19.0    |\n",
       "\n"
      ],
      "text/plain": [
       "  ID Name    Grade\n",
       "1 1  Ali     20.0 \n",
       "2 2  Reza    16.0 \n",
       "3 3  Kiarash 17.5 \n",
       "4 4  Nima    14.0 \n",
       "5 5  Hossein 19.0 "
      ]
     },
     "metadata": {},
     "output_type": "display_data"
    }
   ],
   "source": [
    "## Create a dataframe with data.frame()\n",
    "df <- data.frame(\n",
    "    ID = 1:5,\n",
    "    Name = c(\"Ali\",\"Reza\",\"Kiarash\",\"Nima\",\"Hossein\"),\n",
    "    Grade = c(20,16,17.5,14,19))\n",
    "\n",
    "df"
   ]
  },
  {
   "cell_type": "code",
   "execution_count": 53,
   "metadata": {},
   "outputs": [
    {
     "data": {
      "text/plain": [
       "       ID         Name       Grade     \n",
       " Min.   :1   Ali    :1   Min.   :14.0  \n",
       " 1st Qu.:2   Hossein:1   1st Qu.:16.0  \n",
       " Median :3   Kiarash:1   Median :17.5  \n",
       " Mean   :3   Nima   :1   Mean   :17.3  \n",
       " 3rd Qu.:4   Reza   :1   3rd Qu.:19.0  \n",
       " Max.   :5               Max.   :20.0  "
      ]
     },
     "metadata": {},
     "output_type": "display_data"
    }
   ],
   "source": [
    "## Summary of a dataframe\n",
    "summary(df)"
   ]
  },
  {
   "cell_type": "code",
   "execution_count": 54,
   "metadata": {},
   "outputs": [
    {
     "data": {
      "text/html": [
       "<ol class=list-inline>\n",
       "\t<li>20</li>\n",
       "\t<li>16</li>\n",
       "\t<li>17.5</li>\n",
       "\t<li>14</li>\n",
       "\t<li>19</li>\n",
       "</ol>\n"
      ],
      "text/latex": [
       "\\begin{enumerate*}\n",
       "\\item 20\n",
       "\\item 16\n",
       "\\item 17.5\n",
       "\\item 14\n",
       "\\item 19\n",
       "\\end{enumerate*}\n"
      ],
      "text/markdown": [
       "1. 20\n",
       "2. 16\n",
       "3. 17.5\n",
       "4. 14\n",
       "5. 19\n",
       "\n",
       "\n"
      ],
      "text/plain": [
       "[1] 20.0 16.0 17.5 14.0 19.0"
      ]
     },
     "metadata": {},
     "output_type": "display_data"
    }
   ],
   "source": [
    "##Selecting elements\n",
    "df$Grade"
   ]
  },
  {
   "cell_type": "code",
   "execution_count": 55,
   "metadata": {},
   "outputs": [
    {
     "data": {
      "text/html": [
       "<table>\n",
       "<thead><tr><th scope=col>ID</th><th scope=col>Name</th><th scope=col>Grade</th></tr></thead>\n",
       "<tbody>\n",
       "\t<tr><td>1  </td><td>Ali</td><td>20 </td></tr>\n",
       "</tbody>\n",
       "</table>\n"
      ],
      "text/latex": [
       "\\begin{tabular}{r|lll}\n",
       " ID & Name & Grade\\\\\n",
       "\\hline\n",
       "\t 1   & Ali & 20 \\\\\n",
       "\\end{tabular}\n"
      ],
      "text/markdown": [
       "\n",
       "| ID | Name | Grade |\n",
       "|---|---|---|\n",
       "| 1   | Ali | 20  |\n",
       "\n"
      ],
      "text/plain": [
       "  ID Name Grade\n",
       "1 1  Ali  20   "
      ]
     },
     "metadata": {},
     "output_type": "display_data"
    }
   ],
   "source": [
    "df[1,]"
   ]
  },
  {
   "cell_type": "code",
   "execution_count": 56,
   "metadata": {},
   "outputs": [
    {
     "data": {
      "text/html": [
       "<ol class=list-inline>\n",
       "\t<li>1</li>\n",
       "\t<li>2</li>\n",
       "\t<li>3</li>\n",
       "\t<li>4</li>\n",
       "\t<li>5</li>\n",
       "</ol>\n"
      ],
      "text/latex": [
       "\\begin{enumerate*}\n",
       "\\item 1\n",
       "\\item 2\n",
       "\\item 3\n",
       "\\item 4\n",
       "\\item 5\n",
       "\\end{enumerate*}\n"
      ],
      "text/markdown": [
       "1. 1\n",
       "2. 2\n",
       "3. 3\n",
       "4. 4\n",
       "5. 5\n",
       "\n",
       "\n"
      ],
      "text/plain": [
       "[1] 1 2 3 4 5"
      ]
     },
     "metadata": {},
     "output_type": "display_data"
    }
   ],
   "source": [
    "df[,1]"
   ]
  },
  {
   "cell_type": "code",
   "execution_count": 57,
   "metadata": {},
   "outputs": [
    {
     "data": {
      "text/html": [
       "<table>\n",
       "<thead><tr><th></th><th scope=col>ID</th><th scope=col>Name</th><th scope=col>Grade</th></tr></thead>\n",
       "<tbody>\n",
       "\t<tr><th scope=row>1</th><td>1      </td><td>Ali    </td><td>20     </td></tr>\n",
       "\t<tr><th scope=row>5</th><td>5      </td><td>Hossein</td><td>19     </td></tr>\n",
       "</tbody>\n",
       "</table>\n"
      ],
      "text/latex": [
       "\\begin{tabular}{r|lll}\n",
       "  & ID & Name & Grade\\\\\n",
       "\\hline\n",
       "\t1 & 1       & Ali     & 20     \\\\\n",
       "\t5 & 5       & Hossein & 19     \\\\\n",
       "\\end{tabular}\n"
      ],
      "text/markdown": [
       "\n",
       "| <!--/--> | ID | Name | Grade |\n",
       "|---|---|---|---|\n",
       "| 1 | 1       | Ali     | 20      |\n",
       "| 5 | 5       | Hossein | 19      |\n",
       "\n"
      ],
      "text/plain": [
       "  ID Name    Grade\n",
       "1 1  Ali     20   \n",
       "5 5  Hossein 19   "
      ]
     },
     "metadata": {},
     "output_type": "display_data"
    }
   ],
   "source": [
    "df[df$Grade > 18,]"
   ]
  },
  {
   "cell_type": "code",
   "execution_count": 58,
   "metadata": {},
   "outputs": [
    {
     "data": {
      "text/html": [
       "<table>\n",
       "<thead><tr><th scope=col>ID</th><th scope=col>Grade</th></tr></thead>\n",
       "<tbody>\n",
       "\t<tr><td>1   </td><td>20.0</td></tr>\n",
       "\t<tr><td>2   </td><td>16.0</td></tr>\n",
       "\t<tr><td>3   </td><td>17.5</td></tr>\n",
       "\t<tr><td>4   </td><td>14.0</td></tr>\n",
       "\t<tr><td>5   </td><td>19.0</td></tr>\n",
       "</tbody>\n",
       "</table>\n"
      ],
      "text/latex": [
       "\\begin{tabular}{r|ll}\n",
       " ID & Grade\\\\\n",
       "\\hline\n",
       "\t 1    & 20.0\\\\\n",
       "\t 2    & 16.0\\\\\n",
       "\t 3    & 17.5\\\\\n",
       "\t 4    & 14.0\\\\\n",
       "\t 5    & 19.0\\\\\n",
       "\\end{tabular}\n"
      ],
      "text/markdown": [
       "\n",
       "| ID | Grade |\n",
       "|---|---|\n",
       "| 1    | 20.0 |\n",
       "| 2    | 16.0 |\n",
       "| 3    | 17.5 |\n",
       "| 4    | 14.0 |\n",
       "| 5    | 19.0 |\n",
       "\n"
      ],
      "text/plain": [
       "  ID Grade\n",
       "1 1  20.0 \n",
       "2 2  16.0 \n",
       "3 3  17.5 \n",
       "4 4  14.0 \n",
       "5 5  19.0 "
      ]
     },
     "metadata": {},
     "output_type": "display_data"
    }
   ],
   "source": [
    "df[c(\"ID\",\"Grade\")]"
   ]
  },
  {
   "cell_type": "markdown",
   "metadata": {},
   "source": [
    "<div id=\"sec_whatisR\" style=\"direction:rtl;line-height:300%;\">\n",
    "\t<font face=\"XB Niloofar\" size=5>\n",
    "        <br>\n",
    "       همینطور هنگامی که مجموعه‌داده‌ای را از یک فایل می‌خوانید به صورت dataframe دخیره می‌شود.\n",
    "</font>\n",
    "</div>"
   ]
  },
  {
   "cell_type": "code",
   "execution_count": 59,
   "metadata": {},
   "outputs": [
    {
     "name": "stderr",
     "output_type": "stream",
     "text": [
      "Warning message in file(file, \"rt\"):\n",
      "“cannot open file 'Address of the file': No such file or directory”"
     ]
    },
    {
     "ename": "ERROR",
     "evalue": "Error in file(file, \"rt\"): cannot open the connection\n",
     "output_type": "error",
     "traceback": [
      "Error in file(file, \"rt\"): cannot open the connection\nTraceback:\n",
      "1. read.csv(\"Address of the file\")",
      "2. read.table(file = file, header = header, sep = sep, quote = quote, \n .     dec = dec, fill = fill, comment.char = comment.char, ...)",
      "3. file(file, \"rt\")"
     ]
    }
   ],
   "source": [
    "## Depending on the format of dataset\n",
    "## for example inorder to read a .csv file, use read.csv()\n",
    "read.csv(\"Address of the file\")"
   ]
  },
  {
   "cell_type": "markdown",
   "metadata": {},
   "source": [
    "<br>\n",
    "<div id=\"sec_additional\" style=\"direction:rtl;line-height:300%;\">\n",
    "\t<font face=\"XB Niloofar\" size=5>\n",
    "\t\t<font color=#006FDE size=6>\n",
    "نکات تکمیلی\n",
    "        </font>\n",
    "\t\t<p></p>\n",
    "\t\t<hr>\n",
    "        یکی از بهترین راه‌های دسترسی سریع و مرور نکات پایه‌ای R ، استفاده از cheat sheet های R می‌باشد.\n",
    "        <br>\n",
    "        در کنار این نوت‌بوک cheat sheet نکات پایه‌ای قرار داده‌شده که می‌توانید از آن استفاده کنید.\n",
    "        <br>\n",
    "        همینطور یک cheat sheet دیگر برای کار با R Studio نیز قرار داده شده است.\n",
    "</font>\n",
    "</div>"
   ]
  }
 ],
 "metadata": {
  "kernelspec": {
   "display_name": "R",
   "language": "R",
   "name": "ir"
  },
  "language_info": {
   "codemirror_mode": "r",
   "file_extension": ".r",
   "mimetype": "text/x-r-source",
   "name": "R",
   "pygments_lexer": "r",
   "version": "3.5.2"
  },
  "latex_envs": {
   "LaTeX_envs_menu_present": true,
   "autoclose": false,
   "autocomplete": true,
   "bibliofile": "biblio.bib",
   "cite_by": "apalike",
   "current_citInitial": 1,
   "eqLabelWithNumbers": true,
   "eqNumInitial": 1,
   "hotkeys": {
    "equation": "Ctrl-E",
    "itemize": "Ctrl-I"
   },
   "labels_anchors": false,
   "latex_user_defs": false,
   "report_style_numbering": false,
   "user_envs_cfg": false
  },
  "toc": {
   "base_numbering": 1,
   "nav_menu": {},
   "number_sections": true,
   "sideBar": true,
   "skip_h1_title": false,
   "title_cell": "Table of Contents",
   "title_sidebar": "Contents",
   "toc_cell": false,
   "toc_position": {},
   "toc_section_display": true,
   "toc_window_display": false
  },
  "varInspector": {
   "cols": {
    "lenName": 16,
    "lenType": 16,
    "lenVar": 40
   },
   "kernels_config": {
    "python": {
     "delete_cmd_postfix": "",
     "delete_cmd_prefix": "del ",
     "library": "var_list.py",
     "varRefreshCmd": "print(var_dic_list())"
    },
    "r": {
     "delete_cmd_postfix": ") ",
     "delete_cmd_prefix": "rm(",
     "library": "var_list.r",
     "varRefreshCmd": "cat(var_dic_list()) "
    }
   },
   "types_to_exclude": [
    "module",
    "function",
    "builtin_function_or_method",
    "instance",
    "_Feature"
   ],
   "window_display": false
  }
 },
 "nbformat": 4,
 "nbformat_minor": 2
}
