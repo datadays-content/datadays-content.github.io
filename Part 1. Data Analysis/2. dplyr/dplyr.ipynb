{
 "cells": [
  {
   "cell_type": "markdown",
   "metadata": {},
   "source": [
    "<body  style=\"background-color:rgb(11, 42, 73);\">\n",
    "    <div style=\"direction:rtl;line-height:300%;background-color:rgb(11, 42, 73);\">\n",
    "            <img src=\"./figs/Logo Final.jpg\" style=\"position:reletive;margin-top:15pt;float:right;background-color:rgb(11, 42, 73);\" width=\"200\" height=\"200\"/>\n",
    "    <img src=\"./figs/Sharif Logo.png\" style=\"position:reletive;margin-top:25pt;margin-left:20pt;float:left;background-color:rgb(11, 42, 73);\" width=\"170\" height=\"170\"/>\n",
    "\t\t<div align=center>\n",
    "\t\t\t<font face=\"IranNastaliq\" size=30 color=white>\n",
    "\t\t\t\t<p></p>\n",
    "\t\t\t\t<p></p>\n",
    "                <br>\n",
    "به نام خدا\n",
    "\t\t\t\t<p></p>\n",
    "\t\t\t</font>\n",
    "\t\t</div>\n",
    "        \t\t\t<div align=center style=\"color:white\">\n",
    "                        <font size=50 face=\"XB Niloofar\">\n",
    "                            <br>\n",
    "                           استفاده از کتاب‌خانه‌ی dplyr\n",
    "                        </font>\n",
    "            </div>\n",
    "    </div>\n",
    "</body>"
   ]
  },
  {
   "cell_type": "markdown",
   "metadata": {},
   "source": [
    "<div style=\"direction:rtl;line-height:300%;\">\n",
    "\t<font face=\"XB Niloofar\" size=5>\n",
    "\t\t<hr />\n",
    "\t\t<style type=\"text/css\" scoped>\n",
    "        p{\n",
    "        border: 1px solid #a2a9b1;background-color: #f8f9fa;display: inline-block;\n",
    "        };\n",
    "        </style>\n",
    "\t\t<div>\n",
    "\t\t\t<h3 style=\"color:#0051A2\">فهرست مطالب</h3>\n",
    "\t\t\t<ul style=\"margin-right: 0;\">\n",
    "\t\t\t\t<li>\n",
    "                    <a href=\"#sec_why_dplyr\">\n",
    "                        dplyr چیست و چرا؟\n",
    "                    </a>\n",
    "                </li>\n",
    "                <li>\n",
    "                    <a href=\"#sec_install_dplyr\">\n",
    "                        نصب dplyr\n",
    "                    </a>\n",
    "                </li>\n",
    "                <li>\n",
    "                    <a href=\"#sec_soccer_analysis\">\n",
    "                        تحلیل داده‌های مسابقات فوتبال\n",
    "                    </a>\n",
    "                </li>\n",
    "                <li>\n",
    "                    <a href=\"#sec_dplyr_func\">\n",
    "                        آشنایی با توابع اصلی dplyr\n",
    "                    </a>\n",
    "                </li>\n",
    "                <li>\n",
    "                    <a href=\"#sec_Pipe_operator\">\n",
    "                        آشنایی با عمل‌گر Pipe\n",
    "                    </a>\n",
    "                </li>\n",
    "                <li>\n",
    "                    <a href=\"#sec_examples\">\n",
    "                        چند مثال از کاربرد dplyr\n",
    "                    </a>\n",
    "                </li>\n",
    "\t\t\t</ul>\n",
    "            <hr>\n",
    "\t\t</div>\n",
    "\t</font>\n",
    "</div>"
   ]
  },
  {
   "cell_type": "markdown",
   "metadata": {},
   "source": [
    "<br>\n",
    "<div id=\"sec_why_dplyr\" style=\"direction:rtl;line-height:300%;\">\n",
    "\t<font face=\"XB Niloofar\" size=5>\n",
    "\t\t<font color=#006FDE size=6>\n",
    "dplyr چیست و چرا؟\n",
    "        </font>\n",
    "        <br>\n",
    "        مصورسازی داده‌ها ابزار بسیار مهمی برای فهمیدن و کسب اطلاعات از داده‌هاست اما موارد معدودی وجود دارد که داده را به همان صورتی که نیاز داریم دریافت می‌کنیم؛ معمولا به متغیرهای جدید، خلاصه‌سازی، تغییر نام یا ترتیب متغیرها نیاز داریم تا داده را به شکلی دربیاوریم که کار با آن ساده‌تر شود. کتاب‌خانهٔ dplyr ابزاری برای این کار است. اما چرا برای این مقصود از این پکیج استفاده می‌کنیم؟\n",
    "\t\t<p>\n",
    "            <li>برای بررسی و تبدیل داده مناسب است.</li>\n",
    "            <li>برای خواندن و نوشتن ساده و شهودی است؛ به خصوص زمانی که از سینتکس زنجیره‌ای استفاده می‌کنیم.</li>\n",
    "            <li> بر روی دیتافریم‌ها سریع کار می‌کند.</li>\n",
    "            <li> این کتاب‌خانه یکی از کتاب‌خانه‌های مجموعهٔ tidyverse است که برای کاهای مربوط به علوم داده در R طراحی شده است.</li>\n",
    "         </p>\n",
    "        <img src=\"figs/tidyverse.png\">\n",
    "\t</font>\n",
    "</div>"
   ]
  },
  {
   "cell_type": "markdown",
   "metadata": {},
   "source": [
    "<div id=\"sec_install_dplyr\" style=\"direction:rtl;line-height:300%;\">\n",
    "\t<font face=\"XB Niloofar\" size=5>\n",
    "\t\t<font color=#006FDE size=6>\n",
    "نصب کردن dplyr\n",
    "        </font>\n",
    "</div>"
   ]
  },
  {
   "cell_type": "code",
   "execution_count": 1,
   "metadata": {},
   "outputs": [
    {
     "name": "stderr",
     "output_type": "stream",
     "text": [
      "also installing the dependencies ‘Rcpp’, ‘rlang’\n",
      "\n",
      "Warning message in install.packages(\"dplyr\"):\n",
      "“installation of package ‘Rcpp’ had non-zero exit status”Warning message in install.packages(\"dplyr\"):\n",
      "“installation of package ‘rlang’ had non-zero exit status”Warning message in install.packages(\"dplyr\"):\n",
      "“installation of package ‘dplyr’ had non-zero exit status”Updating HTML index of packages in '.Library'\n",
      "Making 'packages.html' ... done\n",
      "\n",
      "Attaching package: ‘dplyr’\n",
      "\n",
      "The following objects are masked from ‘package:stats’:\n",
      "\n",
      "    filter, lag\n",
      "\n",
      "The following objects are masked from ‘package:base’:\n",
      "\n",
      "    intersect, setdiff, setequal, union\n",
      "\n"
     ]
    }
   ],
   "source": [
    "install.packages(\"dplyr\")\n",
    "library(dplyr)"
   ]
  },
  {
   "cell_type": "markdown",
   "metadata": {},
   "source": [
    "<div style=\"direction:rtl;line-height:300%;\">\n",
    "\t<font face=\"XB Niloofar\" size=5>\n",
    "        در ادامه قصد داریم با استفاده از این کتاب‌خانه داده‌های مربوط به چند دیتاست را تحلیل کنیم. برای نصب این دیتاست‌ها کد زیر را اجرا کنید.\n",
    "        <br>\n",
    "توجه کنید که برای نصب کردن پکیج‌ها باید از کنسول Rstudio استفاده کنید.\n",
    "    </font>\n",
    "</div>"
   ]
  },
  {
   "cell_type": "code",
   "execution_count": 2,
   "metadata": {},
   "outputs": [
    {
     "name": "stderr",
     "output_type": "stream",
     "text": [
      "── Attaching packages ─────────────────────────────────────── tidyverse 1.2.1 ──\n",
      "✔ ggplot2 3.0.0     ✔ readr   1.1.1\n",
      "✔ tibble  1.4.2     ✔ purrr   0.2.5\n",
      "✔ tidyr   0.8.1     ✔ stringr 1.3.1\n",
      "✔ ggplot2 3.0.0     ✔ forcats 0.3.0\n",
      "── Conflicts ────────────────────────────────────────── tidyverse_conflicts() ──\n",
      "✖ dplyr::filter() masks stats::filter()\n",
      "✖ dplyr::lag()    masks stats::lag()\n"
     ]
    },
    {
     "ename": "ERROR",
     "evalue": "Error in library(devtools): there is no package called ‘devtools’\n",
     "output_type": "error",
     "traceback": [
      "Error in library(devtools): there is no package called ‘devtools’\nTraceback:\n",
      "1. library(devtools)",
      "2. stop(txt, domain = NA)"
     ]
    }
   ],
   "source": [
    "library(tidyverse)\n",
    "library(devtools)\n",
    "\n",
    "# install.packages(\"nycflights13\")\n",
    "library(nycflights13)\n",
    "\n",
    "# install_github('jalapic/engsoccerdata', username = \"jalapic\")\n",
    "library(engsoccerdata)"
   ]
  },
  {
   "cell_type": "markdown",
   "metadata": {},
   "source": [
    "<div id=\"sec_soccer_analysis\" style=\"direction:rtl;line-height:300%;\">\n",
    "    <font face=\"XB Niloofar\" size=5>\n",
    "        <font color=#006FDE size=6>\n",
    "تحلیل داده‌های مسابقات فوتبال\n",
    "        </font>\n",
    "</div>"
   ]
  },
  {
   "cell_type": "code",
   "execution_count": null,
   "metadata": {},
   "outputs": [],
   "source": [
    "data(package=\"engsoccerdata\")    # lists datasets currently available\n",
    "fdb = as.tbl(england)\n",
    "head(fdb,10)"
   ]
  },
  {
   "cell_type": "markdown",
   "metadata": {},
   "source": [
    "<div style=\"direction:rtl;line-height:300%;\">\n",
    "\t<font face=\"XB Niloofar\" size=5>\n",
    " پس از اجرای کد بالا لیستی از مجموعه‌داده‌های موجود در این کتاب‌خانه نمایش داده می‌شود.\n",
    "        <br>\n",
    "        برای مثال بیایید با دیتاهای مربوط به مسابقات فوتبال انگلستان شروع کنیم. ابتدا باید داده‌ها را به قالب tibbleها دربیاوریم. tibbleها نوعی از دیتافریم‌ها هستند که برای کار کردن در tidyverse بهینه‌سازی شده‌اند. قطعه کد زیر این کار را انجام می‌دهد. (توجه کنید که تابع <code>head</code> چند سطر بالایی یک دیتافریم را نمایش می‌دهد) \n",
    "    </font>\n",
    "</div>"
   ]
  },
  {
   "cell_type": "code",
   "execution_count": null,
   "metadata": {},
   "outputs": [],
   "source": [
    "fdb = as.tbl(england)\n",
    "head(fdb,10)"
   ]
  },
  {
   "cell_type": "markdown",
   "metadata": {},
   "source": [
    "<div id=\"sec_why_dplyr\" style=\"direction:rtl;line-height:300%;\">\n",
    "\t<font face=\"XB Niloofar\" size=5>\n",
    "\t\tهر کدام از ستون‌های این جدول نوع خاص خود را دارند. هر نوع داده یک عبارت اختصاری دارد؛ عبارت‌های اختصاری رایج در ادامه معرفی می‌شوند.\n",
    "        <br>\n",
    "        <p>\n",
    "            <li><code>int</code>: برای اعداد صحیح</li>\n",
    "            <li><code>dbl</code>: برای اعداد حقیقی</li>\n",
    "            <li> <code>chr</code>: برای آرایه‌های کاراکتری یا رشته‌ها</li>\n",
    "            <li> <code>dttm</code>: برای تاریخ-زمان‌ها (یک date+یک time)</li>\n",
    "            <li><code>lgl</code>: برای متغیرها و آرایه‌های منطقی که تنها مقادیر <code>TRUE</code> یا <code>FALSE</code> می‌پذیرند</li>\n",
    "            <li><code>fctr</code>: فاکتورها که R از آن‌ها برای متغیرهای دارای دسته‌بندی (که مقادیر مشخص از پیش تعیین‌شده می‌پذیرند) استفاده می‌کند.</li>\n",
    "            <li><code>date</code>: برای تاریخ‌ها</li>\n",
    "         </p>\n",
    "\t</font>\n",
    "</div>"
   ]
  },
  {
   "cell_type": "markdown",
   "metadata": {},
   "source": [
    "<br>\n",
    "<div id=\"sec_dplyr_func\" style=\"direction:rtl;line-height:300%;\">\n",
    "\t<font face=\"XB Niloofar\" size=5>\n",
    "\t\t<font color=#006FDE size=6>\n",
    "        توابع dplyr\n",
    "        </font>\n",
    "        <br>\n",
    "        در این بخش شما با پنج تابع کلیدی در کتاب‌خانهٔ dplyr آشنا می‌شوید که به شما این امکان را می‌دهند تا عمدهٔ چالش‌های مربوط به بخش داده‌ورزی خود را حل کنید\n",
    "        <p>\n",
    "            <li><code>filter()</code>انتخاب بر اساس مقدار</li>\n",
    "            <li><code>arrange()</code>تغییر ترتیب ردیف‌ها</li>\n",
    "            <li> <code>select()</code>انتخاب متغیرها بر اساس نام‌شان</li>\n",
    "            <li> <code>mutate()</code>ساختن متغیرهای جدیدی که تابعی از متغیرهای موجود هستند</li>\n",
    "            <li><code>summarise()</code>تبدیل کردن چند مقدار به یک خلاصه (summery)</li>\n",
    "            تمامی این توابع می‌توانند همراه با تابع <code>group_by()</code> استفاده شوند که می‌تواند محدودهٔ عمل‌کرد هر کدام از آن‌ها را از کل مجموعه داده (dataset) به گروه‌به‌گروه تغییر دهد.\n",
    "            در مجموع این شش تابع افعال زبان داده‌ورزی را تشکیل می‌دهند.\n",
    "         </p>\n",
    "            همهٔ افعال به شکل مشابهی کار می‌کنند.<br>\n",
    "            ۱. نخستین ورودی یک دیتافریم است.<br>\n",
    "            ۲. ورودی‌های بعدی با استفاده از متغیرها مشخص می‌کنند که قرار است با دیتافریم چه کار کنیم<br>\n",
    "        ۳. نتیجهٔ نهایی یک دیتافریم جدید است.<br>\n",
    "        این ویژگی مشترک باعث می‌شود تا بتوانیم قدم‌هایی ساده را به صورت زنجیروار برداریم تا به نتایج پیچیده‌ای برسیم.\n",
    "    </font>\n",
    "</div>"
   ]
  },
  {
   "cell_type": "markdown",
   "metadata": {},
   "source": [
    "<br>\n",
    "<div id=\"sec_Pipe_operator\" style=\"direction:rtl;line-height:300%;\">\n",
    "\t<font face=\"XB Niloofar\" size=5>\n",
    "\t\t<font color=#006FDE size=6>\n",
    "        آشنایی با عمل‌گر Pipe\n",
    "        </font>\n",
    "        <br>\n",
    "        پیش از ادامه بیایید با یک عمل‌گر جالب در R آشنا شویم. عمل‌گر Pipe <code>%>%</code> از کتاب‌خانهٔ <code>magrittr</code> به ما این قابلیت را می‌دهد تا به جای استفاده کردن توابع به صورت تودرتو آن‌ها را به صورت زنجیروار استفاده کنیم. استفاده از این عمل‌گر برای کار با dplyr اجباری نیست با این حال به شکل واضحی خوانایی کد شما را افزایش می‌دهد. <br>\n",
    "        <code>%>%</code> خروجی یک تابع را به عنوان ورودی اول به یک تابع دیگر پاس می‌دهد. <br> برای مثال قطعه کد زیر ۲۰ نمونه از توزیع نرمال می‌گیرد سپس با هم جمع می‌کند سپس حاصل‌جمع را تا یک رقم اعشار گرد می‌کند. \n",
    "    </font>\n",
    "</div>"
   ]
  },
  {
   "cell_type": "code",
   "execution_count": null,
   "metadata": {},
   "outputs": [],
   "source": [
    "round(sum(rnorm(20)),1)\n",
    "20 %>% rnorm() %>% sum() %>% round(1)"
   ]
  },
  {
   "cell_type": "markdown",
   "metadata": {},
   "source": [
    "<div id=\"sec_Pipe_operator\" style=\"direction:rtl;line-height:300%;\">\n",
    "\t\t<font face = \"XB Niloofar\" color=#006FDE size=6>\n",
    "        آشنایی با عمل‌گر Pipe\n",
    "        </font>\n",
    "        </div>\n",
    "<div style=\"line-height:300%;\">\n",
    "\t<font face=\"XB Zar\" size=5>\n",
    "        <p>\n",
    "            <li><code>x %>% f</code> معادل <code>f(x)</code></li>\n",
    "            <li><code>x %>% f(y, .)</code> معادل <code>f(y, x)</code></li>\n",
    "            <li><code>x %>% f %>% g %>% h</code> معادل <code> h(g(f(x)))</code></li>\n",
    "            <li><code>x %>% f(y, z = .)</code> معادل <code> f(y, z = x)</code></li>\n",
    "            <li><code>x %>% f(y = nrow(.), z = ncol(.))</code> معادل <code> f(x, y = nrow(x), z = ncol(x))</code></li>\n",
    "        </p>\n",
    "        <div style=\"direction:rtl\">\n",
    "            ساختن توابع تک‌متغیره: هر زنجیری از توابع که با <code>.</code> آغاز شود؛ به عنوان خروجی یک تابع برمی‌گرداند که بعدا می‌تواند بر روی مقادیر مورد نظر ما اعمال شود.\n",
    "        </div>\n",
    "    </font>\n",
    "</div>"
   ]
  },
  {
   "cell_type": "code",
   "execution_count": null,
   "metadata": {},
   "outputs": [],
   "source": [
    "f <- . %>% cos %>% sin \n",
    "# is equivalent to \n",
    "f <- function(.) sin(cos(.))"
   ]
  },
  {
   "cell_type": "markdown",
   "metadata": {},
   "source": [
    "<br>\n",
    "<div id=\"sec_examples\" style=\"direction:rtl;line-height:300%;\">\n",
    "    <font face = \"XB Niloofar\" color=#006FDE size=6>\n",
    "     چند مثال از کار با dplyr\n",
    "    </font>\n",
    "</div>"
   ]
  },
  {
   "cell_type": "markdown",
   "metadata": {},
   "source": [
    "<div style=\"direction:rtl;line-height:300%;\">\n",
    "\t<font face=\"XB Niloofar\" size=5>\n",
    "        پیدا کردن همهٔ بازی‌های خانگی\n",
    "    </font>\n",
    "</div>"
   ]
  },
  {
   "cell_type": "code",
   "execution_count": null,
   "metadata": {},
   "outputs": [],
   "source": [
    "## Extract home games\n",
    "fdb %>% \n",
    "  filter(home == \"Manchester United\" ) -> HManU \n",
    "HManU\n",
    "dim(HManU)"
   ]
  },
  {
   "cell_type": "markdown",
   "metadata": {},
   "source": [
    "<div style=\"direction:rtl;line-height:300%;\">\n",
    "\t<font face=\"XB Niloofar\" size=5>\n",
    "        پیدا کردن همهٔ بازی‌هایی که تیم منچستریونایتد در آن‌ها شرکت داشته است.\n",
    "    </font>\n",
    "</div>"
   ]
  },
  {
   "cell_type": "code",
   "execution_count": null,
   "metadata": {},
   "outputs": [],
   "source": [
    "# Extract all records of team\n",
    "fdb %>%\n",
    "  filter(home == \"Manchester United\" | visitor == \"Manchester United\") -> ManU \n",
    "ManU\n",
    "dim(ManU)"
   ]
  },
  {
   "cell_type": "markdown",
   "metadata": {},
   "source": [
    "<div style=\"direction:rtl;line-height:300%;\">\n",
    "\t<font face=\"XB Niloofar\" size=5>\n",
    "        نمایش چند ستون از دیتافریم ManU.\n",
    "    </font>\n",
    "</div>"
   ]
  },
  {
   "cell_type": "code",
   "execution_count": null,
   "metadata": {},
   "outputs": [],
   "source": [
    "# Select columns with select()\n",
    "ManU %>%\n",
    "  select(home,visitor,FT)"
   ]
  },
  {
   "cell_type": "markdown",
   "metadata": {},
   "source": [
    "<div style=\"direction:rtl;line-height:300%;\">\n",
    "\t<font face=\"XB Niloofar\" size=5>\n",
    "        نمایش چند ستون متوالی از دیتافریم ManU\n",
    "    </font>\n",
    "</div>"
   ]
  },
  {
   "cell_type": "code",
   "execution_count": null,
   "metadata": {},
   "outputs": [],
   "source": [
    "# Select sequence of columns\n",
    "ManU %>%\n",
    "  select(Date:FT)"
   ]
  },
  {
   "cell_type": "markdown",
   "metadata": {},
   "source": [
    "<div style=\"direction:rtl;line-height:300%;\">\n",
    "\t<font face=\"XB Niloofar\" size=5>\n",
    "        پیدا کردن بردهای خانگی و خارج از خانهٔ یک تیم؛ (تابع <code>rbind</code> دو دیتافریم را بر اساس ردیف‌های آن ادغام می‌کند.) به نحوهٔ استفاده از تابع summarise توجه کنید.\n",
    "    </font>\n",
    "</div>"
   ]
  },
  {
   "cell_type": "code",
   "execution_count": null,
   "metadata": {},
   "outputs": [],
   "source": [
    "# Find Game Winning Numbers\n",
    "# Home wins\n",
    "ManU %>% filter(home == \"Manchester United\") %>% \n",
    "  select(team = home, opp = visitor,Season, MG = hgoal,OG = vgoal) -> hw\n",
    "# Visitors wins\n",
    "ManU %>% filter(visitor == \"Manchester United\") %>% \n",
    "  select(team = visitor, opp = home,Season, Season, MG = vgoal,OG = hgoal) -> vw\n",
    "wman = rbind(hw,vw) # bind home and visitors wins\n",
    "head(wman,2)\n",
    "# Total result summary\n",
    "wman %>% summarise(Win = sum(MG > OG),Equal = sum(MG == OG),Loose = sum(MG < OG))"
   ]
  },
  {
   "cell_type": "markdown",
   "metadata": {},
   "source": [
    "<div style=\"direction:rtl;line-height:300%;\">\n",
    "\t<font face=\"XB Niloofar\" size=5>\n",
    "        پیدا کردن ده بازی‌ای که در آن‌ها بیش‌ترین تعداد گل ردوبدل شده است. تابع <code>desc()</code> برای مرتب کردن یک ستون به صورت نزولی به کار می‌رود\n",
    "    </font>\n",
    "</div>"
   ]
  },
  {
   "cell_type": "code",
   "execution_count": null,
   "metadata": {},
   "outputs": [],
   "source": [
    "# Ten high-scoring football match!\n",
    "ManU %>%\n",
    "  arrange(desc(totgoal)) %>%\n",
    "  slice(1:10)"
   ]
  },
  {
   "cell_type": "markdown",
   "metadata": {},
   "source": [
    "<div style=\"direction:rtl;line-height:300%;\">\n",
    "\t<font face=\"XB Niloofar\" size=5>\n",
    "        پیدا کردن بزرگ‌ترین بردهای خانگی\n",
    "    </font>\n",
    "</div>"
   ]
  },
  {
   "cell_type": "code",
   "execution_count": null,
   "metadata": {},
   "outputs": [],
   "source": [
    "# The Top 10 Biggest Home Wins\n",
    "ManU %>% \n",
    "  filter(home == \"Manchester United\") %>% \n",
    "  arrange(desc(hgoal),vgoal) %>% \n",
    "  slice(1:10)"
   ]
  },
  {
   "cell_type": "markdown",
   "metadata": {},
   "source": [
    "<div style=\"direction:rtl;line-height:300%;\">\n",
    "\t<font face=\"XB Niloofar\" size=5>\n",
    "        پیدا کردن همهٔ تیم‌هایی مجزایی که با میهمان تیم منچستر یونایتد بوده‌اند\n",
    "    </font>\n",
    "</div>"
   ]
  },
  {
   "cell_type": "code",
   "execution_count": null,
   "metadata": {},
   "outputs": [],
   "source": [
    "# Extract distinct Teams\n",
    "ManU %>%\n",
    "  filter(home == \"Manchester United\") %>% \n",
    "  select(visitor) %>% \n",
    "  distinct()"
   ]
  },
  {
   "cell_type": "markdown",
   "metadata": {},
   "source": [
    "<div style=\"direction:rtl;line-height:300%;\">\n",
    "\t<font face=\"XB Niloofar\" size=5>\n",
    "        پیدا کردن همهٔ بازی‌های مجزا\n",
    "    </font>\n",
    "</div>"
   ]
  },
  {
   "cell_type": "code",
   "execution_count": null,
   "metadata": {},
   "outputs": [],
   "source": [
    "# Extract distinct Games\n",
    "ManU %>% \n",
    "  select(home, visitor) %>% \n",
    "  distinct()"
   ]
  },
  {
   "cell_type": "markdown",
   "metadata": {},
   "source": [
    "<div style=\"direction:rtl;line-height:300%;\">\n",
    "\t<font face=\"XB Niloofar\" size=5>\n",
    "اضافه کردن یک ستون جدید.\n",
    "    </font>\n",
    "</div>"
   ]
  },
  {
   "cell_type": "code",
   "execution_count": null,
   "metadata": {},
   "outputs": [],
   "source": [
    "# Add column\n",
    "ManU %>% \n",
    "  mutate(gain = goaldif / totgoal) %>% \n",
    "  select(gain,goaldif,totgoal)"
   ]
  },
  {
   "cell_type": "markdown",
   "metadata": {},
   "source": [
    "<div style=\"direction:rtl;line-height:300%;\">\n",
    "\t<font face=\"XB Niloofar\" size=5>\n",
    "انتخاب دو بازی به صورت تصادفی (به دو شیوه)\n",
    "    </font>\n",
    "</div>"
   ]
  },
  {
   "cell_type": "code",
   "execution_count": null,
   "metadata": {
    "scrolled": true
   },
   "outputs": [],
   "source": [
    "# Randomly sample games by number \n",
    "ManU %>%\n",
    "  sample_n(2)\n",
    "\n",
    "ManU %>% \n",
    "  sample_frac(0.01) %>% \n",
    "  head(2)"
   ]
  },
  {
   "cell_type": "markdown",
   "metadata": {},
   "source": [
    "<div style=\"direction:rtl;line-height:300%;\">\n",
    "\t<font face=\"XB Niloofar\" size=5>\n",
    "گروه‌بندی کردن داده بر اساس یک یا چند متغیر\n",
    "    </font>\n",
    "</div>"
   ]
  },
  {
   "cell_type": "code",
   "execution_count": null,
   "metadata": {},
   "outputs": [],
   "source": [
    "# Group a data by one or more variable\n",
    "ManU %>% \n",
    "  filter(home == \"Manchester United\") %>% \n",
    "  group_by(Season,tier) -> mang\n",
    "mang"
   ]
  },
  {
   "cell_type": "markdown",
   "metadata": {},
   "source": [
    "<div style=\"direction:rtl;line-height:300%;\">\n",
    "\t<font face=\"XB Niloofar\" size=5>\n",
    "خلاصه‌سازی\n",
    "    </font>\n",
    "</div>"
   ]
  },
  {
   "cell_type": "code",
   "execution_count": null,
   "metadata": {},
   "outputs": [],
   "source": [
    "# make summary table\n",
    "mang %>% \n",
    "  summarise(\n",
    "    HAG = round(mean(hgoal),2),\n",
    "    HTG = sum(hgoal),\n",
    "    HW = sum(result == \"H\")) -> Hstat\n",
    "Hstat"
   ]
  },
  {
   "cell_type": "code",
   "execution_count": null,
   "metadata": {},
   "outputs": [],
   "source": [
    "# Table of Manchester United results\n",
    "ManU %>%\n",
    "  filter(visitor == \"Manchester United\") %>%\n",
    "  group_by(Season,tier) %>% \n",
    "  summarise(\n",
    "    VAG = round(mean(hgoal),2),\n",
    "    VTG = sum(hgoal),\n",
    "    VW = sum(result == \"H\")) -> VStat\n",
    "full_join(Hstat,VStat)"
   ]
  },
  {
   "cell_type": "markdown",
   "metadata": {},
   "source": [
    "<br>\n",
    "<div id=\"c\" style=\"direction:rtl;line-height:300%;\">\n",
    "\t<font face=\"XB Niloofar\" size=5>\n",
    "\t\t<font color=#006FDE size=6>\n",
    "        منابعی برای مطالعهٔ بیش‌تر\n",
    "        </font>\n",
    "\t\t<hr>\n",
    "        <li><a href=\"https://r4ds.had.co.nz/transform.html\">\n",
    "        کتاب R برای علوم داده\n",
    "            </a></li><li>\n",
    "        lecture ۵ از منابع درسی تحلیل داده‌ها - دکتر احیایی و دکتر میرصادقی\n",
    "        </li></font>\n",
    "</div>"
   ]
  }
 ],
 "metadata": {
  "kernelspec": {
   "display_name": "R",
   "language": "R",
   "name": "ir"
  },
  "language_info": {
   "codemirror_mode": "r",
   "file_extension": ".r",
   "mimetype": "text/x-r-source",
   "name": "R",
   "pygments_lexer": "r",
   "version": "3.5.1"
  },
  "latex_envs": {
   "LaTeX_envs_menu_present": true,
   "autoclose": false,
   "autocomplete": true,
   "bibliofile": "biblio.bib",
   "cite_by": "apalike",
   "current_citInitial": 1,
   "eqLabelWithNumbers": true,
   "eqNumInitial": 1,
   "hotkeys": {
    "equation": "Ctrl-E",
    "itemize": "Ctrl-I"
   },
   "labels_anchors": false,
   "latex_user_defs": false,
   "report_style_numbering": false,
   "user_envs_cfg": false
  },
  "toc": {
   "base_numbering": 1,
   "nav_menu": {},
   "number_sections": true,
   "sideBar": true,
   "skip_h1_title": false,
   "title_cell": "Table of Contents",
   "title_sidebar": "Contents",
   "toc_cell": false,
   "toc_position": {},
   "toc_section_display": true,
   "toc_window_display": false
  },
  "varInspector": {
   "cols": {
    "lenName": 16,
    "lenType": 16,
    "lenVar": 40
   },
   "kernels_config": {
    "python": {
     "delete_cmd_postfix": "",
     "delete_cmd_prefix": "del ",
     "library": "var_list.py",
     "varRefreshCmd": "print(var_dic_list())"
    },
    "r": {
     "delete_cmd_postfix": ") ",
     "delete_cmd_prefix": "rm(",
     "library": "var_list.r",
     "varRefreshCmd": "cat(var_dic_list()) "
    }
   },
   "types_to_exclude": [
    "module",
    "function",
    "builtin_function_or_method",
    "instance",
    "_Feature"
   ],
   "window_display": false
  }
 },
 "nbformat": 4,
 "nbformat_minor": 2
}
